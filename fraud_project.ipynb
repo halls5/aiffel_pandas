{
 "cells": [
  {
   "cell_type": "code",
   "execution_count": 2,
   "id": "7dc75ee2",
   "metadata": {
    "id": "7dc75ee2",
    "outputId": "a90ef6a5-c776-43f1-cfed-0ebd60e2be12"
   },
   "outputs": [],
   "source": [
    "import pandas as pd\n",
    "import numpy as np\n",
    "import seaborn as sns"
   ]
  },
  {
   "cell_type": "code",
   "execution_count": 3,
   "id": "aa461d09",
   "metadata": {
    "id": "aa461d09"
   },
   "outputs": [],
   "source": [
    "cc_df = pd.read_csv('./data/fraud.csv')"
   ]
  },
  {
   "cell_type": "code",
   "execution_count": 4,
   "id": "13199902",
   "metadata": {
    "id": "13199902"
   },
   "outputs": [],
   "source": [
    "pd.set_option('display.max_columns', 50)\n",
    "# 최대 50개 컬럼 보여줘"
   ]
  },
  {
   "cell_type": "code",
   "execution_count": 5,
   "id": "8fd17c7b",
   "metadata": {
    "id": "8fd17c7b",
    "outputId": "77d23082-8061-4980-d83e-b5b753bfa5ec"
   },
   "outputs": [
    {
     "data": {
      "application/vnd.microsoft.datawrangler.viewer.v0+json": {
       "columns": [
        {
         "name": "index",
         "rawType": "int64",
         "type": "integer"
        },
        {
         "name": "trans_date_trans_time",
         "rawType": "object",
         "type": "string"
        },
        {
         "name": "cc_num",
         "rawType": "int64",
         "type": "integer"
        },
        {
         "name": "merchant",
         "rawType": "object",
         "type": "string"
        },
        {
         "name": "category",
         "rawType": "object",
         "type": "string"
        },
        {
         "name": "amt",
         "rawType": "float64",
         "type": "float"
        },
        {
         "name": "first",
         "rawType": "object",
         "type": "string"
        },
        {
         "name": "last",
         "rawType": "object",
         "type": "string"
        },
        {
         "name": "gender",
         "rawType": "object",
         "type": "string"
        },
        {
         "name": "street",
         "rawType": "object",
         "type": "string"
        },
        {
         "name": "city",
         "rawType": "object",
         "type": "string"
        },
        {
         "name": "state",
         "rawType": "object",
         "type": "string"
        },
        {
         "name": "zip",
         "rawType": "int64",
         "type": "integer"
        },
        {
         "name": "lat",
         "rawType": "float64",
         "type": "float"
        },
        {
         "name": "long",
         "rawType": "float64",
         "type": "float"
        },
        {
         "name": "city_pop",
         "rawType": "int64",
         "type": "integer"
        },
        {
         "name": "job",
         "rawType": "object",
         "type": "string"
        },
        {
         "name": "dob",
         "rawType": "object",
         "type": "string"
        },
        {
         "name": "trans_num",
         "rawType": "object",
         "type": "string"
        },
        {
         "name": "unix_time",
         "rawType": "int64",
         "type": "integer"
        },
        {
         "name": "merch_lat",
         "rawType": "float64",
         "type": "float"
        },
        {
         "name": "merch_long",
         "rawType": "float64",
         "type": "float"
        },
        {
         "name": "is_fraud",
         "rawType": "int64",
         "type": "integer"
        }
       ],
       "ref": "9e0f2a52-1e1f-4ab6-a09b-8707c944fbb0",
       "rows": [
        [
         "0",
         "2019-01-01 00:00:44",
         "630423337322",
         "fraud_Heller, Gutmann and Zieme",
         "grocery_pos",
         "107.23",
         "Stephanie",
         "Gill",
         "F",
         "43039 Riley Greens Suite 393",
         "Orient",
         "WA",
         "99160",
         "48.8878",
         "-118.2105",
         "149",
         "Special educational needs teacher",
         "1978-06-21",
         "1f76529f8574734946361c461b024d99",
         "1325376044",
         "49.159047",
         "-118.186462",
         "0"
        ],
        [
         "1",
         "2019-01-01 00:12:34",
         "4956828990005111019",
         "fraud_Schultz, Simonis and Little",
         "grocery_pos",
         "44.71",
         "Kenneth",
         "Robinson",
         "M",
         "269 Sanchez Rapids",
         "Elizabeth",
         "NJ",
         "7208",
         "40.6747",
         "-74.2239",
         "124967",
         "Operational researcher",
         "1980-12-21",
         "09eff9c806365e2a6be12c1bbab3d70e",
         "1325376754",
         "40.079588",
         "-74.84808699999999",
         "0"
        ],
        [
         "2",
         "2019-01-01 00:17:16",
         "180048185037117",
         "fraud_Kling-Grant",
         "grocery_net",
         "46.28",
         "Mary",
         "Wall",
         "F",
         "2481 Mills Lock",
         "Plainfield",
         "NJ",
         "7060",
         "40.6152",
         "-74.415",
         "71485",
         "Leisure centre manager",
         "1974-07-19",
         "19e23c6a300c774354417befe4f31f8c",
         "1325377036",
         "40.021888",
         "-74.228188",
         "0"
        ],
        [
         "3",
         "2019-01-01 00:20:15",
         "374930071163758",
         "fraud_Deckow-O'Conner",
         "grocery_pos",
         "64.09",
         "Daniel",
         "Escobar",
         "M",
         "61390 Hayes Port",
         "Romulus",
         "MI",
         "48174",
         "42.2203",
         "-83.3583",
         "31515",
         "Police officer",
         "1971-11-05",
         "6f363661ba6b55889e488dd178f2a0af",
         "1325377215",
         "42.360426",
         "-83.552316",
         "0"
        ],
        [
         "4",
         "2019-01-01 00:23:41",
         "2712209726293386",
         "fraud_Balistreri-Nader",
         "misc_pos",
         "25.58",
         "Jenna",
         "Brooks",
         "F",
         "50872 Alex Plain Suite 088",
         "Baton Rouge",
         "LA",
         "70808",
         "30.4066",
         "-91.1468",
         "378909",
         "Designer, furniture",
         "1977-02-22",
         "1654da2abfb9e79a5f99167fc9779558",
         "1325377421",
         "29.737426",
         "-90.853194",
         "0"
        ]
       ],
       "shape": {
        "columns": 22,
        "rows": 5
       }
      },
      "text/html": [
       "<div>\n",
       "<style scoped>\n",
       "    .dataframe tbody tr th:only-of-type {\n",
       "        vertical-align: middle;\n",
       "    }\n",
       "\n",
       "    .dataframe tbody tr th {\n",
       "        vertical-align: top;\n",
       "    }\n",
       "\n",
       "    .dataframe thead th {\n",
       "        text-align: right;\n",
       "    }\n",
       "</style>\n",
       "<table border=\"1\" class=\"dataframe\">\n",
       "  <thead>\n",
       "    <tr style=\"text-align: right;\">\n",
       "      <th></th>\n",
       "      <th>trans_date_trans_time</th>\n",
       "      <th>cc_num</th>\n",
       "      <th>merchant</th>\n",
       "      <th>category</th>\n",
       "      <th>amt</th>\n",
       "      <th>first</th>\n",
       "      <th>last</th>\n",
       "      <th>gender</th>\n",
       "      <th>street</th>\n",
       "      <th>city</th>\n",
       "      <th>state</th>\n",
       "      <th>zip</th>\n",
       "      <th>lat</th>\n",
       "      <th>long</th>\n",
       "      <th>city_pop</th>\n",
       "      <th>job</th>\n",
       "      <th>dob</th>\n",
       "      <th>trans_num</th>\n",
       "      <th>unix_time</th>\n",
       "      <th>merch_lat</th>\n",
       "      <th>merch_long</th>\n",
       "      <th>is_fraud</th>\n",
       "    </tr>\n",
       "  </thead>\n",
       "  <tbody>\n",
       "    <tr>\n",
       "      <th>0</th>\n",
       "      <td>2019-01-01 00:00:44</td>\n",
       "      <td>630423337322</td>\n",
       "      <td>fraud_Heller, Gutmann and Zieme</td>\n",
       "      <td>grocery_pos</td>\n",
       "      <td>107.23</td>\n",
       "      <td>Stephanie</td>\n",
       "      <td>Gill</td>\n",
       "      <td>F</td>\n",
       "      <td>43039 Riley Greens Suite 393</td>\n",
       "      <td>Orient</td>\n",
       "      <td>WA</td>\n",
       "      <td>99160</td>\n",
       "      <td>48.8878</td>\n",
       "      <td>-118.2105</td>\n",
       "      <td>149</td>\n",
       "      <td>Special educational needs teacher</td>\n",
       "      <td>1978-06-21</td>\n",
       "      <td>1f76529f8574734946361c461b024d99</td>\n",
       "      <td>1325376044</td>\n",
       "      <td>49.159047</td>\n",
       "      <td>-118.186462</td>\n",
       "      <td>0</td>\n",
       "    </tr>\n",
       "    <tr>\n",
       "      <th>1</th>\n",
       "      <td>2019-01-01 00:12:34</td>\n",
       "      <td>4956828990005111019</td>\n",
       "      <td>fraud_Schultz, Simonis and Little</td>\n",
       "      <td>grocery_pos</td>\n",
       "      <td>44.71</td>\n",
       "      <td>Kenneth</td>\n",
       "      <td>Robinson</td>\n",
       "      <td>M</td>\n",
       "      <td>269 Sanchez Rapids</td>\n",
       "      <td>Elizabeth</td>\n",
       "      <td>NJ</td>\n",
       "      <td>7208</td>\n",
       "      <td>40.6747</td>\n",
       "      <td>-74.2239</td>\n",
       "      <td>124967</td>\n",
       "      <td>Operational researcher</td>\n",
       "      <td>1980-12-21</td>\n",
       "      <td>09eff9c806365e2a6be12c1bbab3d70e</td>\n",
       "      <td>1325376754</td>\n",
       "      <td>40.079588</td>\n",
       "      <td>-74.848087</td>\n",
       "      <td>0</td>\n",
       "    </tr>\n",
       "    <tr>\n",
       "      <th>2</th>\n",
       "      <td>2019-01-01 00:17:16</td>\n",
       "      <td>180048185037117</td>\n",
       "      <td>fraud_Kling-Grant</td>\n",
       "      <td>grocery_net</td>\n",
       "      <td>46.28</td>\n",
       "      <td>Mary</td>\n",
       "      <td>Wall</td>\n",
       "      <td>F</td>\n",
       "      <td>2481 Mills Lock</td>\n",
       "      <td>Plainfield</td>\n",
       "      <td>NJ</td>\n",
       "      <td>7060</td>\n",
       "      <td>40.6152</td>\n",
       "      <td>-74.4150</td>\n",
       "      <td>71485</td>\n",
       "      <td>Leisure centre manager</td>\n",
       "      <td>1974-07-19</td>\n",
       "      <td>19e23c6a300c774354417befe4f31f8c</td>\n",
       "      <td>1325377036</td>\n",
       "      <td>40.021888</td>\n",
       "      <td>-74.228188</td>\n",
       "      <td>0</td>\n",
       "    </tr>\n",
       "    <tr>\n",
       "      <th>3</th>\n",
       "      <td>2019-01-01 00:20:15</td>\n",
       "      <td>374930071163758</td>\n",
       "      <td>fraud_Deckow-O'Conner</td>\n",
       "      <td>grocery_pos</td>\n",
       "      <td>64.09</td>\n",
       "      <td>Daniel</td>\n",
       "      <td>Escobar</td>\n",
       "      <td>M</td>\n",
       "      <td>61390 Hayes Port</td>\n",
       "      <td>Romulus</td>\n",
       "      <td>MI</td>\n",
       "      <td>48174</td>\n",
       "      <td>42.2203</td>\n",
       "      <td>-83.3583</td>\n",
       "      <td>31515</td>\n",
       "      <td>Police officer</td>\n",
       "      <td>1971-11-05</td>\n",
       "      <td>6f363661ba6b55889e488dd178f2a0af</td>\n",
       "      <td>1325377215</td>\n",
       "      <td>42.360426</td>\n",
       "      <td>-83.552316</td>\n",
       "      <td>0</td>\n",
       "    </tr>\n",
       "    <tr>\n",
       "      <th>4</th>\n",
       "      <td>2019-01-01 00:23:41</td>\n",
       "      <td>2712209726293386</td>\n",
       "      <td>fraud_Balistreri-Nader</td>\n",
       "      <td>misc_pos</td>\n",
       "      <td>25.58</td>\n",
       "      <td>Jenna</td>\n",
       "      <td>Brooks</td>\n",
       "      <td>F</td>\n",
       "      <td>50872 Alex Plain Suite 088</td>\n",
       "      <td>Baton Rouge</td>\n",
       "      <td>LA</td>\n",
       "      <td>70808</td>\n",
       "      <td>30.4066</td>\n",
       "      <td>-91.1468</td>\n",
       "      <td>378909</td>\n",
       "      <td>Designer, furniture</td>\n",
       "      <td>1977-02-22</td>\n",
       "      <td>1654da2abfb9e79a5f99167fc9779558</td>\n",
       "      <td>1325377421</td>\n",
       "      <td>29.737426</td>\n",
       "      <td>-90.853194</td>\n",
       "      <td>0</td>\n",
       "    </tr>\n",
       "  </tbody>\n",
       "</table>\n",
       "</div>"
      ],
      "text/plain": [
       "  trans_date_trans_time               cc_num  \\\n",
       "0   2019-01-01 00:00:44         630423337322   \n",
       "1   2019-01-01 00:12:34  4956828990005111019   \n",
       "2   2019-01-01 00:17:16      180048185037117   \n",
       "3   2019-01-01 00:20:15      374930071163758   \n",
       "4   2019-01-01 00:23:41     2712209726293386   \n",
       "\n",
       "                            merchant     category     amt      first  \\\n",
       "0    fraud_Heller, Gutmann and Zieme  grocery_pos  107.23  Stephanie   \n",
       "1  fraud_Schultz, Simonis and Little  grocery_pos   44.71    Kenneth   \n",
       "2                  fraud_Kling-Grant  grocery_net   46.28       Mary   \n",
       "3              fraud_Deckow-O'Conner  grocery_pos   64.09     Daniel   \n",
       "4             fraud_Balistreri-Nader     misc_pos   25.58      Jenna   \n",
       "\n",
       "       last gender                        street         city state    zip  \\\n",
       "0      Gill      F  43039 Riley Greens Suite 393       Orient    WA  99160   \n",
       "1  Robinson      M            269 Sanchez Rapids    Elizabeth    NJ   7208   \n",
       "2      Wall      F               2481 Mills Lock   Plainfield    NJ   7060   \n",
       "3   Escobar      M              61390 Hayes Port      Romulus    MI  48174   \n",
       "4    Brooks      F    50872 Alex Plain Suite 088  Baton Rouge    LA  70808   \n",
       "\n",
       "       lat      long  city_pop                                job         dob  \\\n",
       "0  48.8878 -118.2105       149  Special educational needs teacher  1978-06-21   \n",
       "1  40.6747  -74.2239    124967             Operational researcher  1980-12-21   \n",
       "2  40.6152  -74.4150     71485             Leisure centre manager  1974-07-19   \n",
       "3  42.2203  -83.3583     31515                     Police officer  1971-11-05   \n",
       "4  30.4066  -91.1468    378909                Designer, furniture  1977-02-22   \n",
       "\n",
       "                          trans_num   unix_time  merch_lat  merch_long  \\\n",
       "0  1f76529f8574734946361c461b024d99  1325376044  49.159047 -118.186462   \n",
       "1  09eff9c806365e2a6be12c1bbab3d70e  1325376754  40.079588  -74.848087   \n",
       "2  19e23c6a300c774354417befe4f31f8c  1325377036  40.021888  -74.228188   \n",
       "3  6f363661ba6b55889e488dd178f2a0af  1325377215  42.360426  -83.552316   \n",
       "4  1654da2abfb9e79a5f99167fc9779558  1325377421  29.737426  -90.853194   \n",
       "\n",
       "   is_fraud  \n",
       "0         0  \n",
       "1         0  \n",
       "2         0  \n",
       "3         0  \n",
       "4         0  "
      ]
     },
     "execution_count": 5,
     "metadata": {},
     "output_type": "execute_result"
    }
   ],
   "source": [
    "cc_df.head()\n",
    "# cc_num은 신용카드 번호\n",
    "# amt는 amount"
   ]
  },
  {
   "cell_type": "code",
   "execution_count": 6,
   "id": "81685035",
   "metadata": {
    "id": "81685035",
    "outputId": "8bd6a9a5-507a-41b4-fe95-593637bd5708"
   },
   "outputs": [
    {
     "name": "stdout",
     "output_type": "stream",
     "text": [
      "<class 'pandas.core.frame.DataFrame'>\n",
      "RangeIndex: 491134 entries, 0 to 491133\n",
      "Data columns (total 22 columns):\n",
      " #   Column                 Non-Null Count   Dtype  \n",
      "---  ------                 --------------   -----  \n",
      " 0   trans_date_trans_time  491134 non-null  object \n",
      " 1   cc_num                 491134 non-null  int64  \n",
      " 2   merchant               491134 non-null  object \n",
      " 3   category               491134 non-null  object \n",
      " 4   amt                    491134 non-null  float64\n",
      " 5   first                  491134 non-null  object \n",
      " 6   last                   491134 non-null  object \n",
      " 7   gender                 491134 non-null  object \n",
      " 8   street                 491134 non-null  object \n",
      " 9   city                   491134 non-null  object \n",
      " 10  state                  491134 non-null  object \n",
      " 11  zip                    491134 non-null  int64  \n",
      " 12  lat                    491134 non-null  float64\n",
      " 13  long                   491134 non-null  float64\n",
      " 14  city_pop               491134 non-null  int64  \n",
      " 15  job                    491134 non-null  object \n",
      " 16  dob                    491134 non-null  object \n",
      " 17  trans_num              491134 non-null  object \n",
      " 18  unix_time              491134 non-null  int64  \n",
      " 19  merch_lat              491134 non-null  float64\n",
      " 20  merch_long             491134 non-null  float64\n",
      " 21  is_fraud               491134 non-null  int64  \n",
      "dtypes: float64(5), int64(5), object(12)\n",
      "memory usage: 82.4+ MB\n"
     ]
    }
   ],
   "source": [
    "cc_df.info()"
   ]
  },
  {
   "cell_type": "code",
   "execution_count": 7,
   "id": "494d8d52",
   "metadata": {
    "id": "494d8d52",
    "outputId": "ee103383-1137-47a7-853c-d2478ef7cc91"
   },
   "outputs": [
    {
     "data": {
      "application/vnd.microsoft.datawrangler.viewer.v0+json": {
       "columns": [
        {
         "name": "index",
         "rawType": "object",
         "type": "string"
        },
        {
         "name": "cc_num",
         "rawType": "float64",
         "type": "float"
        },
        {
         "name": "amt",
         "rawType": "float64",
         "type": "float"
        },
        {
         "name": "zip",
         "rawType": "float64",
         "type": "float"
        },
        {
         "name": "lat",
         "rawType": "float64",
         "type": "float"
        },
        {
         "name": "long",
         "rawType": "float64",
         "type": "float"
        },
        {
         "name": "city_pop",
         "rawType": "float64",
         "type": "float"
        },
        {
         "name": "unix_time",
         "rawType": "float64",
         "type": "float"
        },
        {
         "name": "merch_lat",
         "rawType": "float64",
         "type": "float"
        },
        {
         "name": "merch_long",
         "rawType": "float64",
         "type": "float"
        },
        {
         "name": "is_fraud",
         "rawType": "float64",
         "type": "float"
        }
       ],
       "ref": "eb5425b4-4e7b-480d-851b-b2097d81a0c0",
       "rows": [
        [
         "count",
         "491134.0",
         "491134.0",
         "491134.0",
         "491134.0",
         "491134.0",
         "491134.0",
         "491134.0",
         "491134.0",
         "491134.0",
         "491134.0"
        ],
        [
         "mean",
         "3.70601291496033e+17",
         "69.05012037448029",
         "50770.532384237296",
         "37.93122960352978",
         "-90.495618579858",
         "121392.23047681488",
         "1358730376.693316",
         "37.93027171380316",
         "-90.49541107056324",
         "0.0025329136243876418"
        ],
        [
         "std",
         "1.2602286927226716e+18",
         "160.32286681547853",
         "26854.94796519077",
         "5.341192931091256",
         "12.990732015016762",
         "372575.13932585454",
         "18194023.142153665",
         "5.372985971742321",
         "13.004100232123493",
         "0.050264332455324245"
        ],
        [
         "min",
         "503874407318.0",
         "1.0",
         "1843.0",
         "24.6557",
         "-122.3456",
         "46.0",
         "1325376044.0",
         "23.655789",
         "-123.345106",
         "0.0"
        ],
        [
         "25%",
         "213112402583773.0",
         "8.96",
         "28405.0",
         "33.7467",
         "-97.2351",
         "1228.0",
         "1343087268.25",
         "33.7813875",
         "-96.984814",
         "0.0"
        ],
        [
         "50%",
         "3531129874770000.0",
         "42.17",
         "49628.0",
         "38.5072",
         "-87.5917",
         "5760.0",
         "1357256614.5",
         "38.5451235",
         "-87.5734405",
         "0.0"
        ],
        [
         "75%",
         "4653879239169997.0",
         "80.33",
         "75048.0",
         "41.5205",
         "-80.73100000000001",
         "50835.0",
         "1374625818.5",
         "41.624294000000006",
         "-80.685567",
         "0.0"
        ],
        [
         "max",
         "4.956828990005111e+18",
         "25086.94",
         "99323.0",
         "48.8878",
         "-69.9656",
         "2906700.0",
         "1388534374.0",
         "49.887523",
         "-68.965624",
         "1.0"
        ]
       ],
       "shape": {
        "columns": 10,
        "rows": 8
       }
      },
      "text/html": [
       "<div>\n",
       "<style scoped>\n",
       "    .dataframe tbody tr th:only-of-type {\n",
       "        vertical-align: middle;\n",
       "    }\n",
       "\n",
       "    .dataframe tbody tr th {\n",
       "        vertical-align: top;\n",
       "    }\n",
       "\n",
       "    .dataframe thead th {\n",
       "        text-align: right;\n",
       "    }\n",
       "</style>\n",
       "<table border=\"1\" class=\"dataframe\">\n",
       "  <thead>\n",
       "    <tr style=\"text-align: right;\">\n",
       "      <th></th>\n",
       "      <th>cc_num</th>\n",
       "      <th>amt</th>\n",
       "      <th>zip</th>\n",
       "      <th>lat</th>\n",
       "      <th>long</th>\n",
       "      <th>city_pop</th>\n",
       "      <th>unix_time</th>\n",
       "      <th>merch_lat</th>\n",
       "      <th>merch_long</th>\n",
       "      <th>is_fraud</th>\n",
       "    </tr>\n",
       "  </thead>\n",
       "  <tbody>\n",
       "    <tr>\n",
       "      <th>count</th>\n",
       "      <td>4.911340e+05</td>\n",
       "      <td>491134.000000</td>\n",
       "      <td>491134.000000</td>\n",
       "      <td>491134.000000</td>\n",
       "      <td>491134.000000</td>\n",
       "      <td>4.911340e+05</td>\n",
       "      <td>4.911340e+05</td>\n",
       "      <td>491134.000000</td>\n",
       "      <td>491134.000000</td>\n",
       "      <td>491134.000000</td>\n",
       "    </tr>\n",
       "    <tr>\n",
       "      <th>mean</th>\n",
       "      <td>3.706013e+17</td>\n",
       "      <td>69.050120</td>\n",
       "      <td>50770.532384</td>\n",
       "      <td>37.931230</td>\n",
       "      <td>-90.495619</td>\n",
       "      <td>1.213922e+05</td>\n",
       "      <td>1.358730e+09</td>\n",
       "      <td>37.930272</td>\n",
       "      <td>-90.495411</td>\n",
       "      <td>0.002533</td>\n",
       "    </tr>\n",
       "    <tr>\n",
       "      <th>std</th>\n",
       "      <td>1.260229e+18</td>\n",
       "      <td>160.322867</td>\n",
       "      <td>26854.947965</td>\n",
       "      <td>5.341193</td>\n",
       "      <td>12.990732</td>\n",
       "      <td>3.725751e+05</td>\n",
       "      <td>1.819402e+07</td>\n",
       "      <td>5.372986</td>\n",
       "      <td>13.004100</td>\n",
       "      <td>0.050264</td>\n",
       "    </tr>\n",
       "    <tr>\n",
       "      <th>min</th>\n",
       "      <td>5.038744e+11</td>\n",
       "      <td>1.000000</td>\n",
       "      <td>1843.000000</td>\n",
       "      <td>24.655700</td>\n",
       "      <td>-122.345600</td>\n",
       "      <td>4.600000e+01</td>\n",
       "      <td>1.325376e+09</td>\n",
       "      <td>23.655789</td>\n",
       "      <td>-123.345106</td>\n",
       "      <td>0.000000</td>\n",
       "    </tr>\n",
       "    <tr>\n",
       "      <th>25%</th>\n",
       "      <td>2.131124e+14</td>\n",
       "      <td>8.960000</td>\n",
       "      <td>28405.000000</td>\n",
       "      <td>33.746700</td>\n",
       "      <td>-97.235100</td>\n",
       "      <td>1.228000e+03</td>\n",
       "      <td>1.343087e+09</td>\n",
       "      <td>33.781388</td>\n",
       "      <td>-96.984814</td>\n",
       "      <td>0.000000</td>\n",
       "    </tr>\n",
       "    <tr>\n",
       "      <th>50%</th>\n",
       "      <td>3.531130e+15</td>\n",
       "      <td>42.170000</td>\n",
       "      <td>49628.000000</td>\n",
       "      <td>38.507200</td>\n",
       "      <td>-87.591700</td>\n",
       "      <td>5.760000e+03</td>\n",
       "      <td>1.357257e+09</td>\n",
       "      <td>38.545124</td>\n",
       "      <td>-87.573441</td>\n",
       "      <td>0.000000</td>\n",
       "    </tr>\n",
       "    <tr>\n",
       "      <th>75%</th>\n",
       "      <td>4.653879e+15</td>\n",
       "      <td>80.330000</td>\n",
       "      <td>75048.000000</td>\n",
       "      <td>41.520500</td>\n",
       "      <td>-80.731000</td>\n",
       "      <td>5.083500e+04</td>\n",
       "      <td>1.374626e+09</td>\n",
       "      <td>41.624294</td>\n",
       "      <td>-80.685567</td>\n",
       "      <td>0.000000</td>\n",
       "    </tr>\n",
       "    <tr>\n",
       "      <th>max</th>\n",
       "      <td>4.956829e+18</td>\n",
       "      <td>25086.940000</td>\n",
       "      <td>99323.000000</td>\n",
       "      <td>48.887800</td>\n",
       "      <td>-69.965600</td>\n",
       "      <td>2.906700e+06</td>\n",
       "      <td>1.388534e+09</td>\n",
       "      <td>49.887523</td>\n",
       "      <td>-68.965624</td>\n",
       "      <td>1.000000</td>\n",
       "    </tr>\n",
       "  </tbody>\n",
       "</table>\n",
       "</div>"
      ],
      "text/plain": [
       "             cc_num            amt            zip            lat  \\\n",
       "count  4.911340e+05  491134.000000  491134.000000  491134.000000   \n",
       "mean   3.706013e+17      69.050120   50770.532384      37.931230   \n",
       "std    1.260229e+18     160.322867   26854.947965       5.341193   \n",
       "min    5.038744e+11       1.000000    1843.000000      24.655700   \n",
       "25%    2.131124e+14       8.960000   28405.000000      33.746700   \n",
       "50%    3.531130e+15      42.170000   49628.000000      38.507200   \n",
       "75%    4.653879e+15      80.330000   75048.000000      41.520500   \n",
       "max    4.956829e+18   25086.940000   99323.000000      48.887800   \n",
       "\n",
       "                long      city_pop     unix_time      merch_lat  \\\n",
       "count  491134.000000  4.911340e+05  4.911340e+05  491134.000000   \n",
       "mean      -90.495619  1.213922e+05  1.358730e+09      37.930272   \n",
       "std        12.990732  3.725751e+05  1.819402e+07       5.372986   \n",
       "min      -122.345600  4.600000e+01  1.325376e+09      23.655789   \n",
       "25%       -97.235100  1.228000e+03  1.343087e+09      33.781388   \n",
       "50%       -87.591700  5.760000e+03  1.357257e+09      38.545124   \n",
       "75%       -80.731000  5.083500e+04  1.374626e+09      41.624294   \n",
       "max       -69.965600  2.906700e+06  1.388534e+09      49.887523   \n",
       "\n",
       "          merch_long       is_fraud  \n",
       "count  491134.000000  491134.000000  \n",
       "mean      -90.495411       0.002533  \n",
       "std        13.004100       0.050264  \n",
       "min      -123.345106       0.000000  \n",
       "25%       -96.984814       0.000000  \n",
       "50%       -87.573441       0.000000  \n",
       "75%       -80.685567       0.000000  \n",
       "max       -68.965624       1.000000  "
      ]
     },
     "execution_count": 7,
     "metadata": {},
     "output_type": "execute_result"
    }
   ],
   "source": [
    "cc_df.describe()"
   ]
  },
  {
   "cell_type": "code",
   "execution_count": 8,
   "id": "f8b0d266",
   "metadata": {},
   "outputs": [
    {
     "data": {
      "text/plain": [
       "693"
      ]
     },
     "execution_count": 8,
     "metadata": {},
     "output_type": "execute_result"
    }
   ],
   "source": [
    "# merchant 컬럼에 포함된 값이 몇 종류인지 확인합니다.\n",
    "\n",
    "cc_df['merchant'].nunique()"
   ]
  },
  {
   "cell_type": "code",
   "execution_count": 9,
   "id": "fa146bf6",
   "metadata": {},
   "outputs": [
    {
     "data": {
      "text/plain": [
       "110"
      ]
     },
     "execution_count": 9,
     "metadata": {},
     "output_type": "execute_result"
    }
   ],
   "source": [
    "# Q. job 컬럼에 포함된 값이 몇 종류인지 확인합니다.\n",
    "cc_df['job'].nunique()"
   ]
  },
  {
   "cell_type": "code",
   "execution_count": 10,
   "id": "ebcb7bfb",
   "metadata": {},
   "outputs": [],
   "source": [
    "# 불필요한 컬럼들을 제거합니다.\n",
    "\n",
    "cc_df.drop(['merchant','first','last','street','city','state','zip','job','trans_num','unix_time'], axis = 1, inplace= True)"
   ]
  },
  {
   "cell_type": "code",
   "execution_count": 11,
   "id": "dbafaaf4",
   "metadata": {},
   "outputs": [
    {
     "data": {
      "application/vnd.microsoft.datawrangler.viewer.v0+json": {
       "columns": [
        {
         "name": "index",
         "rawType": "int64",
         "type": "integer"
        },
        {
         "name": "trans_date_trans_time",
         "rawType": "object",
         "type": "string"
        },
        {
         "name": "cc_num",
         "rawType": "int64",
         "type": "integer"
        },
        {
         "name": "category",
         "rawType": "object",
         "type": "string"
        },
        {
         "name": "amt",
         "rawType": "float64",
         "type": "float"
        },
        {
         "name": "gender",
         "rawType": "object",
         "type": "string"
        },
        {
         "name": "lat",
         "rawType": "float64",
         "type": "float"
        },
        {
         "name": "long",
         "rawType": "float64",
         "type": "float"
        },
        {
         "name": "city_pop",
         "rawType": "int64",
         "type": "integer"
        },
        {
         "name": "dob",
         "rawType": "object",
         "type": "string"
        },
        {
         "name": "merch_lat",
         "rawType": "float64",
         "type": "float"
        },
        {
         "name": "merch_long",
         "rawType": "float64",
         "type": "float"
        },
        {
         "name": "is_fraud",
         "rawType": "int64",
         "type": "integer"
        }
       ],
       "ref": "666708c8-802f-4a63-b4aa-a2376447ad9d",
       "rows": [
        [
         "378075",
         "2020-08-05 17:03:19",
         "503874407318",
         "shopping_pos",
         "7.77",
         "M",
         "29.5894",
         "-98.5201",
         "1595797",
         "1975-12-28",
         "30.014539000000003",
         "-98.426767",
         "0"
        ],
        [
         "230588",
         "2019-12-20 22:21:36",
         "503874407318",
         "health_fitness",
         "72.06",
         "M",
         "29.5894",
         "-98.5201",
         "1595797",
         "1975-12-28",
         "29.260487",
         "-97.961746",
         "0"
        ],
        [
         "421413",
         "2020-10-10 12:39:32",
         "503874407318",
         "misc_pos",
         "4.78",
         "M",
         "29.5894",
         "-98.5201",
         "1595797",
         "1975-12-28",
         "29.116928",
         "-99.258936",
         "0"
        ],
        [
         "468378",
         "2020-12-13 15:55:44",
         "503874407318",
         "kids_pets",
         "84.56",
         "M",
         "29.5894",
         "-98.5201",
         "1595797",
         "1975-12-28",
         "29.994537",
         "-98.441297",
         "0"
        ],
        [
         "345085",
         "2020-06-22 23:52:06",
         "503874407318",
         "entertainment",
         "24.33",
         "M",
         "29.5894",
         "-98.5201",
         "1595797",
         "1975-12-28",
         "29.277168",
         "-98.239289",
         "0"
        ],
        [
         "468339",
         "2020-12-13 15:28:05",
         "503874407318",
         "misc_pos",
         "6.94",
         "M",
         "29.5894",
         "-98.5201",
         "1595797",
         "1975-12-28",
         "30.568772",
         "-98.690299",
         "0"
        ],
        [
         "468331",
         "2020-12-13 15:19:14",
         "503874407318",
         "home",
         "33.96",
         "M",
         "29.5894",
         "-98.5201",
         "1595797",
         "1975-12-28",
         "30.573747",
         "-99.339459",
         "0"
        ],
        [
         "143006",
         "2019-08-19 18:05:53",
         "503874407318",
         "entertainment",
         "36.2",
         "M",
         "29.5894",
         "-98.5201",
         "1595797",
         "1975-12-28",
         "30.014447",
         "-97.648159",
         "0"
        ],
        [
         "271145",
         "2020-02-28 22:08:12",
         "503874407318",
         "shopping_net",
         "2.17",
         "M",
         "29.5894",
         "-98.5201",
         "1595797",
         "1975-12-28",
         "28.599957",
         "-97.639763",
         "0"
        ],
        [
         "421472",
         "2020-10-10 14:34:16",
         "503874407318",
         "home",
         "51.57",
         "M",
         "29.5894",
         "-98.5201",
         "1595797",
         "1975-12-28",
         "29.454249",
         "-98.213655",
         "0"
        ],
        [
         "468313",
         "2020-12-13 15:06:54",
         "503874407318",
         "shopping_pos",
         "5.25",
         "M",
         "29.5894",
         "-98.5201",
         "1595797",
         "1975-12-28",
         "28.902512",
         "-98.720529",
         "0"
        ],
        [
         "142960",
         "2019-08-19 17:21:04",
         "503874407318",
         "entertainment",
         "59.39",
         "M",
         "29.5894",
         "-98.5201",
         "1595797",
         "1975-12-28",
         "30.413953000000003",
         "-98.490432",
         "0"
        ],
        [
         "468284",
         "2020-12-13 14:43:04",
         "503874407318",
         "travel",
         "8.84",
         "M",
         "29.5894",
         "-98.5201",
         "1595797",
         "1975-12-28",
         "29.449597",
         "-98.281046",
         "0"
        ],
        [
         "91486",
         "2019-06-12 04:13:32",
         "503874407318",
         "grocery_pos",
         "52.83",
         "M",
         "29.5894",
         "-98.5201",
         "1595797",
         "1975-12-28",
         "29.382304",
         "-98.528603",
         "0"
        ],
        [
         "271120",
         "2020-02-28 20:30:50",
         "503874407318",
         "home",
         "205.4",
         "M",
         "29.5894",
         "-98.5201",
         "1595797",
         "1975-12-28",
         "29.864649",
         "-97.655906",
         "0"
        ],
        [
         "142830",
         "2019-08-19 15:13:58",
         "503874407318",
         "home",
         "45.78",
         "M",
         "29.5894",
         "-98.5201",
         "1595797",
         "1975-12-28",
         "29.159412",
         "-97.831228",
         "0"
        ],
        [
         "142810",
         "2019-08-19 14:54:30",
         "503874407318",
         "kids_pets",
         "163.21",
         "M",
         "29.5894",
         "-98.5201",
         "1595797",
         "1975-12-28",
         "30.424999",
         "-98.228289",
         "0"
        ],
        [
         "230750",
         "2019-12-21 02:11:06",
         "503874407318",
         "gas_transport",
         "72.22",
         "M",
         "29.5894",
         "-98.5201",
         "1595797",
         "1975-12-28",
         "28.921423",
         "-98.167199",
         "0"
        ],
        [
         "91672",
         "2019-06-12 15:06:01",
         "503874407318",
         "entertainment",
         "117.05",
         "M",
         "29.5894",
         "-98.5201",
         "1595797",
         "1975-12-28",
         "28.873778",
         "-98.688021",
         "0"
        ],
        [
         "231194",
         "2019-12-21 13:43:00",
         "503874407318",
         "health_fitness",
         "37.64",
         "M",
         "29.5894",
         "-98.5201",
         "1595797",
         "1975-12-28",
         "29.577015000000003",
         "-99.145871",
         "0"
        ],
        [
         "309944",
         "2020-05-03 22:26:56",
         "503874407318",
         "misc_net",
         "2.91",
         "M",
         "29.5894",
         "-98.5201",
         "1595797",
         "1975-12-28",
         "29.096573",
         "-99.474096",
         "0"
        ],
        [
         "142389",
         "2019-08-19 01:03:12",
         "503874407318",
         "gas_transport",
         "62.55",
         "M",
         "29.5894",
         "-98.5201",
         "1595797",
         "1975-12-28",
         "30.374953",
         "-99.146071",
         "0"
        ],
        [
         "10478",
         "2019-01-24 06:46:11",
         "503874407318",
         "misc_net",
         "8.99",
         "M",
         "29.5894",
         "-98.5201",
         "1595797",
         "1975-12-28",
         "29.584415000000003",
         "-98.947281",
         "0"
        ],
        [
         "468020",
         "2020-12-13 10:49:44",
         "503874407318",
         "gas_transport",
         "63.29",
         "M",
         "29.5894",
         "-98.5201",
         "1595797",
         "1975-12-28",
         "29.576158000000003",
         "-98.288394",
         "0"
        ],
        [
         "309729",
         "2020-05-03 17:15:33",
         "503874407318",
         "kids_pets",
         "29.57",
         "M",
         "29.5894",
         "-98.5201",
         "1595797",
         "1975-12-28",
         "30.004588",
         "-97.885198",
         "0"
        ],
        [
         "142435",
         "2019-08-19 03:23:47",
         "503874407318",
         "gas_transport",
         "86.42",
         "M",
         "29.5894",
         "-98.5201",
         "1595797",
         "1975-12-28",
         "29.009806",
         "-97.587341",
         "0"
        ],
        [
         "468116",
         "2020-12-13 12:45:15",
         "503874407318",
         "shopping_net",
         "4.55",
         "M",
         "29.5894",
         "-98.5201",
         "1595797",
         "1975-12-28",
         "29.884978000000004",
         "-98.577416",
         "0"
        ],
        [
         "91551",
         "2019-06-12 09:52:53",
         "503874407318",
         "gas_transport",
         "59.41",
         "M",
         "29.5894",
         "-98.5201",
         "1595797",
         "1975-12-28",
         "28.821594",
         "-98.181082",
         "0"
        ],
        [
         "468143",
         "2020-12-13 13:00:18",
         "503874407318",
         "travel",
         "8.79",
         "M",
         "29.5894",
         "-98.5201",
         "1595797",
         "1975-12-28",
         "30.308477000000003",
         "-98.155473",
         "0"
        ],
        [
         "142710",
         "2019-08-19 13:25:17",
         "503874407318",
         "food_dining",
         "1.23",
         "M",
         "29.5894",
         "-98.5201",
         "1595797",
         "1975-12-28",
         "29.063337",
         "-99.309797",
         "0"
        ],
        [
         "61110",
         "2019-04-27 13:05:25",
         "503874407318",
         "shopping_pos",
         "63.62",
         "M",
         "29.5894",
         "-98.5201",
         "1595797",
         "1975-12-28",
         "28.920223",
         "-98.941109",
         "0"
        ],
        [
         "91514",
         "2019-06-12 06:54:51",
         "503874407318",
         "gas_transport",
         "83.06",
         "M",
         "29.5894",
         "-98.5201",
         "1595797",
         "1975-12-28",
         "29.073792",
         "-97.930761",
         "0"
        ],
        [
         "33568",
         "2019-03-11 14:21:32",
         "503874407318",
         "home",
         "22.69",
         "M",
         "29.5894",
         "-98.5201",
         "1595797",
         "1975-12-28",
         "29.456772",
         "-98.707652",
         "0"
        ],
        [
         "421884",
         "2020-10-11 08:43:12",
         "503874407318",
         "grocery_net",
         "55.52",
         "M",
         "29.5894",
         "-98.5201",
         "1595797",
         "1975-12-28",
         "30.008152000000003",
         "-99.411291",
         "0"
        ],
        [
         "91325",
         "2019-06-11 19:58:21",
         "503874407318",
         "home",
         "7.74",
         "M",
         "29.5894",
         "-98.5201",
         "1595797",
         "1975-12-28",
         "30.283799",
         "-99.070456",
         "0"
        ],
        [
         "345169",
         "2020-06-23 03:49:06",
         "503874407318",
         "gas_transport",
         "102.01",
         "M",
         "29.5894",
         "-98.5201",
         "1595797",
         "1975-12-28",
         "30.436794",
         "-99.159178",
         "0"
        ],
        [
         "143605",
         "2019-08-20 15:22:46",
         "503874407318",
         "personal_care",
         "33.74",
         "M",
         "29.5894",
         "-98.5201",
         "1595797",
         "1975-12-28",
         "29.870607",
         "-97.826312",
         "0"
        ],
        [
         "345684",
         "2020-06-23 17:13:29",
         "503874407318",
         "travel",
         "1.32",
         "M",
         "29.5894",
         "-98.5201",
         "1595797",
         "1975-12-28",
         "30.01402",
         "-98.218045",
         "0"
        ],
        [
         "271499",
         "2020-03-01 14:39:26",
         "503874407318",
         "misc_pos",
         "5.8",
         "M",
         "29.5894",
         "-98.5201",
         "1595797",
         "1975-12-28",
         "28.912129",
         "-97.618546",
         "0"
        ],
        [
         "468715",
         "2020-12-13 19:29:37",
         "503874407318",
         "travel",
         "1017.65",
         "M",
         "29.5894",
         "-98.5201",
         "1595797",
         "1975-12-28",
         "28.749303",
         "-97.60114",
         "0"
        ],
        [
         "143574",
         "2019-08-20 14:07:46",
         "503874407318",
         "kids_pets",
         "26.67",
         "M",
         "29.5894",
         "-98.5201",
         "1595797",
         "1975-12-28",
         "29.574629",
         "-98.947236",
         "0"
        ],
        [
         "143563",
         "2019-08-20 13:48:04",
         "503874407318",
         "food_dining",
         "1.27",
         "M",
         "29.5894",
         "-98.5201",
         "1595797",
         "1975-12-28",
         "28.602469",
         "-97.912947",
         "0"
        ],
        [
         "468692",
         "2020-12-13 19:13:50",
         "503874407318",
         "shopping_net",
         "7.13",
         "M",
         "29.5894",
         "-98.5201",
         "1595797",
         "1975-12-28",
         "29.9408",
         "-99.184673",
         "0"
        ],
        [
         "143544",
         "2019-08-20 13:26:43",
         "503874407318",
         "shopping_net",
         "9.1",
         "M",
         "29.5894",
         "-98.5201",
         "1595797",
         "1975-12-28",
         "30.507005",
         "-98.803707",
         "0"
        ],
        [
         "230213",
         "2019-12-20 15:58:45",
         "503874407318",
         "health_fitness",
         "11.14",
         "M",
         "29.5894",
         "-98.5201",
         "1595797",
         "1975-12-28",
         "29.646533",
         "-97.966719",
         "0"
        ],
        [
         "230253",
         "2019-12-20 16:38:46",
         "503874407318",
         "misc_pos",
         "7.56",
         "M",
         "29.5894",
         "-98.5201",
         "1595797",
         "1975-12-28",
         "30.038123",
         "-98.54898",
         "0"
        ],
        [
         "230336",
         "2019-12-20 17:49:22",
         "503874407318",
         "travel",
         "9.77",
         "M",
         "29.5894",
         "-98.5201",
         "1595797",
         "1975-12-28",
         "29.289315",
         "-98.667516",
         "0"
        ],
        [
         "420982",
         "2020-10-09 14:51:51",
         "503874407318",
         "health_fitness",
         "1.93",
         "M",
         "29.5894",
         "-98.5201",
         "1595797",
         "1975-12-28",
         "29.882911",
         "-98.413739",
         "0"
        ],
        [
         "421001",
         "2020-10-09 15:23:04",
         "503874407318",
         "food_dining",
         "82.48",
         "M",
         "29.5894",
         "-98.5201",
         "1595797",
         "1975-12-28",
         "29.800678",
         "-97.645163",
         "0"
        ],
        [
         "345404",
         "2020-06-23 12:51:01",
         "503874407318",
         "kids_pets",
         "47.96",
         "M",
         "29.5894",
         "-98.5201",
         "1595797",
         "1975-12-28",
         "30.504263",
         "-98.970715",
         "0"
        ]
       ],
       "shape": {
        "columns": 12,
        "rows": 491134
       }
      },
      "text/html": [
       "<div>\n",
       "<style scoped>\n",
       "    .dataframe tbody tr th:only-of-type {\n",
       "        vertical-align: middle;\n",
       "    }\n",
       "\n",
       "    .dataframe tbody tr th {\n",
       "        vertical-align: top;\n",
       "    }\n",
       "\n",
       "    .dataframe thead th {\n",
       "        text-align: right;\n",
       "    }\n",
       "</style>\n",
       "<table border=\"1\" class=\"dataframe\">\n",
       "  <thead>\n",
       "    <tr style=\"text-align: right;\">\n",
       "      <th></th>\n",
       "      <th>trans_date_trans_time</th>\n",
       "      <th>cc_num</th>\n",
       "      <th>category</th>\n",
       "      <th>amt</th>\n",
       "      <th>gender</th>\n",
       "      <th>lat</th>\n",
       "      <th>long</th>\n",
       "      <th>city_pop</th>\n",
       "      <th>dob</th>\n",
       "      <th>merch_lat</th>\n",
       "      <th>merch_long</th>\n",
       "      <th>is_fraud</th>\n",
       "    </tr>\n",
       "  </thead>\n",
       "  <tbody>\n",
       "    <tr>\n",
       "      <th>378075</th>\n",
       "      <td>2020-08-05 17:03:19</td>\n",
       "      <td>503874407318</td>\n",
       "      <td>shopping_pos</td>\n",
       "      <td>7.77</td>\n",
       "      <td>M</td>\n",
       "      <td>29.5894</td>\n",
       "      <td>-98.5201</td>\n",
       "      <td>1595797</td>\n",
       "      <td>1975-12-28</td>\n",
       "      <td>30.014539</td>\n",
       "      <td>-98.426767</td>\n",
       "      <td>0</td>\n",
       "    </tr>\n",
       "    <tr>\n",
       "      <th>230588</th>\n",
       "      <td>2019-12-20 22:21:36</td>\n",
       "      <td>503874407318</td>\n",
       "      <td>health_fitness</td>\n",
       "      <td>72.06</td>\n",
       "      <td>M</td>\n",
       "      <td>29.5894</td>\n",
       "      <td>-98.5201</td>\n",
       "      <td>1595797</td>\n",
       "      <td>1975-12-28</td>\n",
       "      <td>29.260487</td>\n",
       "      <td>-97.961746</td>\n",
       "      <td>0</td>\n",
       "    </tr>\n",
       "    <tr>\n",
       "      <th>421413</th>\n",
       "      <td>2020-10-10 12:39:32</td>\n",
       "      <td>503874407318</td>\n",
       "      <td>misc_pos</td>\n",
       "      <td>4.78</td>\n",
       "      <td>M</td>\n",
       "      <td>29.5894</td>\n",
       "      <td>-98.5201</td>\n",
       "      <td>1595797</td>\n",
       "      <td>1975-12-28</td>\n",
       "      <td>29.116928</td>\n",
       "      <td>-99.258936</td>\n",
       "      <td>0</td>\n",
       "    </tr>\n",
       "    <tr>\n",
       "      <th>468378</th>\n",
       "      <td>2020-12-13 15:55:44</td>\n",
       "      <td>503874407318</td>\n",
       "      <td>kids_pets</td>\n",
       "      <td>84.56</td>\n",
       "      <td>M</td>\n",
       "      <td>29.5894</td>\n",
       "      <td>-98.5201</td>\n",
       "      <td>1595797</td>\n",
       "      <td>1975-12-28</td>\n",
       "      <td>29.994537</td>\n",
       "      <td>-98.441297</td>\n",
       "      <td>0</td>\n",
       "    </tr>\n",
       "    <tr>\n",
       "      <th>345085</th>\n",
       "      <td>2020-06-22 23:52:06</td>\n",
       "      <td>503874407318</td>\n",
       "      <td>entertainment</td>\n",
       "      <td>24.33</td>\n",
       "      <td>M</td>\n",
       "      <td>29.5894</td>\n",
       "      <td>-98.5201</td>\n",
       "      <td>1595797</td>\n",
       "      <td>1975-12-28</td>\n",
       "      <td>29.277168</td>\n",
       "      <td>-98.239289</td>\n",
       "      <td>0</td>\n",
       "    </tr>\n",
       "    <tr>\n",
       "      <th>...</th>\n",
       "      <td>...</td>\n",
       "      <td>...</td>\n",
       "      <td>...</td>\n",
       "      <td>...</td>\n",
       "      <td>...</td>\n",
       "      <td>...</td>\n",
       "      <td>...</td>\n",
       "      <td>...</td>\n",
       "      <td>...</td>\n",
       "      <td>...</td>\n",
       "      <td>...</td>\n",
       "      <td>...</td>\n",
       "    </tr>\n",
       "    <tr>\n",
       "      <th>53631</th>\n",
       "      <td>2019-04-14 16:57:31</td>\n",
       "      <td>4956828990005111019</td>\n",
       "      <td>entertainment</td>\n",
       "      <td>27.41</td>\n",
       "      <td>M</td>\n",
       "      <td>40.6747</td>\n",
       "      <td>-74.2239</td>\n",
       "      <td>124967</td>\n",
       "      <td>1980-12-21</td>\n",
       "      <td>39.888460</td>\n",
       "      <td>-74.151440</td>\n",
       "      <td>0</td>\n",
       "    </tr>\n",
       "    <tr>\n",
       "      <th>485223</th>\n",
       "      <td>2020-12-27 14:14:40</td>\n",
       "      <td>4956828990005111019</td>\n",
       "      <td>home</td>\n",
       "      <td>28.52</td>\n",
       "      <td>M</td>\n",
       "      <td>40.6747</td>\n",
       "      <td>-74.2239</td>\n",
       "      <td>124967</td>\n",
       "      <td>1980-12-21</td>\n",
       "      <td>41.068207</td>\n",
       "      <td>-75.015316</td>\n",
       "      <td>0</td>\n",
       "    </tr>\n",
       "    <tr>\n",
       "      <th>264968</th>\n",
       "      <td>2020-02-15 13:32:48</td>\n",
       "      <td>4956828990005111019</td>\n",
       "      <td>shopping_pos</td>\n",
       "      <td>2.95</td>\n",
       "      <td>M</td>\n",
       "      <td>40.6747</td>\n",
       "      <td>-74.2239</td>\n",
       "      <td>124967</td>\n",
       "      <td>1980-12-21</td>\n",
       "      <td>41.435438</td>\n",
       "      <td>-73.839008</td>\n",
       "      <td>0</td>\n",
       "    </tr>\n",
       "    <tr>\n",
       "      <th>63475</th>\n",
       "      <td>2019-04-30 17:45:09</td>\n",
       "      <td>4956828990005111019</td>\n",
       "      <td>shopping_pos</td>\n",
       "      <td>7.28</td>\n",
       "      <td>M</td>\n",
       "      <td>40.6747</td>\n",
       "      <td>-74.2239</td>\n",
       "      <td>124967</td>\n",
       "      <td>1980-12-21</td>\n",
       "      <td>41.149072</td>\n",
       "      <td>-75.143152</td>\n",
       "      <td>0</td>\n",
       "    </tr>\n",
       "    <tr>\n",
       "      <th>450904</th>\n",
       "      <td>2020-11-28 12:12:27</td>\n",
       "      <td>4956828990005111019</td>\n",
       "      <td>food_dining</td>\n",
       "      <td>16.22</td>\n",
       "      <td>M</td>\n",
       "      <td>40.6747</td>\n",
       "      <td>-74.2239</td>\n",
       "      <td>124967</td>\n",
       "      <td>1980-12-21</td>\n",
       "      <td>39.933227</td>\n",
       "      <td>-73.659492</td>\n",
       "      <td>0</td>\n",
       "    </tr>\n",
       "  </tbody>\n",
       "</table>\n",
       "<p>491134 rows × 12 columns</p>\n",
       "</div>"
      ],
      "text/plain": [
       "       trans_date_trans_time               cc_num        category    amt  \\\n",
       "378075   2020-08-05 17:03:19         503874407318    shopping_pos   7.77   \n",
       "230588   2019-12-20 22:21:36         503874407318  health_fitness  72.06   \n",
       "421413   2020-10-10 12:39:32         503874407318        misc_pos   4.78   \n",
       "468378   2020-12-13 15:55:44         503874407318       kids_pets  84.56   \n",
       "345085   2020-06-22 23:52:06         503874407318   entertainment  24.33   \n",
       "...                      ...                  ...             ...    ...   \n",
       "53631    2019-04-14 16:57:31  4956828990005111019   entertainment  27.41   \n",
       "485223   2020-12-27 14:14:40  4956828990005111019            home  28.52   \n",
       "264968   2020-02-15 13:32:48  4956828990005111019    shopping_pos   2.95   \n",
       "63475    2019-04-30 17:45:09  4956828990005111019    shopping_pos   7.28   \n",
       "450904   2020-11-28 12:12:27  4956828990005111019     food_dining  16.22   \n",
       "\n",
       "       gender      lat     long  city_pop         dob  merch_lat  merch_long  \\\n",
       "378075      M  29.5894 -98.5201   1595797  1975-12-28  30.014539  -98.426767   \n",
       "230588      M  29.5894 -98.5201   1595797  1975-12-28  29.260487  -97.961746   \n",
       "421413      M  29.5894 -98.5201   1595797  1975-12-28  29.116928  -99.258936   \n",
       "468378      M  29.5894 -98.5201   1595797  1975-12-28  29.994537  -98.441297   \n",
       "345085      M  29.5894 -98.5201   1595797  1975-12-28  29.277168  -98.239289   \n",
       "...       ...      ...      ...       ...         ...        ...         ...   \n",
       "53631       M  40.6747 -74.2239    124967  1980-12-21  39.888460  -74.151440   \n",
       "485223      M  40.6747 -74.2239    124967  1980-12-21  41.068207  -75.015316   \n",
       "264968      M  40.6747 -74.2239    124967  1980-12-21  41.435438  -73.839008   \n",
       "63475       M  40.6747 -74.2239    124967  1980-12-21  41.149072  -75.143152   \n",
       "450904      M  40.6747 -74.2239    124967  1980-12-21  39.933227  -73.659492   \n",
       "\n",
       "        is_fraud  \n",
       "378075         0  \n",
       "230588         0  \n",
       "421413         0  \n",
       "468378         0  \n",
       "345085         0  \n",
       "...          ...  \n",
       "53631          0  \n",
       "485223         0  \n",
       "264968         0  \n",
       "63475          0  \n",
       "450904         0  \n",
       "\n",
       "[491134 rows x 12 columns]"
      ]
     },
     "execution_count": 11,
     "metadata": {},
     "output_type": "execute_result"
    }
   ],
   "source": [
    "# cc_num 컬럼의 값을 기준으로 정렬합니다.\n",
    "\n",
    "cc_df.sort_values('cc_num')"
   ]
  },
  {
   "cell_type": "code",
   "execution_count": 12,
   "id": "e0c907c9",
   "metadata": {},
   "outputs": [
    {
     "name": "stdout",
     "output_type": "stream",
     "text": [
      "제거 후 shape: (491134, 12)\n"
     ]
    }
   ],
   "source": [
    "print(\"제거 후 shape:\", cc_df.shape)\n",
    "# 출력: (1296675, 13)"
   ]
  },
  {
   "cell_type": "code",
   "execution_count": 13,
   "id": "692940fc",
   "metadata": {},
   "outputs": [],
   "source": [
    "# Z-Score = \"평균에서 얼마나 떨어져 있는지 (몇 표준편차 차이 나는지)\" 를 나타내는 값\n",
    "\n",
    "# Z-Score = (개별 거래금액 - 고객 평균 거래금액) / 고객 거래금액 표준편차\n"
   ]
  },
  {
   "cell_type": "code",
   "execution_count": 14,
   "id": "3111dc72",
   "metadata": {},
   "outputs": [
    {
     "data": {
      "application/vnd.microsoft.datawrangler.viewer.v0+json": {
       "columns": [
        {
         "name": "cc_num",
         "rawType": "int64",
         "type": "integer"
        },
        {
         "name": "count",
         "rawType": "int64",
         "type": "integer"
        }
       ],
       "ref": "61d40ca5-4f1d-4267-9db7-d527c6b4155d",
       "rows": [
        [
         "6538441737335434",
         "4392"
        ],
        [
         "30270432095985",
         "4392"
        ],
        [
         "4364010865167176",
         "4386"
        ],
        [
         "4642255475285942",
         "4386"
        ],
        [
         "6538891242532018",
         "4386"
        ],
        [
         "6011438889172900",
         "4385"
        ],
        [
         "344709867813900",
         "4385"
        ],
        [
         "4904681492230012",
         "4384"
        ],
        [
         "4586810168620942",
         "4384"
        ],
        [
         "4745996322265",
         "4384"
        ],
        [
         "4512828414983801773",
         "4384"
        ],
        [
         "6534628260579800",
         "4383"
        ],
        [
         "36722699017270",
         "4383"
        ],
        [
         "342952484382519",
         "4382"
        ],
        [
         "180048185037117",
         "4382"
        ],
        [
         "3553629419254918",
         "4381"
        ],
        [
         "3560797065840735",
         "4381"
        ],
        [
         "213112402583773",
         "4380"
        ],
        [
         "6011504998544485",
         "4380"
        ],
        [
         "6011367958204270",
         "4380"
        ],
        [
         "3575789281659026",
         "4380"
        ],
        [
         "3583635130604947",
         "4380"
        ],
        [
         "6011652924285713",
         "4379"
        ],
        [
         "372509258176510",
         "4379"
        ],
        [
         "180094419304907",
         "4378"
        ],
        [
         "376445266762684",
         "4378"
        ],
        [
         "345933964507467",
         "4378"
        ],
        [
         "2242542703101233",
         "4377"
        ],
        [
         "4836998673805450",
         "4377"
        ],
        [
         "372520049757633",
         "4376"
        ],
        [
         "630424987505",
         "4376"
        ],
        [
         "3596217206093829",
         "4375"
        ],
        [
         "4908846471916297",
         "4375"
        ],
        [
         "6011893664860915",
         "4375"
        ],
        [
         "30273037698427",
         "4375"
        ],
        [
         "3551217896304745",
         "4374"
        ],
        [
         "630451534402",
         "4374"
        ],
        [
         "2720433095629877",
         "4374"
        ],
        [
         "571365235126",
         "4374"
        ],
        [
         "3566094707272327",
         "4374"
        ],
        [
         "4587657402165341815",
         "4373"
        ],
        [
         "2712209726293386",
         "4372"
        ],
        [
         "3590736522064285",
         "4372"
        ],
        [
         "213141712584544",
         "4371"
        ],
        [
         "3521417320836166",
         "4371"
        ],
        [
         "30238755902988",
         "4369"
        ],
        [
         "6011109736646996",
         "4369"
        ],
        [
         "3576431665303017",
         "4366"
        ],
        [
         "4716561796955522",
         "4365"
        ],
        [
         "3545109339866548",
         "4364"
        ]
       ],
       "shape": {
        "columns": 1,
        "rows": 124
       }
      },
      "text/plain": [
       "cc_num\n",
       "6538441737335434    4392\n",
       "30270432095985      4392\n",
       "4364010865167176    4386\n",
       "4642255475285942    4386\n",
       "6538891242532018    4386\n",
       "                    ... \n",
       "36913587729122      3641\n",
       "4681601008538160    3638\n",
       "30551643947183      3638\n",
       "4005676619255478    3638\n",
       "3511378610369890    3628\n",
       "Name: count, Length: 124, dtype: int64"
      ]
     },
     "execution_count": 14,
     "metadata": {},
     "output_type": "execute_result"
    }
   ],
   "source": [
    "# cc_num 컬럼의 값마다 데이터 개수를 계산합니다.\n",
    "\n",
    "cc_df['cc_num'].value_counts()"
   ]
  },
  {
   "cell_type": "code",
   "execution_count": 15,
   "id": "fce6d4c3",
   "metadata": {},
   "outputs": [],
   "source": [
    "# cc_num 컬럼의 값마다 amt의 평균, 표준편차를 계산하여 amt_info에 저장합니다.\n",
    "\n",
    "amt_info = cc_df.groupby('cc_num')['amt'].agg(['mean','std']).reset_index()"
   ]
  },
  {
   "cell_type": "code",
   "execution_count": 16,
   "id": "839276cf",
   "metadata": {},
   "outputs": [],
   "source": [
    "amt_info.to_pickle('./amt_info.pkl')"
   ]
  },
  {
   "cell_type": "code",
   "execution_count": 17,
   "id": "46144f2a",
   "metadata": {},
   "outputs": [],
   "source": [
    "cc_df = pd.merge(cc_df, amt_info, how='left', on='cc_num')\n"
   ]
  },
  {
   "cell_type": "code",
   "execution_count": 18,
   "id": "6671bd78",
   "metadata": {},
   "outputs": [
    {
     "data": {
      "application/vnd.microsoft.datawrangler.viewer.v0+json": {
       "columns": [
        {
         "name": "index",
         "rawType": "int64",
         "type": "integer"
        },
        {
         "name": "trans_date_trans_time",
         "rawType": "object",
         "type": "string"
        },
        {
         "name": "cc_num",
         "rawType": "int64",
         "type": "integer"
        },
        {
         "name": "category",
         "rawType": "object",
         "type": "string"
        },
        {
         "name": "amt",
         "rawType": "float64",
         "type": "float"
        },
        {
         "name": "gender",
         "rawType": "object",
         "type": "string"
        },
        {
         "name": "lat",
         "rawType": "float64",
         "type": "float"
        },
        {
         "name": "long",
         "rawType": "float64",
         "type": "float"
        },
        {
         "name": "city_pop",
         "rawType": "int64",
         "type": "integer"
        },
        {
         "name": "dob",
         "rawType": "object",
         "type": "string"
        },
        {
         "name": "merch_lat",
         "rawType": "float64",
         "type": "float"
        },
        {
         "name": "merch_long",
         "rawType": "float64",
         "type": "float"
        },
        {
         "name": "is_fraud",
         "rawType": "int64",
         "type": "integer"
        },
        {
         "name": "mean",
         "rawType": "float64",
         "type": "float"
        },
        {
         "name": "std",
         "rawType": "float64",
         "type": "float"
        }
       ],
       "ref": "1f5b6068-e464-4e7c-a6b7-24dabddbb924",
       "rows": [
        [
         "0",
         "2019-01-01 00:00:44",
         "630423337322",
         "grocery_pos",
         "107.23",
         "F",
         "48.8878",
         "-118.2105",
         "149",
         "1978-06-21",
         "49.159047",
         "-118.186462",
         "0",
         "56.07811325080239",
         "159.2018519641995"
        ],
        [
         "1",
         "2019-01-01 00:12:34",
         "4956828990005111019",
         "grocery_pos",
         "44.71",
         "M",
         "40.6747",
         "-74.2239",
         "124967",
         "1980-12-21",
         "40.079588",
         "-74.84808699999999",
         "0",
         "59.85805851791086",
         "132.13880182878174"
        ],
        [
         "2",
         "2019-01-01 00:17:16",
         "180048185037117",
         "grocery_net",
         "46.28",
         "F",
         "40.6152",
         "-74.415",
         "71485",
         "1974-07-19",
         "40.021888",
         "-74.228188",
         "0",
         "87.32806709265176",
         "113.45441572361764"
        ],
        [
         "3",
         "2019-01-01 00:20:15",
         "374930071163758",
         "grocery_pos",
         "64.09",
         "M",
         "42.2203",
         "-83.3583",
         "31515",
         "1971-11-05",
         "42.360426",
         "-83.552316",
         "0",
         "64.31783931998903",
         "174.73904227604555"
        ],
        [
         "4",
         "2019-01-01 00:23:41",
         "2712209726293386",
         "misc_pos",
         "25.58",
         "F",
         "30.4066",
         "-91.1468",
         "378909",
         "1977-02-22",
         "29.737426",
         "-90.853194",
         "0",
         "90.74712259835316",
         "165.47088148465744"
        ],
        [
         "5",
         "2019-01-01 00:26:22",
         "3598215285024754",
         "grocery_pos",
         "207.36",
         "F",
         "40.6729",
         "-73.5365",
         "34496",
         "1970-10-21",
         "40.202538",
         "-73.859212",
         "0",
         "87.6315397260274",
         "118.25895436065237"
        ],
        [
         "6",
         "2019-01-01 00:27:45",
         "213141712584544",
         "misc_pos",
         "181.35",
         "F",
         "32.153",
         "-90.1217",
         "19685",
         "1984-12-24",
         "31.939812",
         "-90.726209",
         "0",
         "87.7539235872798",
         "122.15756295590165"
        ],
        [
         "7",
         "2019-01-01 00:30:49",
         "676372984911",
         "gas_transport",
         "53.6",
         "F",
         "39.7562",
         "-98.4462",
         "242",
         "1987-07-18",
         "40.332519",
         "-99.062962",
         "0",
         "60.07083584543711",
         "181.7997333517074"
        ],
        [
         "8",
         "2019-01-01 00:31:51",
         "4642255475285942",
         "gas_transport",
         "102.13",
         "F",
         "38.9999",
         "-109.615",
         "46",
         "1987-04-23",
         "39.807313",
         "-109.348294",
         "0",
         "59.12440264477884",
         "145.25233001252417"
        ],
        [
         "9",
         "2019-01-01 00:34:10",
         "3553629419254918",
         "grocery_pos",
         "83.07",
         "F",
         "48.34",
         "-122.3456",
         "85",
         "1984-09-01",
         "48.682111",
         "-122.719904",
         "0",
         "52.71149052727688",
         "103.51890382872628"
        ],
        [
         "10",
         "2019-01-01 00:41:45",
         "4642255475285942",
         "misc_net",
         "177.57",
         "F",
         "38.9999",
         "-109.615",
         "46",
         "1987-04-23",
         "38.419431",
         "-109.380252",
         "0",
         "59.12440264477884",
         "145.25233001252417"
        ],
        [
         "11",
         "2019-01-01 00:44:43",
         "2720433095629877",
         "gas_transport",
         "62.54",
         "M",
         "44.0575",
         "-69.9656",
         "3224",
         "1997-08-22",
         "43.585423",
         "-70.449359",
         "0",
         "51.02070187471422",
         "139.5329018242779"
        ],
        [
         "12",
         "2019-01-01 00:45:13",
         "4716561796955522",
         "grocery_pos",
         "92.84",
         "F",
         "48.2777",
         "-112.8456",
         "743",
         "1972-05-04",
         "49.080153",
         "-113.53238",
         "0",
         "52.53786712485682",
         "106.11302277798154"
        ],
        [
         "13",
         "2019-01-01 00:50:53",
         "4512828414983801773",
         "grocery_net",
         "16.16",
         "F",
         "39.8936",
         "-79.7856",
         "328",
         "1983-07-25",
         "39.222743",
         "-78.839099",
         "0",
         "57.042066605839416",
         "122.5471002033846"
        ],
        [
         "14",
         "2019-01-01 00:55:05",
         "30273037698427",
         "gas_transport",
         "57.23",
         "M",
         "35.5762",
         "-91.4539",
         "111",
         "2000-06-13",
         "36.144895",
         "-92.188172",
         "0",
         "72.74936228571428",
         "80.28225380849014"
        ],
        [
         "15",
         "2019-01-01 01:00:48",
         "6011893664860915",
         "misc_pos",
         "218.71",
         "F",
         "39.5994",
         "-105.0044",
         "320420",
         "1975-07-31",
         "39.335171",
         "-104.102882",
         "0",
         "89.37482742857142",
         "172.3237420911717"
        ],
        [
         "16",
         "2019-01-01 01:01:48",
         "6534628260579800",
         "gas_transport",
         "52.59",
         "F",
         "44.3346",
         "-73.098",
         "4542",
         "1998-03-19",
         "45.084808",
         "-73.626071",
         "0",
         "51.7434314396532",
         "147.84465800985762"
        ],
        [
         "17",
         "2019-01-01 01:02:53",
         "571365235126",
         "grocery_net",
         "89.35",
         "F",
         "44.5995",
         "-86.2141",
         "372",
         "1995-07-12",
         "44.630758",
         "-87.12389399999999",
         "0",
         "59.39297439414723",
         "134.28995894517635"
        ],
        [
         "18",
         "2019-01-01 01:08:31",
         "213112402583773",
         "gas_transport",
         "81.85",
         "F",
         "34.0326",
         "-82.2027",
         "1523",
         "1984-06-03",
         "33.828472999999995",
         "-81.642924",
         "0",
         "58.18129680365296",
         "188.33928206696163"
        ],
        [
         "19",
         "2019-01-01 01:09:57",
         "3502088871723054",
         "grocery_pos",
         "50.57",
         "M",
         "39.0298",
         "-77.0793",
         "19054",
         "1976-09-08",
         "38.394608000000005",
         "-76.437916",
         "0",
         "59.67862417943107",
         "153.77336072466514"
        ],
        [
         "20",
         "2019-01-01 01:09:57",
         "180048185037117",
         "misc_net",
         "3.79",
         "F",
         "40.6152",
         "-74.415",
         "71485",
         "1974-07-19",
         "40.813669",
         "-75.283465",
         "0",
         "87.32806709265176",
         "113.45441572361764"
        ],
        [
         "21",
         "2019-01-01 01:14:11",
         "3518234918950662",
         "grocery_net",
         "50.74",
         "F",
         "33.6372",
         "-96.6184",
         "46563",
         "1970-09-11",
         "34.266941",
         "-96.709668",
         "0",
         "88.72027991218441",
         "126.77250769099155"
        ],
        [
         "22",
         "2019-01-01 01:32:28",
         "30270432095985",
         "misc_net",
         "3.66",
         "F",
         "40.6761",
         "-91.0391",
         "725",
         "1972-11-28",
         "40.7433",
         "-90.088705",
         "0",
         "56.47913479052823",
         "143.4092102490843"
        ],
        [
         "23",
         "2019-01-01 01:34:25",
         "6011104316292105",
         "grocery_pos",
         "83.81",
         "F",
         "36.9688",
         "-78.5615",
         "1970",
         "1985-09-02",
         "36.822396000000005",
         "-78.452392",
         "0",
         "54.60830587589237",
         "115.98829801075554"
        ],
        [
         "24",
         "2019-01-01 01:37:06",
         "6011504998544485",
         "grocery_pos",
         "92.56",
         "F",
         "32.5104",
         "-86.8138",
         "1089",
         "1971-11-02",
         "33.347838",
         "-86.819795",
         "0",
         "54.900449771689495",
         "113.803778955078"
        ],
        [
         "25",
         "2019-01-01 01:45:21",
         "3511378610369890",
         "gas_transport",
         "75.76",
         "M",
         "34.7789",
         "-86.5438",
         "190178",
         "1973-04-01",
         "33.816815000000005",
         "-86.429446",
         "0",
         "60.341105292171996",
         "167.09139496424356"
        ],
        [
         "26",
         "2019-01-01 01:46:08",
         "6011367958204270",
         "gas_transport",
         "83.1",
         "F",
         "41.2419",
         "-81.7453",
         "7646",
         "1988-09-15",
         "42.206551",
         "-81.59184499999999",
         "0",
         "92.78409589041097",
         "191.76856049022064"
        ],
        [
         "27",
         "2019-01-01 01:47:09",
         "4653879239169997",
         "grocery_net",
         "53.87",
         "F",
         "37.0581",
         "-86.1938",
         "6841",
         "1999-06-06",
         "36.784818",
         "-86.36912199999999",
         "0",
         "50.18193309569509",
         "121.33056707917483"
        ],
        [
         "28",
         "2019-01-01 01:49:37",
         "3583635130604947",
         "grocery_net",
         "56.35",
         "F",
         "40.0369",
         "-75.0664",
         "1526206",
         "1985-01-01",
         "39.220115",
         "-74.711564",
         "0",
         "89.35644063926941",
         "128.10248572961"
        ],
        [
         "29",
         "2019-01-01 01:50:26",
         "3541160328600277",
         "grocery_net",
         "55.81",
         "M",
         "39.5723",
         "-90.2379",
         "1512",
         "2003-05-07",
         "39.575819",
         "-90.149623",
         "0",
         "73.8804446884436",
         "163.67359312570105"
        ],
        [
         "30",
         "2019-01-01 01:59:23",
         "4646845581490336108",
         "misc_pos",
         "10.26",
         "F",
         "40.732",
         "-73.1",
         "4056",
         "1990-06-25",
         "40.711398",
         "-73.523504",
         "0",
         "91.5275697865353",
         "141.99079839271764"
        ],
        [
         "31",
         "2019-01-01 02:13:16",
         "3575789281659026",
         "gas_transport",
         "39.98",
         "F",
         "38.7897",
         "-93.8702",
         "2368",
         "1989-07-17",
         "38.995701",
         "-93.569356",
         "0",
         "56.93526255707763",
         "135.9338627989584"
        ],
        [
         "32",
         "2019-01-01 02:20:32",
         "4302480582202074",
         "grocery_net",
         "76.37",
         "M",
         "43.2326",
         "-86.2492",
         "128715",
         "1995-05-25",
         "44.036016",
         "-86.754147",
         "0",
         "57.35247261774371",
         "162.81310842862356"
        ],
        [
         "33",
         "2019-01-01 02:20:56",
         "3533742182628021",
         "grocery_net",
         "28.37",
         "M",
         "32.8357",
         "-79.8217",
         "20478",
         "1997-06-04",
         "33.791152000000004",
         "-80.788125",
         "0",
         "47.96338090010977",
         "114.40601824554874"
        ],
        [
         "34",
         "2019-01-01 02:26:14",
         "4364010865167176",
         "gas_transport",
         "61.99",
         "M",
         "39.5483",
         "-119.7957",
         "276896",
         "1997-03-12",
         "38.573952",
         "-120.084189",
         "0",
         "47.87644322845417",
         "125.87984204699926"
        ],
        [
         "35",
         "2019-01-01 02:29:25",
         "4745996322265",
         "gas_transport",
         "59.19",
         "F",
         "41.4802",
         "-86.6919",
         "1423",
         "1998-10-07",
         "41.537215",
         "-86.095249",
         "0",
         "75.75266195255475",
         "169.15023053295914"
        ],
        [
         "36",
         "2019-01-01 02:32:26",
         "3576431665303017",
         "grocery_net",
         "57.57",
         "F",
         "33.5623",
         "-112.0559",
         "1312922",
         "1981-10-24",
         "32.635757",
         "-112.19588600000002",
         "0",
         "85.05874484654146",
         "110.50820434794231"
        ],
        [
         "37",
         "2019-01-01 02:33:06",
         "3566094707272327",
         "misc_pos",
         "99.08",
         "F",
         "34.3795",
         "-118.523",
         "34882",
         "1971-04-25",
         "34.370236",
         "-118.195791",
         "0",
         "94.11750800182898",
         "284.9539101038539"
        ],
        [
         "38",
         "2019-01-01 02:36:30",
         "2264937662466770",
         "gas_transport",
         "74.6",
         "M",
         "29.3641",
         "-98.4924",
         "1595797",
         "1995-10-17",
         "28.654435",
         "-97.738555",
         "0",
         "57.43135890410959",
         "346.3848122410835"
        ],
        [
         "39",
         "2019-01-01 02:42:12",
         "377026671291680",
         "misc_net",
         "185.04",
         "F",
         "37.3272",
         "-91.0243",
         "241",
         "1974-10-27",
         "36.518512",
         "-91.363405",
         "0",
         "59.405041050903115",
         "164.72196294887027"
        ],
        [
         "40",
         "2019-01-01 02:49:55",
         "4681699462969",
         "misc_net",
         "4.73",
         "M",
         "35.8596",
         "-86.421",
         "158701",
         "1978-03-06",
         "35.740311",
         "-85.744277",
         "0",
         "58.949129244249725",
         "158.7256379421247"
        ],
        [
         "41",
         "2019-01-01 02:50:00",
         "340953839692349",
         "grocery_pos",
         "60.71",
         "M",
         "42.5164",
         "-82.9832",
         "134056",
         "1980-05-18",
         "42.338025",
         "-82.279667",
         "0",
         "55.6802850877193",
         "102.08165385875638"
        ],
        [
         "42",
         "2019-01-01 02:51:32",
         "373905417449658",
         "grocery_net",
         "59.84",
         "F",
         "31.929",
         "-97.6443",
         "2526",
         "1970-11-12",
         "32.3623",
         "-97.137624",
         "0",
         "87.33323739035089",
         "120.57932410632262"
        ],
        [
         "43",
         "2019-01-01 03:00:10",
         "581686439828",
         "grocery_net",
         "59.67",
         "M",
         "41.5205",
         "-80.0573",
         "5507",
         "1973-07-28",
         "40.891784",
         "-79.319239",
         "0",
         "58.57867506159321",
         "149.8049915301419"
        ],
        [
         "44",
         "2019-01-01 03:04:28",
         "4587657402165341815",
         "grocery_net",
         "25.89",
         "F",
         "41.0646",
         "-87.5917",
         "2135",
         "2004-05-08",
         "40.888445",
         "-87.409615",
         "0",
         "73.82924994283101",
         "180.70426160257313"
        ],
        [
         "45",
         "2019-01-01 03:10:00",
         "4587657402165341815",
         "gas_transport",
         "77.59",
         "F",
         "41.0646",
         "-87.5917",
         "2135",
         "2004-05-08",
         "41.81826",
         "-88.129609",
         "0",
         "73.82924994283101",
         "180.70426160257313"
        ],
        [
         "46",
         "2019-01-01 03:45:11",
         "3596217206093829",
         "gas_transport",
         "47.65",
         "F",
         "40.8626",
         "-91.9534",
         "888",
         "1988-03-25",
         "41.703284",
         "-91.723311",
         "0",
         "59.44377142857143",
         "127.20090847643998"
        ],
        [
         "47",
         "2019-01-01 03:47:28",
         "3583635130604947",
         "grocery_pos",
         "205.79",
         "F",
         "40.0369",
         "-75.0664",
         "1526206",
         "1985-01-01",
         "40.650005",
         "-74.29818399999999",
         "0",
         "89.35644063926941",
         "128.10248572961"
        ],
        [
         "48",
         "2019-01-01 03:49:40",
         "4099707841315751",
         "grocery_pos",
         "62.03",
         "M",
         "38.2586",
         "-78.4074",
         "9815",
         "1975-07-07",
         "39.202859",
         "-78.247865",
         "0",
         "64.10748016415869",
         "250.9084362578438"
        ],
        [
         "49",
         "2019-01-01 03:49:49",
         "4452366298769043",
         "grocery_net",
         "30.69",
         "F",
         "32.0758",
         "-96.701",
         "1563",
         "1978-03-04",
         "31.7063",
         "-97.507141",
         "0",
         "55.34231570293232",
         "112.50727023624819"
        ]
       ],
       "shape": {
        "columns": 14,
        "rows": 491134
       }
      },
      "text/html": [
       "<div>\n",
       "<style scoped>\n",
       "    .dataframe tbody tr th:only-of-type {\n",
       "        vertical-align: middle;\n",
       "    }\n",
       "\n",
       "    .dataframe tbody tr th {\n",
       "        vertical-align: top;\n",
       "    }\n",
       "\n",
       "    .dataframe thead th {\n",
       "        text-align: right;\n",
       "    }\n",
       "</style>\n",
       "<table border=\"1\" class=\"dataframe\">\n",
       "  <thead>\n",
       "    <tr style=\"text-align: right;\">\n",
       "      <th></th>\n",
       "      <th>trans_date_trans_time</th>\n",
       "      <th>cc_num</th>\n",
       "      <th>category</th>\n",
       "      <th>amt</th>\n",
       "      <th>gender</th>\n",
       "      <th>lat</th>\n",
       "      <th>long</th>\n",
       "      <th>city_pop</th>\n",
       "      <th>dob</th>\n",
       "      <th>merch_lat</th>\n",
       "      <th>merch_long</th>\n",
       "      <th>is_fraud</th>\n",
       "      <th>mean</th>\n",
       "      <th>std</th>\n",
       "    </tr>\n",
       "  </thead>\n",
       "  <tbody>\n",
       "    <tr>\n",
       "      <th>0</th>\n",
       "      <td>2019-01-01 00:00:44</td>\n",
       "      <td>630423337322</td>\n",
       "      <td>grocery_pos</td>\n",
       "      <td>107.23</td>\n",
       "      <td>F</td>\n",
       "      <td>48.8878</td>\n",
       "      <td>-118.2105</td>\n",
       "      <td>149</td>\n",
       "      <td>1978-06-21</td>\n",
       "      <td>49.159047</td>\n",
       "      <td>-118.186462</td>\n",
       "      <td>0</td>\n",
       "      <td>56.078113</td>\n",
       "      <td>159.201852</td>\n",
       "    </tr>\n",
       "    <tr>\n",
       "      <th>1</th>\n",
       "      <td>2019-01-01 00:12:34</td>\n",
       "      <td>4956828990005111019</td>\n",
       "      <td>grocery_pos</td>\n",
       "      <td>44.71</td>\n",
       "      <td>M</td>\n",
       "      <td>40.6747</td>\n",
       "      <td>-74.2239</td>\n",
       "      <td>124967</td>\n",
       "      <td>1980-12-21</td>\n",
       "      <td>40.079588</td>\n",
       "      <td>-74.848087</td>\n",
       "      <td>0</td>\n",
       "      <td>59.858059</td>\n",
       "      <td>132.138802</td>\n",
       "    </tr>\n",
       "    <tr>\n",
       "      <th>2</th>\n",
       "      <td>2019-01-01 00:17:16</td>\n",
       "      <td>180048185037117</td>\n",
       "      <td>grocery_net</td>\n",
       "      <td>46.28</td>\n",
       "      <td>F</td>\n",
       "      <td>40.6152</td>\n",
       "      <td>-74.4150</td>\n",
       "      <td>71485</td>\n",
       "      <td>1974-07-19</td>\n",
       "      <td>40.021888</td>\n",
       "      <td>-74.228188</td>\n",
       "      <td>0</td>\n",
       "      <td>87.328067</td>\n",
       "      <td>113.454416</td>\n",
       "    </tr>\n",
       "    <tr>\n",
       "      <th>3</th>\n",
       "      <td>2019-01-01 00:20:15</td>\n",
       "      <td>374930071163758</td>\n",
       "      <td>grocery_pos</td>\n",
       "      <td>64.09</td>\n",
       "      <td>M</td>\n",
       "      <td>42.2203</td>\n",
       "      <td>-83.3583</td>\n",
       "      <td>31515</td>\n",
       "      <td>1971-11-05</td>\n",
       "      <td>42.360426</td>\n",
       "      <td>-83.552316</td>\n",
       "      <td>0</td>\n",
       "      <td>64.317839</td>\n",
       "      <td>174.739042</td>\n",
       "    </tr>\n",
       "    <tr>\n",
       "      <th>4</th>\n",
       "      <td>2019-01-01 00:23:41</td>\n",
       "      <td>2712209726293386</td>\n",
       "      <td>misc_pos</td>\n",
       "      <td>25.58</td>\n",
       "      <td>F</td>\n",
       "      <td>30.4066</td>\n",
       "      <td>-91.1468</td>\n",
       "      <td>378909</td>\n",
       "      <td>1977-02-22</td>\n",
       "      <td>29.737426</td>\n",
       "      <td>-90.853194</td>\n",
       "      <td>0</td>\n",
       "      <td>90.747123</td>\n",
       "      <td>165.470881</td>\n",
       "    </tr>\n",
       "    <tr>\n",
       "      <th>...</th>\n",
       "      <td>...</td>\n",
       "      <td>...</td>\n",
       "      <td>...</td>\n",
       "      <td>...</td>\n",
       "      <td>...</td>\n",
       "      <td>...</td>\n",
       "      <td>...</td>\n",
       "      <td>...</td>\n",
       "      <td>...</td>\n",
       "      <td>...</td>\n",
       "      <td>...</td>\n",
       "      <td>...</td>\n",
       "      <td>...</td>\n",
       "      <td>...</td>\n",
       "    </tr>\n",
       "    <tr>\n",
       "      <th>491129</th>\n",
       "      <td>2020-12-31 23:56:48</td>\n",
       "      <td>6011109736646996</td>\n",
       "      <td>home</td>\n",
       "      <td>134.26</td>\n",
       "      <td>F</td>\n",
       "      <td>34.2651</td>\n",
       "      <td>-77.8670</td>\n",
       "      <td>186140</td>\n",
       "      <td>1983-02-08</td>\n",
       "      <td>34.853497</td>\n",
       "      <td>-78.664158</td>\n",
       "      <td>0</td>\n",
       "      <td>87.442772</td>\n",
       "      <td>129.935554</td>\n",
       "    </tr>\n",
       "    <tr>\n",
       "      <th>491130</th>\n",
       "      <td>2020-12-31 23:56:57</td>\n",
       "      <td>213112402583773</td>\n",
       "      <td>shopping_pos</td>\n",
       "      <td>25.49</td>\n",
       "      <td>F</td>\n",
       "      <td>34.0326</td>\n",
       "      <td>-82.2027</td>\n",
       "      <td>1523</td>\n",
       "      <td>1984-06-03</td>\n",
       "      <td>35.008839</td>\n",
       "      <td>-81.475156</td>\n",
       "      <td>0</td>\n",
       "      <td>58.181297</td>\n",
       "      <td>188.339282</td>\n",
       "    </tr>\n",
       "    <tr>\n",
       "      <th>491131</th>\n",
       "      <td>2020-12-31 23:59:09</td>\n",
       "      <td>3556613125071656</td>\n",
       "      <td>kids_pets</td>\n",
       "      <td>111.84</td>\n",
       "      <td>M</td>\n",
       "      <td>29.0393</td>\n",
       "      <td>-95.4401</td>\n",
       "      <td>28739</td>\n",
       "      <td>1999-12-27</td>\n",
       "      <td>29.661049</td>\n",
       "      <td>-96.186633</td>\n",
       "      <td>0</td>\n",
       "      <td>50.452289</td>\n",
       "      <td>168.361122</td>\n",
       "    </tr>\n",
       "    <tr>\n",
       "      <th>491132</th>\n",
       "      <td>2020-12-31 23:59:15</td>\n",
       "      <td>6011724471098086</td>\n",
       "      <td>kids_pets</td>\n",
       "      <td>86.88</td>\n",
       "      <td>F</td>\n",
       "      <td>46.1966</td>\n",
       "      <td>-118.9017</td>\n",
       "      <td>3684</td>\n",
       "      <td>1981-11-29</td>\n",
       "      <td>46.658340</td>\n",
       "      <td>-119.715054</td>\n",
       "      <td>0</td>\n",
       "      <td>88.704297</td>\n",
       "      <td>119.948793</td>\n",
       "    </tr>\n",
       "    <tr>\n",
       "      <th>491133</th>\n",
       "      <td>2020-12-31 23:59:34</td>\n",
       "      <td>4170689372027579</td>\n",
       "      <td>entertainment</td>\n",
       "      <td>38.13</td>\n",
       "      <td>M</td>\n",
       "      <td>35.6665</td>\n",
       "      <td>-97.4798</td>\n",
       "      <td>116001</td>\n",
       "      <td>1993-05-10</td>\n",
       "      <td>36.210097</td>\n",
       "      <td>-97.036372</td>\n",
       "      <td>0</td>\n",
       "      <td>61.737724</td>\n",
       "      <td>154.715895</td>\n",
       "    </tr>\n",
       "  </tbody>\n",
       "</table>\n",
       "<p>491134 rows × 14 columns</p>\n",
       "</div>"
      ],
      "text/plain": [
       "       trans_date_trans_time               cc_num       category     amt  \\\n",
       "0        2019-01-01 00:00:44         630423337322    grocery_pos  107.23   \n",
       "1        2019-01-01 00:12:34  4956828990005111019    grocery_pos   44.71   \n",
       "2        2019-01-01 00:17:16      180048185037117    grocery_net   46.28   \n",
       "3        2019-01-01 00:20:15      374930071163758    grocery_pos   64.09   \n",
       "4        2019-01-01 00:23:41     2712209726293386       misc_pos   25.58   \n",
       "...                      ...                  ...            ...     ...   \n",
       "491129   2020-12-31 23:56:48     6011109736646996           home  134.26   \n",
       "491130   2020-12-31 23:56:57      213112402583773   shopping_pos   25.49   \n",
       "491131   2020-12-31 23:59:09     3556613125071656      kids_pets  111.84   \n",
       "491132   2020-12-31 23:59:15     6011724471098086      kids_pets   86.88   \n",
       "491133   2020-12-31 23:59:34     4170689372027579  entertainment   38.13   \n",
       "\n",
       "       gender      lat      long  city_pop         dob  merch_lat  merch_long  \\\n",
       "0           F  48.8878 -118.2105       149  1978-06-21  49.159047 -118.186462   \n",
       "1           M  40.6747  -74.2239    124967  1980-12-21  40.079588  -74.848087   \n",
       "2           F  40.6152  -74.4150     71485  1974-07-19  40.021888  -74.228188   \n",
       "3           M  42.2203  -83.3583     31515  1971-11-05  42.360426  -83.552316   \n",
       "4           F  30.4066  -91.1468    378909  1977-02-22  29.737426  -90.853194   \n",
       "...       ...      ...       ...       ...         ...        ...         ...   \n",
       "491129      F  34.2651  -77.8670    186140  1983-02-08  34.853497  -78.664158   \n",
       "491130      F  34.0326  -82.2027      1523  1984-06-03  35.008839  -81.475156   \n",
       "491131      M  29.0393  -95.4401     28739  1999-12-27  29.661049  -96.186633   \n",
       "491132      F  46.1966 -118.9017      3684  1981-11-29  46.658340 -119.715054   \n",
       "491133      M  35.6665  -97.4798    116001  1993-05-10  36.210097  -97.036372   \n",
       "\n",
       "        is_fraud       mean         std  \n",
       "0              0  56.078113  159.201852  \n",
       "1              0  59.858059  132.138802  \n",
       "2              0  87.328067  113.454416  \n",
       "3              0  64.317839  174.739042  \n",
       "4              0  90.747123  165.470881  \n",
       "...          ...        ...         ...  \n",
       "491129         0  87.442772  129.935554  \n",
       "491130         0  58.181297  188.339282  \n",
       "491131         0  50.452289  168.361122  \n",
       "491132         0  88.704297  119.948793  \n",
       "491133         0  61.737724  154.715895  \n",
       "\n",
       "[491134 rows x 14 columns]"
      ]
     },
     "execution_count": 18,
     "metadata": {},
     "output_type": "execute_result"
    }
   ],
   "source": [
    "cc_df"
   ]
  },
  {
   "cell_type": "code",
   "execution_count": 19,
   "id": "884fc094",
   "metadata": {},
   "outputs": [],
   "source": [
    "# Q. 결제금액(amt)의 z-score를 계산하여 amt_z 컬럼에 저장합니다.\n",
    "# 평균: mean, 표준편차: std\n",
    "\n",
    "cc_df['amt_z'] = (cc_df['amt']-cc_df['mean'])/cc_df['std']"
   ]
  },
  {
   "cell_type": "code",
   "execution_count": 20,
   "id": "7b583f47",
   "metadata": {},
   "outputs": [
    {
     "data": {
      "application/vnd.microsoft.datawrangler.viewer.v0+json": {
       "columns": [
        {
         "name": "index",
         "rawType": "int64",
         "type": "integer"
        },
        {
         "name": "trans_date_trans_time",
         "rawType": "object",
         "type": "string"
        },
        {
         "name": "cc_num",
         "rawType": "int64",
         "type": "integer"
        },
        {
         "name": "category",
         "rawType": "object",
         "type": "string"
        },
        {
         "name": "amt",
         "rawType": "float64",
         "type": "float"
        },
        {
         "name": "gender",
         "rawType": "object",
         "type": "string"
        },
        {
         "name": "lat",
         "rawType": "float64",
         "type": "float"
        },
        {
         "name": "long",
         "rawType": "float64",
         "type": "float"
        },
        {
         "name": "city_pop",
         "rawType": "int64",
         "type": "integer"
        },
        {
         "name": "dob",
         "rawType": "object",
         "type": "string"
        },
        {
         "name": "merch_lat",
         "rawType": "float64",
         "type": "float"
        },
        {
         "name": "merch_long",
         "rawType": "float64",
         "type": "float"
        },
        {
         "name": "is_fraud",
         "rawType": "int64",
         "type": "integer"
        },
        {
         "name": "mean",
         "rawType": "float64",
         "type": "float"
        },
        {
         "name": "std",
         "rawType": "float64",
         "type": "float"
        },
        {
         "name": "amt_z",
         "rawType": "float64",
         "type": "float"
        }
       ],
       "ref": "093308ad-2ce6-4394-bcb1-8eab2307c330",
       "rows": [
        [
         "4794",
         "2019-01-12 00:59:01",
         "581686439828",
         "gas_transport",
         "11.73",
         "M",
         "41.5205",
         "-80.0573",
         "5507",
         "1973-07-28",
         "41.947427000000005",
         "-79.79626400000001",
         "1",
         "58.57867506159321",
         "149.8049915301419",
         "-0.3127310684582022"
        ],
        [
         "4816",
         "2019-01-12 03:48:07",
         "581686439828",
         "grocery_pos",
         "328.68",
         "M",
         "41.5205",
         "-80.0573",
         "5507",
         "1973-07-28",
         "42.148618",
         "-79.398595",
         "1",
         "58.57867506159321",
         "149.8049915301419",
         "1.8030195267829934"
        ],
        [
         "4979",
         "2019-01-12 15:46:10",
         "581686439828",
         "food_dining",
         "120.58",
         "M",
         "41.5205",
         "-80.0573",
         "5507",
         "1973-07-28",
         "42.470024",
         "-80.126576",
         "1",
         "58.57867506159321",
         "149.8049915301419",
         "0.4138802339302002"
        ],
        [
         "5073",
         "2019-01-12 19:53:59",
         "581686439828",
         "shopping_net",
         "1081.35",
         "M",
         "41.5205",
         "-80.0573",
         "5507",
         "1973-07-28",
         "42.455406",
         "-79.52164",
         "1",
         "58.57867506159321",
         "149.8049915301419",
         "6.827351441975265"
        ],
        [
         "5124",
         "2019-01-12 22:44:05",
         "581686439828",
         "shopping_net",
         "776.7",
         "M",
         "41.5205",
         "-80.0573",
         "5507",
         "1973-07-28",
         "40.680209000000005",
         "-79.099101",
         "1",
         "58.57867506159321",
         "149.8049915301419",
         "4.79370759013671"
        ],
        [
         "5160",
         "2019-01-13 00:49:04",
         "180031190491743",
         "shopping_pos",
         "952.08",
         "F",
         "30.7145",
         "-88.0918",
         "270712",
         "1972-01-05",
         "30.803533",
         "-88.14011500000001",
         "1",
         "90.34409302325581",
         "136.51688628192392",
         "6.3123026787847705"
        ],
        [
         "5171",
         "2019-01-13 01:31:07",
         "180031190491743",
         "shopping_net",
         "1060.34",
         "F",
         "30.7145",
         "-88.0918",
         "270712",
         "1972-01-05",
         "31.602312",
         "-88.685518",
         "1",
         "90.34409302325581",
         "136.51688628192392",
         "7.105318128730134"
        ],
        [
         "5240",
         "2019-01-13 07:26:22",
         "581686439828",
         "grocery_pos",
         "308.84",
         "M",
         "41.5205",
         "-80.0573",
         "5507",
         "1973-07-28",
         "42.194299",
         "-80.572425",
         "1",
         "58.57867506159321",
         "149.8049915301419",
         "1.670580682140036"
        ],
        [
         "5341",
         "2019-01-13 13:32:07",
         "180031190491743",
         "kids_pets",
         "19.19",
         "F",
         "30.7145",
         "-88.0918",
         "270712",
         "1972-01-05",
         "30.917934",
         "-88.582726",
         "1",
         "90.34409302325581",
         "136.51688628192392",
         "-0.5212109282679799"
        ],
        [
         "5453",
         "2019-01-13 17:01:46",
         "581686439828",
         "shopping_net",
         "1033.78",
         "M",
         "41.5205",
         "-80.0573",
         "5507",
         "1973-07-28",
         "41.609588",
         "-80.17312700000001",
         "1",
         "58.57867506159321",
         "149.8049915301419",
         "6.509805280701804"
        ],
        [
         "5597",
         "2019-01-13 22:00:13",
         "581686439828",
         "shopping_net",
         "859.46",
         "M",
         "41.5205",
         "-80.0573",
         "5507",
         "1973-07-28",
         "41.872",
         "-79.60297",
         "1",
         "58.57867506159321",
         "149.8049915301419",
         "5.3461591416816265"
        ],
        [
         "5608",
         "2019-01-13 22:24:58",
         "581686439828",
         "shopping_pos",
         "728.77",
         "M",
         "41.5205",
         "-80.0573",
         "5507",
         "1973-07-28",
         "41.250399",
         "-79.519284",
         "1",
         "58.57867506159321",
         "149.8049915301419",
         "4.473758304666098"
        ],
        [
         "5614",
         "2019-01-13 22:35:51",
         "180031190491743",
         "kids_pets",
         "25.27",
         "F",
         "30.7145",
         "-88.0918",
         "270712",
         "1972-01-05",
         "31.146301",
         "-89.003622",
         "1",
         "90.34409302325581",
         "136.51688628192392",
         "-0.47667431330707266"
        ],
        [
         "5634",
         "2019-01-13 23:10:28",
         "180031190491743",
         "kids_pets",
         "23.18",
         "F",
         "30.7145",
         "-88.0918",
         "270712",
         "1972-01-05",
         "30.209",
         "-88.98198199999999",
         "1",
         "90.34409302325581",
         "136.51688628192392",
         "-0.4919837746998845"
        ],
        [
         "5647",
         "2019-01-13 23:33:40",
         "581686439828",
         "kids_pets",
         "20.96",
         "M",
         "41.5205",
         "-80.0573",
         "5507",
         "1973-07-28",
         "41.100634",
         "-79.38016",
         "1",
         "58.57867506159321",
         "149.8049915301419",
         "-0.2511176341812619"
        ],
        [
         "5649",
         "2019-01-13 23:39:20",
         "180031190491743",
         "home",
         "224.94",
         "F",
         "30.7145",
         "-88.0918",
         "270712",
         "1972-01-05",
         "30.344517",
         "-88.770517",
         "1",
         "90.34409302325581",
         "136.51688628192392",
         "0.9859286322923254"
        ],
        [
         "5666",
         "2019-01-14 00:18:25",
         "180031190491743",
         "misc_net",
         "813.73",
         "F",
         "30.7145",
         "-88.0918",
         "270712",
         "1972-01-05",
         "31.703636",
         "-87.50784499999999",
         "1",
         "90.34409302325581",
         "136.51688628192392",
         "5.298874935389785"
        ],
        [
         "5702",
         "2019-01-14 02:43:50",
         "180031190491743",
         "grocery_pos",
         "377.28",
         "F",
         "30.7145",
         "-88.0918",
         "270712",
         "1972-01-05",
         "30.707366",
         "-88.776325",
         "1",
         "90.34409302325581",
         "136.51688628192392",
         "2.1018345407042665"
        ],
        [
         "5705",
         "2019-01-14 02:52:48",
         "180031190491743",
         "misc_pos",
         "7.24",
         "F",
         "30.7145",
         "-88.0918",
         "270712",
         "1972-01-05",
         "31.427686",
         "-88.056135",
         "1",
         "90.34409302325581",
         "136.51688628192392",
         "-0.6087458869493683"
        ],
        [
         "5711",
         "2019-01-14 03:14:00",
         "3595192916105588",
         "misc_net",
         "801.35",
         "M",
         "35.0583",
         "-79.008",
         "238602",
         "1993-05-14",
         "35.860218",
         "-78.037255",
         "1",
         "61.01870279146141",
         "175.3384279699729",
         "4.222299160428894"
        ],
        [
         "5723",
         "2019-01-14 03:49:26",
         "3595192916105588",
         "misc_net",
         "746.43",
         "M",
         "35.0583",
         "-79.008",
         "238602",
         "1993-05-14",
         "35.549423",
         "-79.98615699999999",
         "1",
         "61.01870279146141",
         "175.3384279699729",
         "3.9090763225384726"
        ],
        [
         "5743",
         "2019-01-14 05:02:51",
         "180031190491743",
         "shopping_pos",
         "747.46",
         "F",
         "30.7145",
         "-88.0918",
         "270712",
         "1972-01-05",
         "31.460253",
         "-89.039611",
         "1",
         "90.34409302325581",
         "136.51688628192392",
         "4.813440482518186"
        ],
        [
         "5789",
         "2019-01-14 07:50:14",
         "180031190491743",
         "entertainment",
         "522.21",
         "F",
         "30.7145",
         "-88.0918",
         "270712",
         "1972-01-05",
         "31.63293",
         "-88.401395",
         "1",
         "90.34409302325581",
         "136.51688628192392",
         "3.1634614496326026"
        ],
        [
         "5811",
         "2019-01-14 09:05:50",
         "180031190491743",
         "gas_transport",
         "10.72",
         "F",
         "30.7145",
         "-88.0918",
         "270712",
         "1972-01-05",
         "29.970693",
         "-88.339839",
         "1",
         "90.34409302325581",
         "136.51688628192392",
         "-0.5832545349651648"
        ],
        [
         "6257",
         "2019-01-14 22:23:44",
         "3595192916105588",
         "shopping_net",
         "1169.82",
         "M",
         "35.0583",
         "-79.008",
         "238602",
         "1993-05-14",
         "35.849003",
         "-78.63815600000001",
         "1",
         "61.01870279146141",
         "175.3384279699729",
         "6.323778021999964"
        ],
        [
         "6258",
         "2019-01-14 22:23:54",
         "3595192916105588",
         "misc_net",
         "690.81",
         "M",
         "35.0583",
         "-79.008",
         "238602",
         "1993-05-14",
         "35.439158",
         "-78.609636",
         "1",
         "61.01870279146141",
         "175.3384279699729",
         "3.5918612052139056"
        ],
        [
         "6284",
         "2019-01-14 22:56:50",
         "180031190491743",
         "home",
         "249.87",
         "F",
         "30.7145",
         "-88.0918",
         "270712",
         "1972-01-05",
         "30.727198",
         "-88.49914799999999",
         "1",
         "90.34409302325581",
         "136.51688628192392",
         "1.1685434038343347"
        ],
        [
         "6310",
         "2019-01-14 23:36:30",
         "180031190491743",
         "travel",
         "10.2",
         "F",
         "30.7145",
         "-88.0918",
         "270712",
         "1972-01-05",
         "31.648465",
         "-88.117149",
         "1",
         "90.34409302325581",
         "136.51688628192392",
         "-0.5870635875605055"
        ],
        [
         "6315",
         "2019-01-14 23:43:47",
         "3595192916105588",
         "kids_pets",
         "20.63",
         "M",
         "35.0583",
         "-79.008",
         "238602",
         "1993-05-14",
         "35.549738",
         "-78.076512",
         "1",
         "61.01870279146141",
         "175.3384279699729",
         "-0.23034712503740518"
        ],
        [
         "6338",
         "2019-01-15 00:21:45",
         "3595192916105588",
         "grocery_pos",
         "297.74",
         "M",
         "35.0583",
         "-79.008",
         "238602",
         "1993-05-14",
         "34.233493",
         "-78.37637",
         "1",
         "61.01870279146141",
         "175.3384279699729",
         "1.3500822378142778"
        ],
        [
         "6359",
         "2019-01-15 02:31:09",
         "3595192916105588",
         "grocery_pos",
         "328.58",
         "M",
         "35.0583",
         "-79.008",
         "238602",
         "1993-05-14",
         "35.808195",
         "-79.179802",
         "1",
         "61.01870279146141",
         "175.3384279699729",
         "1.5259706631700782"
        ],
        [
         "6372",
         "2019-01-15 03:07:43",
         "3595192916105588",
         "grocery_pos",
         "331.43",
         "M",
         "35.0583",
         "-79.008",
         "238602",
         "1993-05-14",
         "35.755802",
         "-78.38800400000001",
         "1",
         "61.01870279146141",
         "175.3384279699729",
         "1.5422249437233868"
        ],
        [
         "6465",
         "2019-01-15 09:37:51",
         "3595192916105588",
         "misc_net",
         "760.83",
         "M",
         "35.0583",
         "-79.008",
         "238602",
         "1993-05-14",
         "35.645903999999994",
         "-79.26185799999999",
         "1",
         "61.01870279146141",
         "175.3384279699729",
         "3.9912032137551896"
        ],
        [
         "6894",
         "2019-01-15 22:05:57",
         "3595192916105588",
         "travel",
         "10.29",
         "M",
         "35.0583",
         "-79.008",
         "238602",
         "1993-05-14",
         "35.102385",
         "-79.953349",
         "1",
         "61.01870279146141",
         "175.3384279699729",
         "-0.28931879553607504"
        ],
        [
         "6907",
         "2019-01-15 22:25:55",
         "3595192916105588",
         "shopping_net",
         "925.74",
         "M",
         "35.0583",
         "-79.008",
         "238602",
         "1993-05-14",
         "34.915625",
         "-79.223466",
         "1",
         "61.01870279146141",
         "175.3384279699729",
         "4.9317272158766245"
        ],
        [
         "6937",
         "2019-01-15 23:23:32",
         "3595192916105588",
         "shopping_net",
         "1062.87",
         "M",
         "35.0583",
         "-79.008",
         "238602",
         "1993-05-14",
         "34.514466",
         "-79.36057",
         "1",
         "61.01870279146141",
         "175.3384279699729",
         "5.713814757025811"
        ],
        [
         "7245",
         "2019-01-17 01:30:08",
         "4642255475285942",
         "misc_pos",
         "795.59",
         "F",
         "38.9999",
         "-109.615",
         "46",
         "1987-04-23",
         "38.278335",
         "-109.044284",
         "1",
         "59.12440264477884",
         "145.25233001252417",
         "5.070249801099374"
        ],
        [
         "7301",
         "2019-01-17 08:59:07",
         "4642255475285942",
         "gas_transport",
         "9.79",
         "F",
         "38.9999",
         "-109.615",
         "46",
         "1987-04-23",
         "39.157345",
         "-109.126592",
         "1",
         "59.12440264477884",
         "145.25233001252417",
         "-0.3396462049216357"
        ],
        [
         "7539",
         "2019-01-17 22:26:02",
         "4642255475285942",
         "home",
         "187.35",
         "F",
         "38.9999",
         "-109.615",
         "46",
         "1987-04-23",
         "39.42207",
         "-109.555496",
         "1",
         "59.12440264477884",
         "145.25233001252417",
         "0.8827782476478353"
        ],
        [
         "7548",
         "2019-01-17 22:45:26",
         "4642255475285942",
         "entertainment",
         "564.34",
         "F",
         "38.9999",
         "-109.615",
         "46",
         "1987-04-23",
         "38.435536",
         "-109.844716",
         "1",
         "59.12440264477884",
         "145.25233001252417",
         "3.4781927237357206"
        ],
        [
         "7573",
         "2019-01-18 00:23:01",
         "4642255475285942",
         "shopping_net",
         "978.96",
         "F",
         "38.9999",
         "-109.615",
         "46",
         "1987-04-23",
         "38.893999",
         "-109.677707",
         "1",
         "59.12440264477884",
         "145.25233001252417",
         "6.332673612023365"
        ],
        [
         "7602",
         "2019-01-18 03:36:20",
         "4642255475285942",
         "shopping_net",
         "849.79",
         "F",
         "38.9999",
         "-109.615",
         "46",
         "1987-04-23",
         "38.376171",
         "-110.36249",
         "1",
         "59.12440264477884",
         "145.25233001252417",
         "5.443393557177687"
        ],
        [
         "7605",
         "2019-01-18 03:54:02",
         "4642255475285942",
         "shopping_net",
         "955.4",
         "F",
         "38.9999",
         "-109.615",
         "46",
         "1987-04-23",
         "38.748484000000005",
         "-110.32181",
         "1",
         "59.12440264477884",
         "145.25233001252417",
         "6.170473115838769"
        ],
        [
         "7639",
         "2019-01-18 07:23:31",
         "4586810168620942",
         "grocery_pos",
         "319.37",
         "F",
         "32.5486",
         "-80.307",
         "2408",
         "1997-07-05",
         "32.963738",
         "-79.63131899999999",
         "1",
         "72.95143704379562",
         "77.9612003415283",
         "3.1607846194864493"
        ],
        [
         "7749",
         "2019-01-18 14:38:27",
         "4642255475285942",
         "personal_care",
         "21.54",
         "F",
         "38.9999",
         "-109.615",
         "46",
         "1987-04-23",
         "38.211376",
         "-109.986757",
         "1",
         "59.12440264477884",
         "145.25233001252417",
         "-0.25875249396369876"
        ],
        [
         "7904",
         "2019-01-18 22:06:58",
         "4642255475285942",
         "entertainment",
         "528.98",
         "F",
         "38.9999",
         "-109.615",
         "46",
         "1987-04-23",
         "39.164469",
         "-109.933543",
         "1",
         "59.12440264477884",
         "145.25233001252417",
         "3.23475428803592"
        ],
        [
         "7909",
         "2019-01-18 22:12:40",
         "4642255475285942",
         "personal_care",
         "21.23",
         "F",
         "38.9999",
         "-109.615",
         "46",
         "1987-04-23",
         "38.998205",
         "-110.005615",
         "1",
         "59.12440264477884",
         "145.25233001252417",
         "-0.2608867110187592"
        ],
        [
         "7919",
         "2019-01-18 22:39:11",
         "4586810168620942",
         "shopping_net",
         "1135.27",
         "F",
         "32.5486",
         "-80.307",
         "2408",
         "1997-07-05",
         "32.99101",
         "-80.31371999999999",
         "1",
         "72.95143704379562",
         "77.9612003415283",
         "13.626246880531028"
        ],
        [
         "7931",
         "2019-01-18 23:16:21",
         "4642255475285942",
         "travel",
         "9.33",
         "F",
         "38.9999",
         "-109.615",
         "46",
         "1987-04-23",
         "39.23064",
         "-108.990363",
         "1",
         "59.12440264477884",
         "145.25233001252417",
         "-0.34281310764849965"
        ],
        [
         "7933",
         "2019-01-18 23:20:16",
         "4586810168620942",
         "shopping_pos",
         "1334.07",
         "F",
         "32.5486",
         "-80.307",
         "2408",
         "1997-07-05",
         "31.615611",
         "-79.702908",
         "1",
         "72.95143704379562",
         "77.9612003415283",
         "16.176233272853203"
        ]
       ],
       "shape": {
        "columns": 15,
        "rows": 1244
       }
      },
      "text/html": [
       "<div>\n",
       "<style scoped>\n",
       "    .dataframe tbody tr th:only-of-type {\n",
       "        vertical-align: middle;\n",
       "    }\n",
       "\n",
       "    .dataframe tbody tr th {\n",
       "        vertical-align: top;\n",
       "    }\n",
       "\n",
       "    .dataframe thead th {\n",
       "        text-align: right;\n",
       "    }\n",
       "</style>\n",
       "<table border=\"1\" class=\"dataframe\">\n",
       "  <thead>\n",
       "    <tr style=\"text-align: right;\">\n",
       "      <th></th>\n",
       "      <th>trans_date_trans_time</th>\n",
       "      <th>cc_num</th>\n",
       "      <th>category</th>\n",
       "      <th>amt</th>\n",
       "      <th>gender</th>\n",
       "      <th>lat</th>\n",
       "      <th>long</th>\n",
       "      <th>city_pop</th>\n",
       "      <th>dob</th>\n",
       "      <th>merch_lat</th>\n",
       "      <th>merch_long</th>\n",
       "      <th>is_fraud</th>\n",
       "      <th>mean</th>\n",
       "      <th>std</th>\n",
       "      <th>amt_z</th>\n",
       "    </tr>\n",
       "  </thead>\n",
       "  <tbody>\n",
       "    <tr>\n",
       "      <th>4794</th>\n",
       "      <td>2019-01-12 00:59:01</td>\n",
       "      <td>581686439828</td>\n",
       "      <td>gas_transport</td>\n",
       "      <td>11.73</td>\n",
       "      <td>M</td>\n",
       "      <td>41.5205</td>\n",
       "      <td>-80.0573</td>\n",
       "      <td>5507</td>\n",
       "      <td>1973-07-28</td>\n",
       "      <td>41.947427</td>\n",
       "      <td>-79.796264</td>\n",
       "      <td>1</td>\n",
       "      <td>58.578675</td>\n",
       "      <td>149.804992</td>\n",
       "      <td>-0.312731</td>\n",
       "    </tr>\n",
       "    <tr>\n",
       "      <th>4816</th>\n",
       "      <td>2019-01-12 03:48:07</td>\n",
       "      <td>581686439828</td>\n",
       "      <td>grocery_pos</td>\n",
       "      <td>328.68</td>\n",
       "      <td>M</td>\n",
       "      <td>41.5205</td>\n",
       "      <td>-80.0573</td>\n",
       "      <td>5507</td>\n",
       "      <td>1973-07-28</td>\n",
       "      <td>42.148618</td>\n",
       "      <td>-79.398595</td>\n",
       "      <td>1</td>\n",
       "      <td>58.578675</td>\n",
       "      <td>149.804992</td>\n",
       "      <td>1.803020</td>\n",
       "    </tr>\n",
       "    <tr>\n",
       "      <th>4979</th>\n",
       "      <td>2019-01-12 15:46:10</td>\n",
       "      <td>581686439828</td>\n",
       "      <td>food_dining</td>\n",
       "      <td>120.58</td>\n",
       "      <td>M</td>\n",
       "      <td>41.5205</td>\n",
       "      <td>-80.0573</td>\n",
       "      <td>5507</td>\n",
       "      <td>1973-07-28</td>\n",
       "      <td>42.470024</td>\n",
       "      <td>-80.126576</td>\n",
       "      <td>1</td>\n",
       "      <td>58.578675</td>\n",
       "      <td>149.804992</td>\n",
       "      <td>0.413880</td>\n",
       "    </tr>\n",
       "    <tr>\n",
       "      <th>5073</th>\n",
       "      <td>2019-01-12 19:53:59</td>\n",
       "      <td>581686439828</td>\n",
       "      <td>shopping_net</td>\n",
       "      <td>1081.35</td>\n",
       "      <td>M</td>\n",
       "      <td>41.5205</td>\n",
       "      <td>-80.0573</td>\n",
       "      <td>5507</td>\n",
       "      <td>1973-07-28</td>\n",
       "      <td>42.455406</td>\n",
       "      <td>-79.521640</td>\n",
       "      <td>1</td>\n",
       "      <td>58.578675</td>\n",
       "      <td>149.804992</td>\n",
       "      <td>6.827351</td>\n",
       "    </tr>\n",
       "    <tr>\n",
       "      <th>5124</th>\n",
       "      <td>2019-01-12 22:44:05</td>\n",
       "      <td>581686439828</td>\n",
       "      <td>shopping_net</td>\n",
       "      <td>776.70</td>\n",
       "      <td>M</td>\n",
       "      <td>41.5205</td>\n",
       "      <td>-80.0573</td>\n",
       "      <td>5507</td>\n",
       "      <td>1973-07-28</td>\n",
       "      <td>40.680209</td>\n",
       "      <td>-79.099101</td>\n",
       "      <td>1</td>\n",
       "      <td>58.578675</td>\n",
       "      <td>149.804992</td>\n",
       "      <td>4.793708</td>\n",
       "    </tr>\n",
       "    <tr>\n",
       "      <th>...</th>\n",
       "      <td>...</td>\n",
       "      <td>...</td>\n",
       "      <td>...</td>\n",
       "      <td>...</td>\n",
       "      <td>...</td>\n",
       "      <td>...</td>\n",
       "      <td>...</td>\n",
       "      <td>...</td>\n",
       "      <td>...</td>\n",
       "      <td>...</td>\n",
       "      <td>...</td>\n",
       "      <td>...</td>\n",
       "      <td>...</td>\n",
       "      <td>...</td>\n",
       "      <td>...</td>\n",
       "    </tr>\n",
       "    <tr>\n",
       "      <th>477832</th>\n",
       "      <td>2020-12-21 02:21:41</td>\n",
       "      <td>4716561796955522</td>\n",
       "      <td>grocery_pos</td>\n",
       "      <td>358.24</td>\n",
       "      <td>F</td>\n",
       "      <td>48.2777</td>\n",
       "      <td>-112.8456</td>\n",
       "      <td>743</td>\n",
       "      <td>1972-05-04</td>\n",
       "      <td>47.526202</td>\n",
       "      <td>-113.643313</td>\n",
       "      <td>1</td>\n",
       "      <td>52.537867</td>\n",
       "      <td>106.113023</td>\n",
       "      <td>2.880911</td>\n",
       "    </tr>\n",
       "    <tr>\n",
       "      <th>477847</th>\n",
       "      <td>2020-12-21 02:36:03</td>\n",
       "      <td>4716561796955522</td>\n",
       "      <td>shopping_net</td>\n",
       "      <td>859.12</td>\n",
       "      <td>F</td>\n",
       "      <td>48.2777</td>\n",
       "      <td>-112.8456</td>\n",
       "      <td>743</td>\n",
       "      <td>1972-05-04</td>\n",
       "      <td>48.272348</td>\n",
       "      <td>-112.328075</td>\n",
       "      <td>1</td>\n",
       "      <td>52.537867</td>\n",
       "      <td>106.113023</td>\n",
       "      <td>7.601161</td>\n",
       "    </tr>\n",
       "    <tr>\n",
       "      <th>479296</th>\n",
       "      <td>2020-12-21 22:38:38</td>\n",
       "      <td>4716561796955522</td>\n",
       "      <td>home</td>\n",
       "      <td>209.84</td>\n",
       "      <td>F</td>\n",
       "      <td>48.2777</td>\n",
       "      <td>-112.8456</td>\n",
       "      <td>743</td>\n",
       "      <td>1972-05-04</td>\n",
       "      <td>49.173669</td>\n",
       "      <td>-112.698767</td>\n",
       "      <td>1</td>\n",
       "      <td>52.537867</td>\n",
       "      <td>106.113023</td>\n",
       "      <td>1.482402</td>\n",
       "    </tr>\n",
       "    <tr>\n",
       "      <th>479305</th>\n",
       "      <td>2020-12-21 22:42:11</td>\n",
       "      <td>4716561796955522</td>\n",
       "      <td>food_dining</td>\n",
       "      <td>123.58</td>\n",
       "      <td>F</td>\n",
       "      <td>48.2777</td>\n",
       "      <td>-112.8456</td>\n",
       "      <td>743</td>\n",
       "      <td>1972-05-04</td>\n",
       "      <td>48.913048</td>\n",
       "      <td>-113.214921</td>\n",
       "      <td>1</td>\n",
       "      <td>52.537867</td>\n",
       "      <td>106.113023</td>\n",
       "      <td>0.669495</td>\n",
       "    </tr>\n",
       "    <tr>\n",
       "      <th>479341</th>\n",
       "      <td>2020-12-21 22:59:22</td>\n",
       "      <td>4716561796955522</td>\n",
       "      <td>home</td>\n",
       "      <td>219.11</td>\n",
       "      <td>F</td>\n",
       "      <td>48.2777</td>\n",
       "      <td>-112.8456</td>\n",
       "      <td>743</td>\n",
       "      <td>1972-05-04</td>\n",
       "      <td>47.911219</td>\n",
       "      <td>-113.691603</td>\n",
       "      <td>1</td>\n",
       "      <td>52.537867</td>\n",
       "      <td>106.113023</td>\n",
       "      <td>1.569761</td>\n",
       "    </tr>\n",
       "  </tbody>\n",
       "</table>\n",
       "<p>1244 rows × 15 columns</p>\n",
       "</div>"
      ],
      "text/plain": [
       "       trans_date_trans_time            cc_num       category      amt gender  \\\n",
       "4794     2019-01-12 00:59:01      581686439828  gas_transport    11.73      M   \n",
       "4816     2019-01-12 03:48:07      581686439828    grocery_pos   328.68      M   \n",
       "4979     2019-01-12 15:46:10      581686439828    food_dining   120.58      M   \n",
       "5073     2019-01-12 19:53:59      581686439828   shopping_net  1081.35      M   \n",
       "5124     2019-01-12 22:44:05      581686439828   shopping_net   776.70      M   \n",
       "...                      ...               ...            ...      ...    ...   \n",
       "477832   2020-12-21 02:21:41  4716561796955522    grocery_pos   358.24      F   \n",
       "477847   2020-12-21 02:36:03  4716561796955522   shopping_net   859.12      F   \n",
       "479296   2020-12-21 22:38:38  4716561796955522           home   209.84      F   \n",
       "479305   2020-12-21 22:42:11  4716561796955522    food_dining   123.58      F   \n",
       "479341   2020-12-21 22:59:22  4716561796955522           home   219.11      F   \n",
       "\n",
       "            lat      long  city_pop         dob  merch_lat  merch_long  \\\n",
       "4794    41.5205  -80.0573      5507  1973-07-28  41.947427  -79.796264   \n",
       "4816    41.5205  -80.0573      5507  1973-07-28  42.148618  -79.398595   \n",
       "4979    41.5205  -80.0573      5507  1973-07-28  42.470024  -80.126576   \n",
       "5073    41.5205  -80.0573      5507  1973-07-28  42.455406  -79.521640   \n",
       "5124    41.5205  -80.0573      5507  1973-07-28  40.680209  -79.099101   \n",
       "...         ...       ...       ...         ...        ...         ...   \n",
       "477832  48.2777 -112.8456       743  1972-05-04  47.526202 -113.643313   \n",
       "477847  48.2777 -112.8456       743  1972-05-04  48.272348 -112.328075   \n",
       "479296  48.2777 -112.8456       743  1972-05-04  49.173669 -112.698767   \n",
       "479305  48.2777 -112.8456       743  1972-05-04  48.913048 -113.214921   \n",
       "479341  48.2777 -112.8456       743  1972-05-04  47.911219 -113.691603   \n",
       "\n",
       "        is_fraud       mean         std     amt_z  \n",
       "4794           1  58.578675  149.804992 -0.312731  \n",
       "4816           1  58.578675  149.804992  1.803020  \n",
       "4979           1  58.578675  149.804992  0.413880  \n",
       "5073           1  58.578675  149.804992  6.827351  \n",
       "5124           1  58.578675  149.804992  4.793708  \n",
       "...          ...        ...         ...       ...  \n",
       "477832         1  52.537867  106.113023  2.880911  \n",
       "477847         1  52.537867  106.113023  7.601161  \n",
       "479296         1  52.537867  106.113023  1.482402  \n",
       "479305         1  52.537867  106.113023  0.669495  \n",
       "479341         1  52.537867  106.113023  1.569761  \n",
       "\n",
       "[1244 rows x 15 columns]"
      ]
     },
     "execution_count": 20,
     "metadata": {},
     "output_type": "execute_result"
    }
   ],
   "source": [
    "# 사기 거래 데이터(is_fraud=1)를 확인합니다.\n",
    "\n",
    "cc_df[cc_df['is_fraud'] == 1]"
   ]
  },
  {
   "cell_type": "code",
   "execution_count": 21,
   "id": "397ee91a",
   "metadata": {},
   "outputs": [],
   "source": [
    "# z-score 계산이 완료되었으니 mean, std 컬럼을 제거합니다.\n",
    "\n",
    "cc_df.drop(['mean','std'], axis = 1, inplace = True)"
   ]
  },
  {
   "cell_type": "code",
   "execution_count": 22,
   "id": "9aaf7f3d",
   "metadata": {},
   "outputs": [],
   "source": [
    "# cc_num, category 컬럼의 값마다 결제금액(amt)의 평균, 표준편차를 계산하여 cat_info에 저장합니다.\n",
    "\n",
    "cat_info = cc_df.groupby(['cc_num','category'])['amt'].agg(['mean','std']).reset_index()"
   ]
  },
  {
   "cell_type": "markdown",
   "id": "02815544",
   "metadata": {},
   "source": [
    "🎈 피클은 \"편의용\" + \"재사용\"용\n",
    "✅ 만약:\n",
    "\n",
    "지금 노트북 끄고 나중에 다시 켠다 → cat_info 는 사라짐\n",
    "\n",
    "다시 계산하면 시간이 걸림 (groupby 는 느릴 때도 많음)\n",
    "\n",
    "→ 그래서 \"아까 계산한 걸 파일로 저장 해놓고 나중에 빠르게 다시 쓰자!\"\n",
    "→ 그게 피클 저장 이유"
   ]
  },
  {
   "cell_type": "code",
   "execution_count": 23,
   "id": "0a840893",
   "metadata": {},
   "outputs": [],
   "source": [
    "cat_info.to_pickle('./cat_info.pkl')"
   ]
  },
  {
   "cell_type": "code",
   "execution_count": 24,
   "id": "b145999e",
   "metadata": {},
   "outputs": [],
   "source": [
    "# Q. cc_num 컬럼을 기준으로, cc_df와 cat_info 데이터를 합쳐서 cc_df에 저장합니다.\n",
    "# (left merge를 수행합니다.)\n",
    "\n",
    "# ** cc_df = pd.merge(cc_df, cat_info, how='left', on='cc_num') 로 하면 중복된 행이 엄청 많아진다. 그룹바이를 그 두개로 해줬으니까 머지도 두개로 머지 해줘야 함\n",
    "\n",
    "cc_df = pd.merge(cc_df, cat_info, how='left', on=['cc_num', 'category'])\n"
   ]
  },
  {
   "cell_type": "code",
   "execution_count": 25,
   "id": "2741a1f6",
   "metadata": {},
   "outputs": [],
   "source": [
    "# Q. 결제금액(amt)의 z-score를 계산하여 cat_amt_z 컬럼에 저장합니다.\n",
    "# 평균: mean, 표준편차: std\n",
    "\n",
    "cc_df['cat_amt_z'] = (cc_df['amt']-cc_df['mean'])/cc_df['std']"
   ]
  },
  {
   "cell_type": "code",
   "execution_count": 26,
   "id": "8ff0580a",
   "metadata": {},
   "outputs": [],
   "source": [
    "# z-score 계산이 완료되었으니 mean, std 컬럼을 제거합니다.\n",
    "\n",
    "cc_df.drop(['mean','std'], axis =1 , inplace = True)"
   ]
  },
  {
   "cell_type": "code",
   "execution_count": 27,
   "id": "aafbc0be",
   "metadata": {},
   "outputs": [
    {
     "data": {
      "application/vnd.microsoft.datawrangler.viewer.v0+json": {
       "columns": [
        {
         "name": "index",
         "rawType": "int64",
         "type": "integer"
        },
        {
         "name": "trans_date_trans_time",
         "rawType": "object",
         "type": "string"
        },
        {
         "name": "cc_num",
         "rawType": "int64",
         "type": "integer"
        },
        {
         "name": "category",
         "rawType": "object",
         "type": "string"
        },
        {
         "name": "amt",
         "rawType": "float64",
         "type": "float"
        },
        {
         "name": "gender",
         "rawType": "object",
         "type": "string"
        },
        {
         "name": "lat",
         "rawType": "float64",
         "type": "float"
        },
        {
         "name": "long",
         "rawType": "float64",
         "type": "float"
        },
        {
         "name": "city_pop",
         "rawType": "int64",
         "type": "integer"
        },
        {
         "name": "dob",
         "rawType": "object",
         "type": "string"
        },
        {
         "name": "merch_lat",
         "rawType": "float64",
         "type": "float"
        },
        {
         "name": "merch_long",
         "rawType": "float64",
         "type": "float"
        },
        {
         "name": "is_fraud",
         "rawType": "int64",
         "type": "integer"
        },
        {
         "name": "amt_z",
         "rawType": "float64",
         "type": "float"
        },
        {
         "name": "cat_amt_z",
         "rawType": "float64",
         "type": "float"
        }
       ],
       "ref": "7265407d-7444-4577-87fc-2c3f605cf615",
       "rows": [
        [
         "0",
         "2019-01-01 00:00:44",
         "630423337322",
         "grocery_pos",
         "107.23",
         "F",
         "48.8878",
         "-118.2105",
         "149",
         "1978-06-21",
         "49.159047",
         "-118.186462",
         "0",
         "0.32130208360076357",
         "0.31763059303472113"
        ],
        [
         "1",
         "2019-01-01 00:12:34",
         "4956828990005111019",
         "grocery_pos",
         "44.71",
         "M",
         "40.6747",
         "-74.2239",
         "124967",
         "1980-12-21",
         "40.079588",
         "-74.84808699999999",
         "0",
         "-0.11463747444553714",
         "-0.6520596303596424"
        ],
        [
         "2",
         "2019-01-01 00:17:16",
         "180048185037117",
         "grocery_net",
         "46.28",
         "F",
         "40.6152",
         "-74.415",
         "71485",
         "1974-07-19",
         "40.021888",
         "-74.228188",
         "0",
         "-0.3618022871198555",
         "-0.7233282304862105"
        ],
        [
         "3",
         "2019-01-01 00:20:15",
         "374930071163758",
         "grocery_pos",
         "64.09",
         "M",
         "42.2203",
         "-83.3583",
         "31515",
         "1971-11-05",
         "42.360426",
         "-83.552316",
         "0",
         "-0.001303883305192317",
         "0.21178029279882582"
        ],
        [
         "4",
         "2019-01-01 00:23:41",
         "2712209726293386",
         "misc_pos",
         "25.58",
         "F",
         "30.4066",
         "-91.1468",
         "378909",
         "1977-02-22",
         "29.737426",
         "-90.853194",
         "0",
         "-0.39382834015056295",
         "-0.5756975327728285"
        ]
       ],
       "shape": {
        "columns": 14,
        "rows": 5
       }
      },
      "text/html": [
       "<div>\n",
       "<style scoped>\n",
       "    .dataframe tbody tr th:only-of-type {\n",
       "        vertical-align: middle;\n",
       "    }\n",
       "\n",
       "    .dataframe tbody tr th {\n",
       "        vertical-align: top;\n",
       "    }\n",
       "\n",
       "    .dataframe thead th {\n",
       "        text-align: right;\n",
       "    }\n",
       "</style>\n",
       "<table border=\"1\" class=\"dataframe\">\n",
       "  <thead>\n",
       "    <tr style=\"text-align: right;\">\n",
       "      <th></th>\n",
       "      <th>trans_date_trans_time</th>\n",
       "      <th>cc_num</th>\n",
       "      <th>category</th>\n",
       "      <th>amt</th>\n",
       "      <th>gender</th>\n",
       "      <th>lat</th>\n",
       "      <th>long</th>\n",
       "      <th>city_pop</th>\n",
       "      <th>dob</th>\n",
       "      <th>merch_lat</th>\n",
       "      <th>merch_long</th>\n",
       "      <th>is_fraud</th>\n",
       "      <th>amt_z</th>\n",
       "      <th>cat_amt_z</th>\n",
       "    </tr>\n",
       "  </thead>\n",
       "  <tbody>\n",
       "    <tr>\n",
       "      <th>0</th>\n",
       "      <td>2019-01-01 00:00:44</td>\n",
       "      <td>630423337322</td>\n",
       "      <td>grocery_pos</td>\n",
       "      <td>107.23</td>\n",
       "      <td>F</td>\n",
       "      <td>48.8878</td>\n",
       "      <td>-118.2105</td>\n",
       "      <td>149</td>\n",
       "      <td>1978-06-21</td>\n",
       "      <td>49.159047</td>\n",
       "      <td>-118.186462</td>\n",
       "      <td>0</td>\n",
       "      <td>0.321302</td>\n",
       "      <td>0.317631</td>\n",
       "    </tr>\n",
       "    <tr>\n",
       "      <th>1</th>\n",
       "      <td>2019-01-01 00:12:34</td>\n",
       "      <td>4956828990005111019</td>\n",
       "      <td>grocery_pos</td>\n",
       "      <td>44.71</td>\n",
       "      <td>M</td>\n",
       "      <td>40.6747</td>\n",
       "      <td>-74.2239</td>\n",
       "      <td>124967</td>\n",
       "      <td>1980-12-21</td>\n",
       "      <td>40.079588</td>\n",
       "      <td>-74.848087</td>\n",
       "      <td>0</td>\n",
       "      <td>-0.114637</td>\n",
       "      <td>-0.652060</td>\n",
       "    </tr>\n",
       "    <tr>\n",
       "      <th>2</th>\n",
       "      <td>2019-01-01 00:17:16</td>\n",
       "      <td>180048185037117</td>\n",
       "      <td>grocery_net</td>\n",
       "      <td>46.28</td>\n",
       "      <td>F</td>\n",
       "      <td>40.6152</td>\n",
       "      <td>-74.4150</td>\n",
       "      <td>71485</td>\n",
       "      <td>1974-07-19</td>\n",
       "      <td>40.021888</td>\n",
       "      <td>-74.228188</td>\n",
       "      <td>0</td>\n",
       "      <td>-0.361802</td>\n",
       "      <td>-0.723328</td>\n",
       "    </tr>\n",
       "    <tr>\n",
       "      <th>3</th>\n",
       "      <td>2019-01-01 00:20:15</td>\n",
       "      <td>374930071163758</td>\n",
       "      <td>grocery_pos</td>\n",
       "      <td>64.09</td>\n",
       "      <td>M</td>\n",
       "      <td>42.2203</td>\n",
       "      <td>-83.3583</td>\n",
       "      <td>31515</td>\n",
       "      <td>1971-11-05</td>\n",
       "      <td>42.360426</td>\n",
       "      <td>-83.552316</td>\n",
       "      <td>0</td>\n",
       "      <td>-0.001304</td>\n",
       "      <td>0.211780</td>\n",
       "    </tr>\n",
       "    <tr>\n",
       "      <th>4</th>\n",
       "      <td>2019-01-01 00:23:41</td>\n",
       "      <td>2712209726293386</td>\n",
       "      <td>misc_pos</td>\n",
       "      <td>25.58</td>\n",
       "      <td>F</td>\n",
       "      <td>30.4066</td>\n",
       "      <td>-91.1468</td>\n",
       "      <td>378909</td>\n",
       "      <td>1977-02-22</td>\n",
       "      <td>29.737426</td>\n",
       "      <td>-90.853194</td>\n",
       "      <td>0</td>\n",
       "      <td>-0.393828</td>\n",
       "      <td>-0.575698</td>\n",
       "    </tr>\n",
       "  </tbody>\n",
       "</table>\n",
       "</div>"
      ],
      "text/plain": [
       "  trans_date_trans_time               cc_num     category     amt gender  \\\n",
       "0   2019-01-01 00:00:44         630423337322  grocery_pos  107.23      F   \n",
       "1   2019-01-01 00:12:34  4956828990005111019  grocery_pos   44.71      M   \n",
       "2   2019-01-01 00:17:16      180048185037117  grocery_net   46.28      F   \n",
       "3   2019-01-01 00:20:15      374930071163758  grocery_pos   64.09      M   \n",
       "4   2019-01-01 00:23:41     2712209726293386     misc_pos   25.58      F   \n",
       "\n",
       "       lat      long  city_pop         dob  merch_lat  merch_long  is_fraud  \\\n",
       "0  48.8878 -118.2105       149  1978-06-21  49.159047 -118.186462         0   \n",
       "1  40.6747  -74.2239    124967  1980-12-21  40.079588  -74.848087         0   \n",
       "2  40.6152  -74.4150     71485  1974-07-19  40.021888  -74.228188         0   \n",
       "3  42.2203  -83.3583     31515  1971-11-05  42.360426  -83.552316         0   \n",
       "4  30.4066  -91.1468    378909  1977-02-22  29.737426  -90.853194         0   \n",
       "\n",
       "      amt_z  cat_amt_z  \n",
       "0  0.321302   0.317631  \n",
       "1 -0.114637  -0.652060  \n",
       "2 -0.361802  -0.723328  \n",
       "3 -0.001304   0.211780  \n",
       "4 -0.393828  -0.575698  "
      ]
     },
     "execution_count": 27,
     "metadata": {},
     "output_type": "execute_result"
    }
   ],
   "source": [
    "cc_df.head()"
   ]
  },
  {
   "cell_type": "code",
   "execution_count": 28,
   "id": "3684cff0",
   "metadata": {},
   "outputs": [
    {
     "name": "stdout",
     "output_type": "stream",
     "text": [
      "Z-Score 분포:\n",
      "count    4.911340e+05\n",
      "mean     1.793956e-18\n",
      "std      9.998748e-01\n",
      "min     -9.227851e-01\n",
      "25%     -3.609422e-01\n",
      "50%     -1.774582e-01\n",
      "75%      9.572879e-02\n",
      "max      6.342123e+01\n",
      "Name: amt_z, dtype: float64\n"
     ]
    }
   ],
   "source": [
    "# 이상 거래 분석\n",
    "print(\"Z-Score 분포:\")\n",
    "print(cc_df['amt_z'].describe())\n"
   ]
  },
  {
   "cell_type": "code",
   "execution_count": 29,
   "id": "78ef4542",
   "metadata": {},
   "outputs": [
    {
     "name": "stdout",
     "output_type": "stream",
     "text": [
      "Z-Score 분포:\n",
      "count    4.911340e+05\n",
      "mean     5.960565e-18\n",
      "std      9.982321e-01\n",
      "min     -4.264316e+00\n",
      "25%     -5.394402e-01\n",
      "50%     -2.285154e-01\n",
      "75%      2.758066e-01\n",
      "max      1.890049e+01\n",
      "Name: cat_amt_z, dtype: float64\n"
     ]
    }
   ],
   "source": [
    "# 이상 거래 분석\n",
    "print(\"Z-Score 분포:\")\n",
    "print(cc_df['cat_amt_z'].describe())"
   ]
  },
  {
   "cell_type": "markdown",
   "id": "f1d27c03",
   "metadata": {},
   "source": [
    "결제 시간 관련 feature 분석\n",
    "\n",
    "\n",
    "\n"
   ]
  },
  {
   "cell_type": "code",
   "execution_count": 30,
   "id": "9b1371de",
   "metadata": {},
   "outputs": [
    {
     "name": "stdout",
     "output_type": "stream",
     "text": [
      "<class 'pandas.core.frame.DataFrame'>\n",
      "RangeIndex: 491134 entries, 0 to 491133\n",
      "Data columns (total 14 columns):\n",
      " #   Column                 Non-Null Count   Dtype  \n",
      "---  ------                 --------------   -----  \n",
      " 0   trans_date_trans_time  491134 non-null  object \n",
      " 1   cc_num                 491134 non-null  int64  \n",
      " 2   category               491134 non-null  object \n",
      " 3   amt                    491134 non-null  float64\n",
      " 4   gender                 491134 non-null  object \n",
      " 5   lat                    491134 non-null  float64\n",
      " 6   long                   491134 non-null  float64\n",
      " 7   city_pop               491134 non-null  int64  \n",
      " 8   dob                    491134 non-null  object \n",
      " 9   merch_lat              491134 non-null  float64\n",
      " 10  merch_long             491134 non-null  float64\n",
      " 11  is_fraud               491134 non-null  int64  \n",
      " 12  amt_z                  491134 non-null  float64\n",
      " 13  cat_amt_z              491134 non-null  float64\n",
      "dtypes: float64(7), int64(3), object(4)\n",
      "memory usage: 52.5+ MB\n"
     ]
    }
   ],
   "source": [
    "cc_df.info()"
   ]
  },
  {
   "cell_type": "code",
   "execution_count": 31,
   "id": "f80ea239",
   "metadata": {},
   "outputs": [],
   "source": [
    "# Q. trans_date_trans_time 컬럼에서 시간 값을 추출하여 hour 컬럼에 저장합니다.\n",
    "# (힌트: datetime 자료형을 이용합니다.)\n",
    "\n",
    "# 1단계: datetime 형식으로 변환\n",
    "cc_df['trans_date_trans_time'] = pd.to_datetime(cc_df['trans_date_trans_time'])\n",
    "\n",
    "# 2단계: hour 추출\n",
    "cc_df['hour'] = cc_df['trans_date_trans_time'].dt.hour"
   ]
  },
  {
   "cell_type": "code",
   "execution_count": 32,
   "id": "1507f255",
   "metadata": {},
   "outputs": [
    {
     "data": {
      "application/vnd.microsoft.datawrangler.viewer.v0+json": {
       "columns": [
        {
         "name": "index",
         "rawType": "int64",
         "type": "integer"
        },
        {
         "name": "trans_date_trans_time",
         "rawType": "datetime64[ns]",
         "type": "datetime"
        },
        {
         "name": "cc_num",
         "rawType": "int64",
         "type": "integer"
        },
        {
         "name": "category",
         "rawType": "object",
         "type": "string"
        },
        {
         "name": "amt",
         "rawType": "float64",
         "type": "float"
        },
        {
         "name": "gender",
         "rawType": "object",
         "type": "string"
        },
        {
         "name": "lat",
         "rawType": "float64",
         "type": "float"
        },
        {
         "name": "long",
         "rawType": "float64",
         "type": "float"
        },
        {
         "name": "city_pop",
         "rawType": "int64",
         "type": "integer"
        },
        {
         "name": "dob",
         "rawType": "object",
         "type": "string"
        },
        {
         "name": "merch_lat",
         "rawType": "float64",
         "type": "float"
        },
        {
         "name": "merch_long",
         "rawType": "float64",
         "type": "float"
        },
        {
         "name": "is_fraud",
         "rawType": "int64",
         "type": "integer"
        },
        {
         "name": "amt_z",
         "rawType": "float64",
         "type": "float"
        },
        {
         "name": "cat_amt_z",
         "rawType": "float64",
         "type": "float"
        },
        {
         "name": "hour",
         "rawType": "int32",
         "type": "integer"
        }
       ],
       "ref": "402a206d-228b-4d3c-b964-1064c3e5004a",
       "rows": [
        [
         "0",
         "2019-01-01 00:00:44",
         "630423337322",
         "grocery_pos",
         "107.23",
         "F",
         "48.8878",
         "-118.2105",
         "149",
         "1978-06-21",
         "49.159047",
         "-118.186462",
         "0",
         "0.32130208360076357",
         "0.31763059303472113",
         "0"
        ],
        [
         "1",
         "2019-01-01 00:12:34",
         "4956828990005111019",
         "grocery_pos",
         "44.71",
         "M",
         "40.6747",
         "-74.2239",
         "124967",
         "1980-12-21",
         "40.079588",
         "-74.84808699999999",
         "0",
         "-0.11463747444553714",
         "-0.6520596303596424",
         "0"
        ],
        [
         "2",
         "2019-01-01 00:17:16",
         "180048185037117",
         "grocery_net",
         "46.28",
         "F",
         "40.6152",
         "-74.415",
         "71485",
         "1974-07-19",
         "40.021888",
         "-74.228188",
         "0",
         "-0.3618022871198555",
         "-0.7233282304862105",
         "0"
        ],
        [
         "3",
         "2019-01-01 00:20:15",
         "374930071163758",
         "grocery_pos",
         "64.09",
         "M",
         "42.2203",
         "-83.3583",
         "31515",
         "1971-11-05",
         "42.360426",
         "-83.552316",
         "0",
         "-0.001303883305192317",
         "0.21178029279882582",
         "0"
        ],
        [
         "4",
         "2019-01-01 00:23:41",
         "2712209726293386",
         "misc_pos",
         "25.58",
         "F",
         "30.4066",
         "-91.1468",
         "378909",
         "1977-02-22",
         "29.737426",
         "-90.853194",
         "0",
         "-0.39382834015056295",
         "-0.5756975327728285",
         "0"
        ]
       ],
       "shape": {
        "columns": 15,
        "rows": 5
       }
      },
      "text/html": [
       "<div>\n",
       "<style scoped>\n",
       "    .dataframe tbody tr th:only-of-type {\n",
       "        vertical-align: middle;\n",
       "    }\n",
       "\n",
       "    .dataframe tbody tr th {\n",
       "        vertical-align: top;\n",
       "    }\n",
       "\n",
       "    .dataframe thead th {\n",
       "        text-align: right;\n",
       "    }\n",
       "</style>\n",
       "<table border=\"1\" class=\"dataframe\">\n",
       "  <thead>\n",
       "    <tr style=\"text-align: right;\">\n",
       "      <th></th>\n",
       "      <th>trans_date_trans_time</th>\n",
       "      <th>cc_num</th>\n",
       "      <th>category</th>\n",
       "      <th>amt</th>\n",
       "      <th>gender</th>\n",
       "      <th>lat</th>\n",
       "      <th>long</th>\n",
       "      <th>city_pop</th>\n",
       "      <th>dob</th>\n",
       "      <th>merch_lat</th>\n",
       "      <th>merch_long</th>\n",
       "      <th>is_fraud</th>\n",
       "      <th>amt_z</th>\n",
       "      <th>cat_amt_z</th>\n",
       "      <th>hour</th>\n",
       "    </tr>\n",
       "  </thead>\n",
       "  <tbody>\n",
       "    <tr>\n",
       "      <th>0</th>\n",
       "      <td>2019-01-01 00:00:44</td>\n",
       "      <td>630423337322</td>\n",
       "      <td>grocery_pos</td>\n",
       "      <td>107.23</td>\n",
       "      <td>F</td>\n",
       "      <td>48.8878</td>\n",
       "      <td>-118.2105</td>\n",
       "      <td>149</td>\n",
       "      <td>1978-06-21</td>\n",
       "      <td>49.159047</td>\n",
       "      <td>-118.186462</td>\n",
       "      <td>0</td>\n",
       "      <td>0.321302</td>\n",
       "      <td>0.317631</td>\n",
       "      <td>0</td>\n",
       "    </tr>\n",
       "    <tr>\n",
       "      <th>1</th>\n",
       "      <td>2019-01-01 00:12:34</td>\n",
       "      <td>4956828990005111019</td>\n",
       "      <td>grocery_pos</td>\n",
       "      <td>44.71</td>\n",
       "      <td>M</td>\n",
       "      <td>40.6747</td>\n",
       "      <td>-74.2239</td>\n",
       "      <td>124967</td>\n",
       "      <td>1980-12-21</td>\n",
       "      <td>40.079588</td>\n",
       "      <td>-74.848087</td>\n",
       "      <td>0</td>\n",
       "      <td>-0.114637</td>\n",
       "      <td>-0.652060</td>\n",
       "      <td>0</td>\n",
       "    </tr>\n",
       "    <tr>\n",
       "      <th>2</th>\n",
       "      <td>2019-01-01 00:17:16</td>\n",
       "      <td>180048185037117</td>\n",
       "      <td>grocery_net</td>\n",
       "      <td>46.28</td>\n",
       "      <td>F</td>\n",
       "      <td>40.6152</td>\n",
       "      <td>-74.4150</td>\n",
       "      <td>71485</td>\n",
       "      <td>1974-07-19</td>\n",
       "      <td>40.021888</td>\n",
       "      <td>-74.228188</td>\n",
       "      <td>0</td>\n",
       "      <td>-0.361802</td>\n",
       "      <td>-0.723328</td>\n",
       "      <td>0</td>\n",
       "    </tr>\n",
       "    <tr>\n",
       "      <th>3</th>\n",
       "      <td>2019-01-01 00:20:15</td>\n",
       "      <td>374930071163758</td>\n",
       "      <td>grocery_pos</td>\n",
       "      <td>64.09</td>\n",
       "      <td>M</td>\n",
       "      <td>42.2203</td>\n",
       "      <td>-83.3583</td>\n",
       "      <td>31515</td>\n",
       "      <td>1971-11-05</td>\n",
       "      <td>42.360426</td>\n",
       "      <td>-83.552316</td>\n",
       "      <td>0</td>\n",
       "      <td>-0.001304</td>\n",
       "      <td>0.211780</td>\n",
       "      <td>0</td>\n",
       "    </tr>\n",
       "    <tr>\n",
       "      <th>4</th>\n",
       "      <td>2019-01-01 00:23:41</td>\n",
       "      <td>2712209726293386</td>\n",
       "      <td>misc_pos</td>\n",
       "      <td>25.58</td>\n",
       "      <td>F</td>\n",
       "      <td>30.4066</td>\n",
       "      <td>-91.1468</td>\n",
       "      <td>378909</td>\n",
       "      <td>1977-02-22</td>\n",
       "      <td>29.737426</td>\n",
       "      <td>-90.853194</td>\n",
       "      <td>0</td>\n",
       "      <td>-0.393828</td>\n",
       "      <td>-0.575698</td>\n",
       "      <td>0</td>\n",
       "    </tr>\n",
       "  </tbody>\n",
       "</table>\n",
       "</div>"
      ],
      "text/plain": [
       "  trans_date_trans_time               cc_num     category     amt gender  \\\n",
       "0   2019-01-01 00:00:44         630423337322  grocery_pos  107.23      F   \n",
       "1   2019-01-01 00:12:34  4956828990005111019  grocery_pos   44.71      M   \n",
       "2   2019-01-01 00:17:16      180048185037117  grocery_net   46.28      F   \n",
       "3   2019-01-01 00:20:15      374930071163758  grocery_pos   64.09      M   \n",
       "4   2019-01-01 00:23:41     2712209726293386     misc_pos   25.58      F   \n",
       "\n",
       "       lat      long  city_pop         dob  merch_lat  merch_long  is_fraud  \\\n",
       "0  48.8878 -118.2105       149  1978-06-21  49.159047 -118.186462         0   \n",
       "1  40.6747  -74.2239    124967  1980-12-21  40.079588  -74.848087         0   \n",
       "2  40.6152  -74.4150     71485  1974-07-19  40.021888  -74.228188         0   \n",
       "3  42.2203  -83.3583     31515  1971-11-05  42.360426  -83.552316         0   \n",
       "4  30.4066  -91.1468    378909  1977-02-22  29.737426  -90.853194         0   \n",
       "\n",
       "      amt_z  cat_amt_z  hour  \n",
       "0  0.321302   0.317631     0  \n",
       "1 -0.114637  -0.652060     0  \n",
       "2 -0.361802  -0.723328     0  \n",
       "3 -0.001304   0.211780     0  \n",
       "4 -0.393828  -0.575698     0  "
      ]
     },
     "execution_count": 32,
     "metadata": {},
     "output_type": "execute_result"
    }
   ],
   "source": [
    "cc_df.head()"
   ]
  },
  {
   "cell_type": "code",
   "execution_count": 33,
   "id": "a0d1e4ee",
   "metadata": {},
   "outputs": [],
   "source": [
    "# 결제시간을 morning, afternoon, night, evening으로 분류하기 위해 함수를 정의합니다.\n",
    "\n",
    "def hour_func(x):\n",
    "    if (x >= 6) & (x < 12):\n",
    "        return 'morning'\n",
    "    elif (x >= 12) & (x < 18):\n",
    "        return 'afternoon'\n",
    "    elif (x >= 18) & (x < 23):\n",
    "        return 'night'\n",
    "    else:\n",
    "        return 'evening'"
   ]
  },
  {
   "cell_type": "markdown",
   "id": "965f3da9",
   "metadata": {},
   "source": [
    "| 코드                                                       | 설명                     |\n",
    "| -------------------------------------------------------- | ---------------------- |\n",
    "| cc\\_df\\['hour\\_cat'] = hour\\_func(cc\\_df\\['hour'])       | ❌ Series 전체 넣음 (오류 가능) |\n",
    "| cc\\_df\\['hour\\_cat'] = cc\\_df\\['hour'].apply(hour\\_func) | ✅ 각 값마다 함수 적용 (정상!)    |\n"
   ]
  },
  {
   "cell_type": "code",
   "execution_count": 34,
   "id": "cc05e1fc",
   "metadata": {},
   "outputs": [],
   "source": [
    "# Q. hour 컬럼에 hour_func 함수를 적용한 값을 hour_cat 컬럼에 저장합니다.\n",
    "\n",
    "#cc_df['hour_cat'] = hour_func(cc_df['hour'])\n",
    "cc_df['hour_cat'] = cc_df['hour'].apply(hour_func)"
   ]
  },
  {
   "cell_type": "code",
   "execution_count": 35,
   "id": "14d327cd",
   "metadata": {},
   "outputs": [
    {
     "data": {
      "application/vnd.microsoft.datawrangler.viewer.v0+json": {
       "columns": [
        {
         "name": "hour_cat",
         "rawType": "object",
         "type": "string"
        },
        {
         "name": "count",
         "rawType": "int64",
         "type": "integer"
        }
       ],
       "ref": "c5cb42c0-4ad4-4b65-bf07-a74bc8798cc7",
       "rows": [
        [
         "afternoon",
         "176801"
        ],
        [
         "night",
         "146697"
        ],
        [
         "evening",
         "98662"
        ],
        [
         "morning",
         "68974"
        ]
       ],
       "shape": {
        "columns": 1,
        "rows": 4
       }
      },
      "text/plain": [
       "hour_cat\n",
       "afternoon    176801\n",
       "night        146697\n",
       "evening       98662\n",
       "morning       68974\n",
       "Name: count, dtype: int64"
      ]
     },
     "execution_count": 35,
     "metadata": {},
     "output_type": "execute_result"
    }
   ],
   "source": [
    "# Q. 시간대별로 데이터 수를 계산하여 출력합니다.\n",
    "\n",
    "cc_df['hour_cat'].value_counts()"
   ]
  },
  {
   "cell_type": "code",
   "execution_count": 36,
   "id": "221745f7",
   "metadata": {},
   "outputs": [],
   "source": [
    "# cc_num 컬럼의 값마다 amt 컬럼의 데이터 수를 계산하여 all_cnt 변수로 저장합니다.\n",
    "\n",
    "all_cnt = cc_df.groupby('cc_num')['amt'].count().reset_index()"
   ]
  },
  {
   "cell_type": "code",
   "execution_count": 37,
   "id": "94a377dd",
   "metadata": {},
   "outputs": [],
   "source": [
    "# cc_num, hour_cat 컬럼의 값마다 amt 컬럼의 데이터 수를 계산하여 hour_cnt 변수로 저장합니다.\n",
    "\n",
    "hour_cnt = cc_df.groupby(['cc_num','hour_cat'])['amt'].count().reset_index()"
   ]
  },
  {
   "cell_type": "code",
   "execution_count": 38,
   "id": "1a5435d8",
   "metadata": {},
   "outputs": [
    {
     "data": {
      "application/vnd.microsoft.datawrangler.viewer.v0+json": {
       "columns": [
        {
         "name": "index",
         "rawType": "int64",
         "type": "integer"
        },
        {
         "name": "cc_num",
         "rawType": "int64",
         "type": "integer"
        },
        {
         "name": "amt",
         "rawType": "int64",
         "type": "integer"
        }
       ],
       "ref": "bc0463b5-2de2-43d6-81a9-c4af84f26f6e",
       "rows": [
        [
         "0",
         "503874407318",
         "3655"
        ],
        [
         "1",
         "567868110212",
         "3644"
        ],
        [
         "2",
         "571365235126",
         "4374"
        ],
        [
         "3",
         "581686439828",
         "3653"
        ],
        [
         "4",
         "630423337322",
         "4362"
        ]
       ],
       "shape": {
        "columns": 2,
        "rows": 5
       }
      },
      "text/html": [
       "<div>\n",
       "<style scoped>\n",
       "    .dataframe tbody tr th:only-of-type {\n",
       "        vertical-align: middle;\n",
       "    }\n",
       "\n",
       "    .dataframe tbody tr th {\n",
       "        vertical-align: top;\n",
       "    }\n",
       "\n",
       "    .dataframe thead th {\n",
       "        text-align: right;\n",
       "    }\n",
       "</style>\n",
       "<table border=\"1\" class=\"dataframe\">\n",
       "  <thead>\n",
       "    <tr style=\"text-align: right;\">\n",
       "      <th></th>\n",
       "      <th>cc_num</th>\n",
       "      <th>amt</th>\n",
       "    </tr>\n",
       "  </thead>\n",
       "  <tbody>\n",
       "    <tr>\n",
       "      <th>0</th>\n",
       "      <td>503874407318</td>\n",
       "      <td>3655</td>\n",
       "    </tr>\n",
       "    <tr>\n",
       "      <th>1</th>\n",
       "      <td>567868110212</td>\n",
       "      <td>3644</td>\n",
       "    </tr>\n",
       "    <tr>\n",
       "      <th>2</th>\n",
       "      <td>571365235126</td>\n",
       "      <td>4374</td>\n",
       "    </tr>\n",
       "    <tr>\n",
       "      <th>3</th>\n",
       "      <td>581686439828</td>\n",
       "      <td>3653</td>\n",
       "    </tr>\n",
       "    <tr>\n",
       "      <th>4</th>\n",
       "      <td>630423337322</td>\n",
       "      <td>4362</td>\n",
       "    </tr>\n",
       "  </tbody>\n",
       "</table>\n",
       "</div>"
      ],
      "text/plain": [
       "         cc_num   amt\n",
       "0  503874407318  3655\n",
       "1  567868110212  3644\n",
       "2  571365235126  4374\n",
       "3  581686439828  3653\n",
       "4  630423337322  4362"
      ]
     },
     "execution_count": 38,
     "metadata": {},
     "output_type": "execute_result"
    }
   ],
   "source": [
    "all_cnt.head()"
   ]
  },
  {
   "cell_type": "code",
   "execution_count": 39,
   "id": "2bfd5335",
   "metadata": {},
   "outputs": [
    {
     "data": {
      "application/vnd.microsoft.datawrangler.viewer.v0+json": {
       "columns": [
        {
         "name": "index",
         "rawType": "int64",
         "type": "integer"
        },
        {
         "name": "cc_num",
         "rawType": "int64",
         "type": "integer"
        },
        {
         "name": "hour_cat",
         "rawType": "object",
         "type": "string"
        },
        {
         "name": "amt",
         "rawType": "int64",
         "type": "integer"
        }
       ],
       "ref": "9b686a5c-5f5d-4c79-87a1-441ac106705f",
       "rows": [
        [
         "0",
         "503874407318",
         "afternoon",
         "1280"
        ],
        [
         "1",
         "503874407318",
         "evening",
         "737"
        ],
        [
         "2",
         "503874407318",
         "morning",
         "558"
        ],
        [
         "3",
         "503874407318",
         "night",
         "1080"
        ],
        [
         "4",
         "567868110212",
         "afternoon",
         "1228"
        ]
       ],
       "shape": {
        "columns": 3,
        "rows": 5
       }
      },
      "text/html": [
       "<div>\n",
       "<style scoped>\n",
       "    .dataframe tbody tr th:only-of-type {\n",
       "        vertical-align: middle;\n",
       "    }\n",
       "\n",
       "    .dataframe tbody tr th {\n",
       "        vertical-align: top;\n",
       "    }\n",
       "\n",
       "    .dataframe thead th {\n",
       "        text-align: right;\n",
       "    }\n",
       "</style>\n",
       "<table border=\"1\" class=\"dataframe\">\n",
       "  <thead>\n",
       "    <tr style=\"text-align: right;\">\n",
       "      <th></th>\n",
       "      <th>cc_num</th>\n",
       "      <th>hour_cat</th>\n",
       "      <th>amt</th>\n",
       "    </tr>\n",
       "  </thead>\n",
       "  <tbody>\n",
       "    <tr>\n",
       "      <th>0</th>\n",
       "      <td>503874407318</td>\n",
       "      <td>afternoon</td>\n",
       "      <td>1280</td>\n",
       "    </tr>\n",
       "    <tr>\n",
       "      <th>1</th>\n",
       "      <td>503874407318</td>\n",
       "      <td>evening</td>\n",
       "      <td>737</td>\n",
       "    </tr>\n",
       "    <tr>\n",
       "      <th>2</th>\n",
       "      <td>503874407318</td>\n",
       "      <td>morning</td>\n",
       "      <td>558</td>\n",
       "    </tr>\n",
       "    <tr>\n",
       "      <th>3</th>\n",
       "      <td>503874407318</td>\n",
       "      <td>night</td>\n",
       "      <td>1080</td>\n",
       "    </tr>\n",
       "    <tr>\n",
       "      <th>4</th>\n",
       "      <td>567868110212</td>\n",
       "      <td>afternoon</td>\n",
       "      <td>1228</td>\n",
       "    </tr>\n",
       "  </tbody>\n",
       "</table>\n",
       "</div>"
      ],
      "text/plain": [
       "         cc_num   hour_cat   amt\n",
       "0  503874407318  afternoon  1280\n",
       "1  503874407318    evening   737\n",
       "2  503874407318    morning   558\n",
       "3  503874407318      night  1080\n",
       "4  567868110212  afternoon  1228"
      ]
     },
     "execution_count": 39,
     "metadata": {},
     "output_type": "execute_result"
    }
   ],
   "source": [
    "hour_cnt.head()"
   ]
  },
  {
   "cell_type": "code",
   "execution_count": 40,
   "id": "bc8a238d",
   "metadata": {},
   "outputs": [],
   "source": [
    "# Q. cc_num 컬럼을 기준으로 hour_cnt와 all_cnt를 합칩니다.\n",
    "# (hour_cnt에서 left merge를 수행합니다.)\n",
    "\n",
    "hour_cnt = pd.merge(hour_cnt, all_cnt, how='left', on='cc_num')"
   ]
  },
  {
   "cell_type": "code",
   "execution_count": 41,
   "id": "34d7ee21",
   "metadata": {},
   "outputs": [
    {
     "data": {
      "application/vnd.microsoft.datawrangler.viewer.v0+json": {
       "columns": [
        {
         "name": "index",
         "rawType": "int64",
         "type": "integer"
        },
        {
         "name": "cc_num",
         "rawType": "int64",
         "type": "integer"
        },
        {
         "name": "hour_cat",
         "rawType": "object",
         "type": "string"
        },
        {
         "name": "amt_x",
         "rawType": "int64",
         "type": "integer"
        },
        {
         "name": "amt_y",
         "rawType": "int64",
         "type": "integer"
        }
       ],
       "ref": "51bef89c-980a-48a8-97d8-a2d5c37002b4",
       "rows": [
        [
         "0",
         "503874407318",
         "afternoon",
         "1280",
         "3655"
        ],
        [
         "1",
         "503874407318",
         "evening",
         "737",
         "3655"
        ],
        [
         "2",
         "503874407318",
         "morning",
         "558",
         "3655"
        ],
        [
         "3",
         "503874407318",
         "night",
         "1080",
         "3655"
        ],
        [
         "4",
         "567868110212",
         "afternoon",
         "1228",
         "3644"
        ]
       ],
       "shape": {
        "columns": 4,
        "rows": 5
       }
      },
      "text/html": [
       "<div>\n",
       "<style scoped>\n",
       "    .dataframe tbody tr th:only-of-type {\n",
       "        vertical-align: middle;\n",
       "    }\n",
       "\n",
       "    .dataframe tbody tr th {\n",
       "        vertical-align: top;\n",
       "    }\n",
       "\n",
       "    .dataframe thead th {\n",
       "        text-align: right;\n",
       "    }\n",
       "</style>\n",
       "<table border=\"1\" class=\"dataframe\">\n",
       "  <thead>\n",
       "    <tr style=\"text-align: right;\">\n",
       "      <th></th>\n",
       "      <th>cc_num</th>\n",
       "      <th>hour_cat</th>\n",
       "      <th>amt_x</th>\n",
       "      <th>amt_y</th>\n",
       "    </tr>\n",
       "  </thead>\n",
       "  <tbody>\n",
       "    <tr>\n",
       "      <th>0</th>\n",
       "      <td>503874407318</td>\n",
       "      <td>afternoon</td>\n",
       "      <td>1280</td>\n",
       "      <td>3655</td>\n",
       "    </tr>\n",
       "    <tr>\n",
       "      <th>1</th>\n",
       "      <td>503874407318</td>\n",
       "      <td>evening</td>\n",
       "      <td>737</td>\n",
       "      <td>3655</td>\n",
       "    </tr>\n",
       "    <tr>\n",
       "      <th>2</th>\n",
       "      <td>503874407318</td>\n",
       "      <td>morning</td>\n",
       "      <td>558</td>\n",
       "      <td>3655</td>\n",
       "    </tr>\n",
       "    <tr>\n",
       "      <th>3</th>\n",
       "      <td>503874407318</td>\n",
       "      <td>night</td>\n",
       "      <td>1080</td>\n",
       "      <td>3655</td>\n",
       "    </tr>\n",
       "    <tr>\n",
       "      <th>4</th>\n",
       "      <td>567868110212</td>\n",
       "      <td>afternoon</td>\n",
       "      <td>1228</td>\n",
       "      <td>3644</td>\n",
       "    </tr>\n",
       "  </tbody>\n",
       "</table>\n",
       "</div>"
      ],
      "text/plain": [
       "         cc_num   hour_cat  amt_x  amt_y\n",
       "0  503874407318  afternoon   1280   3655\n",
       "1  503874407318    evening    737   3655\n",
       "2  503874407318    morning    558   3655\n",
       "3  503874407318      night   1080   3655\n",
       "4  567868110212  afternoon   1228   3644"
      ]
     },
     "execution_count": 41,
     "metadata": {},
     "output_type": "execute_result"
    }
   ],
   "source": [
    "hour_cnt.head()"
   ]
  },
  {
   "cell_type": "code",
   "execution_count": 42,
   "id": "f7c730da",
   "metadata": {},
   "outputs": [],
   "source": [
    "# Q. amt_x와 amt_y 컬럼의 이름을 각각 hour_cnt, total_cnt로 변경합니다.\n",
    "hour_cnt = hour_cnt.rename(columns={'amt_x': 'hour_cnt', 'amt_y': 'total_cnt'})\n"
   ]
  },
  {
   "cell_type": "code",
   "execution_count": 43,
   "id": "061d8bf9",
   "metadata": {},
   "outputs": [
    {
     "data": {
      "application/vnd.microsoft.datawrangler.viewer.v0+json": {
       "columns": [
        {
         "name": "index",
         "rawType": "int64",
         "type": "integer"
        },
        {
         "name": "cc_num",
         "rawType": "int64",
         "type": "integer"
        },
        {
         "name": "hour_cat",
         "rawType": "object",
         "type": "string"
        },
        {
         "name": "hour_cnt",
         "rawType": "int64",
         "type": "integer"
        },
        {
         "name": "total_cnt",
         "rawType": "int64",
         "type": "integer"
        }
       ],
       "ref": "ec40ef6a-680e-43cf-8677-d49994018747",
       "rows": [
        [
         "0",
         "503874407318",
         "afternoon",
         "1280",
         "3655"
        ],
        [
         "1",
         "503874407318",
         "evening",
         "737",
         "3655"
        ],
        [
         "2",
         "503874407318",
         "morning",
         "558",
         "3655"
        ],
        [
         "3",
         "503874407318",
         "night",
         "1080",
         "3655"
        ],
        [
         "4",
         "567868110212",
         "afternoon",
         "1228",
         "3644"
        ]
       ],
       "shape": {
        "columns": 4,
        "rows": 5
       }
      },
      "text/html": [
       "<div>\n",
       "<style scoped>\n",
       "    .dataframe tbody tr th:only-of-type {\n",
       "        vertical-align: middle;\n",
       "    }\n",
       "\n",
       "    .dataframe tbody tr th {\n",
       "        vertical-align: top;\n",
       "    }\n",
       "\n",
       "    .dataframe thead th {\n",
       "        text-align: right;\n",
       "    }\n",
       "</style>\n",
       "<table border=\"1\" class=\"dataframe\">\n",
       "  <thead>\n",
       "    <tr style=\"text-align: right;\">\n",
       "      <th></th>\n",
       "      <th>cc_num</th>\n",
       "      <th>hour_cat</th>\n",
       "      <th>hour_cnt</th>\n",
       "      <th>total_cnt</th>\n",
       "    </tr>\n",
       "  </thead>\n",
       "  <tbody>\n",
       "    <tr>\n",
       "      <th>0</th>\n",
       "      <td>503874407318</td>\n",
       "      <td>afternoon</td>\n",
       "      <td>1280</td>\n",
       "      <td>3655</td>\n",
       "    </tr>\n",
       "    <tr>\n",
       "      <th>1</th>\n",
       "      <td>503874407318</td>\n",
       "      <td>evening</td>\n",
       "      <td>737</td>\n",
       "      <td>3655</td>\n",
       "    </tr>\n",
       "    <tr>\n",
       "      <th>2</th>\n",
       "      <td>503874407318</td>\n",
       "      <td>morning</td>\n",
       "      <td>558</td>\n",
       "      <td>3655</td>\n",
       "    </tr>\n",
       "    <tr>\n",
       "      <th>3</th>\n",
       "      <td>503874407318</td>\n",
       "      <td>night</td>\n",
       "      <td>1080</td>\n",
       "      <td>3655</td>\n",
       "    </tr>\n",
       "    <tr>\n",
       "      <th>4</th>\n",
       "      <td>567868110212</td>\n",
       "      <td>afternoon</td>\n",
       "      <td>1228</td>\n",
       "      <td>3644</td>\n",
       "    </tr>\n",
       "  </tbody>\n",
       "</table>\n",
       "</div>"
      ],
      "text/plain": [
       "         cc_num   hour_cat  hour_cnt  total_cnt\n",
       "0  503874407318  afternoon      1280       3655\n",
       "1  503874407318    evening       737       3655\n",
       "2  503874407318    morning       558       3655\n",
       "3  503874407318      night      1080       3655\n",
       "4  567868110212  afternoon      1228       3644"
      ]
     },
     "execution_count": 43,
     "metadata": {},
     "output_type": "execute_result"
    }
   ],
   "source": [
    "hour_cnt.head()"
   ]
  },
  {
   "cell_type": "code",
   "execution_count": 44,
   "id": "2b620f1c",
   "metadata": {},
   "outputs": [],
   "source": [
    "# Q. 전체 거래 건수(total_cnt)에 대한 시간대별 거래 건수(hour_cnt)의 비율을 계산하여 \n",
    "# hour_perc 컬럼에 저장합니다.\n",
    "\n",
    "hour_cnt['hour_perc'] = hour_cnt['hour_cnt']/hour_cnt['total_cnt']"
   ]
  },
  {
   "cell_type": "code",
   "execution_count": 45,
   "id": "0da60ed2",
   "metadata": {},
   "outputs": [
    {
     "data": {
      "application/vnd.microsoft.datawrangler.viewer.v0+json": {
       "columns": [
        {
         "name": "index",
         "rawType": "int64",
         "type": "integer"
        },
        {
         "name": "cc_num",
         "rawType": "int64",
         "type": "integer"
        },
        {
         "name": "hour_cat",
         "rawType": "object",
         "type": "string"
        },
        {
         "name": "hour_cnt",
         "rawType": "int64",
         "type": "integer"
        },
        {
         "name": "total_cnt",
         "rawType": "int64",
         "type": "integer"
        },
        {
         "name": "hour_perc",
         "rawType": "float64",
         "type": "float"
        }
       ],
       "ref": "d931564d-334c-4316-a402-e7aeb5495d43",
       "rows": [
        [
         "0",
         "503874407318",
         "afternoon",
         "1280",
         "3655",
         "0.35020519835841313"
        ],
        [
         "1",
         "503874407318",
         "evening",
         "737",
         "3655",
         "0.20164158686730507"
        ],
        [
         "2",
         "503874407318",
         "morning",
         "558",
         "3655",
         "0.15266757865937072"
        ],
        [
         "3",
         "503874407318",
         "night",
         "1080",
         "3655",
         "0.2954856361149111"
        ],
        [
         "4",
         "567868110212",
         "afternoon",
         "1228",
         "3644",
         "0.33699231613611413"
        ],
        [
         "5",
         "567868110212",
         "evening",
         "820",
         "3644",
         "0.22502744237102085"
        ],
        [
         "6",
         "567868110212",
         "morning",
         "529",
         "3644",
         "0.1451701427003293"
        ],
        [
         "7",
         "567868110212",
         "night",
         "1067",
         "3644",
         "0.29281009879253567"
        ],
        [
         "8",
         "571365235126",
         "afternoon",
         "1523",
         "4374",
         "0.3481938728852309"
        ],
        [
         "9",
         "571365235126",
         "evening",
         "943",
         "4374",
         "0.21559213534522176"
        ]
       ],
       "shape": {
        "columns": 5,
        "rows": 10
       }
      },
      "text/html": [
       "<div>\n",
       "<style scoped>\n",
       "    .dataframe tbody tr th:only-of-type {\n",
       "        vertical-align: middle;\n",
       "    }\n",
       "\n",
       "    .dataframe tbody tr th {\n",
       "        vertical-align: top;\n",
       "    }\n",
       "\n",
       "    .dataframe thead th {\n",
       "        text-align: right;\n",
       "    }\n",
       "</style>\n",
       "<table border=\"1\" class=\"dataframe\">\n",
       "  <thead>\n",
       "    <tr style=\"text-align: right;\">\n",
       "      <th></th>\n",
       "      <th>cc_num</th>\n",
       "      <th>hour_cat</th>\n",
       "      <th>hour_cnt</th>\n",
       "      <th>total_cnt</th>\n",
       "      <th>hour_perc</th>\n",
       "    </tr>\n",
       "  </thead>\n",
       "  <tbody>\n",
       "    <tr>\n",
       "      <th>0</th>\n",
       "      <td>503874407318</td>\n",
       "      <td>afternoon</td>\n",
       "      <td>1280</td>\n",
       "      <td>3655</td>\n",
       "      <td>0.350205</td>\n",
       "    </tr>\n",
       "    <tr>\n",
       "      <th>1</th>\n",
       "      <td>503874407318</td>\n",
       "      <td>evening</td>\n",
       "      <td>737</td>\n",
       "      <td>3655</td>\n",
       "      <td>0.201642</td>\n",
       "    </tr>\n",
       "    <tr>\n",
       "      <th>2</th>\n",
       "      <td>503874407318</td>\n",
       "      <td>morning</td>\n",
       "      <td>558</td>\n",
       "      <td>3655</td>\n",
       "      <td>0.152668</td>\n",
       "    </tr>\n",
       "    <tr>\n",
       "      <th>3</th>\n",
       "      <td>503874407318</td>\n",
       "      <td>night</td>\n",
       "      <td>1080</td>\n",
       "      <td>3655</td>\n",
       "      <td>0.295486</td>\n",
       "    </tr>\n",
       "    <tr>\n",
       "      <th>4</th>\n",
       "      <td>567868110212</td>\n",
       "      <td>afternoon</td>\n",
       "      <td>1228</td>\n",
       "      <td>3644</td>\n",
       "      <td>0.336992</td>\n",
       "    </tr>\n",
       "    <tr>\n",
       "      <th>5</th>\n",
       "      <td>567868110212</td>\n",
       "      <td>evening</td>\n",
       "      <td>820</td>\n",
       "      <td>3644</td>\n",
       "      <td>0.225027</td>\n",
       "    </tr>\n",
       "    <tr>\n",
       "      <th>6</th>\n",
       "      <td>567868110212</td>\n",
       "      <td>morning</td>\n",
       "      <td>529</td>\n",
       "      <td>3644</td>\n",
       "      <td>0.145170</td>\n",
       "    </tr>\n",
       "    <tr>\n",
       "      <th>7</th>\n",
       "      <td>567868110212</td>\n",
       "      <td>night</td>\n",
       "      <td>1067</td>\n",
       "      <td>3644</td>\n",
       "      <td>0.292810</td>\n",
       "    </tr>\n",
       "    <tr>\n",
       "      <th>8</th>\n",
       "      <td>571365235126</td>\n",
       "      <td>afternoon</td>\n",
       "      <td>1523</td>\n",
       "      <td>4374</td>\n",
       "      <td>0.348194</td>\n",
       "    </tr>\n",
       "    <tr>\n",
       "      <th>9</th>\n",
       "      <td>571365235126</td>\n",
       "      <td>evening</td>\n",
       "      <td>943</td>\n",
       "      <td>4374</td>\n",
       "      <td>0.215592</td>\n",
       "    </tr>\n",
       "  </tbody>\n",
       "</table>\n",
       "</div>"
      ],
      "text/plain": [
       "         cc_num   hour_cat  hour_cnt  total_cnt  hour_perc\n",
       "0  503874407318  afternoon      1280       3655   0.350205\n",
       "1  503874407318    evening       737       3655   0.201642\n",
       "2  503874407318    morning       558       3655   0.152668\n",
       "3  503874407318      night      1080       3655   0.295486\n",
       "4  567868110212  afternoon      1228       3644   0.336992\n",
       "5  567868110212    evening       820       3644   0.225027\n",
       "6  567868110212    morning       529       3644   0.145170\n",
       "7  567868110212      night      1067       3644   0.292810\n",
       "8  571365235126  afternoon      1523       4374   0.348194\n",
       "9  571365235126    evening       943       4374   0.215592"
      ]
     },
     "execution_count": 45,
     "metadata": {},
     "output_type": "execute_result"
    }
   ],
   "source": [
    "hour_cnt.head(10)"
   ]
  },
  {
   "cell_type": "code",
   "execution_count": 46,
   "id": "ae54a8df",
   "metadata": {},
   "outputs": [
    {
     "data": {
      "application/vnd.microsoft.datawrangler.viewer.v0+json": {
       "columns": [
        {
         "name": "index",
         "rawType": "int64",
         "type": "integer"
        },
        {
         "name": "cc_num",
         "rawType": "int64",
         "type": "integer"
        },
        {
         "name": "hour_cat",
         "rawType": "object",
         "type": "string"
        },
        {
         "name": "hour_cnt",
         "rawType": "int64",
         "type": "integer"
        },
        {
         "name": "total_cnt",
         "rawType": "int64",
         "type": "integer"
        },
        {
         "name": "hour_perc",
         "rawType": "float64",
         "type": "float"
        }
       ],
       "ref": "4315cbde-22ed-4eda-852e-097c98d8011d",
       "rows": [
        [
         "486",
         "4861310130652566408",
         "morning",
         "529",
         "3643",
         "0.14520999176502883"
        ],
        [
         "487",
         "4861310130652566408",
         "night",
         "1033",
         "3643",
         "0.28355750754872355"
        ],
        [
         "488",
         "4906628655840914250",
         "afternoon",
         "1282",
         "3655",
         "0.3507523939808482"
        ],
        [
         "489",
         "4906628655840914250",
         "evening",
         "800",
         "3655",
         "0.2188782489740082"
        ],
        [
         "490",
         "4906628655840914250",
         "morning",
         "500",
         "3655",
         "0.13679890560875513"
        ],
        [
         "491",
         "4906628655840914250",
         "night",
         "1073",
         "3655",
         "0.2935704514363885"
        ],
        [
         "492",
         "4956828990005111019",
         "afternoon",
         "1277",
         "3657",
         "0.3491933278643697"
        ],
        [
         "493",
         "4956828990005111019",
         "evening",
         "784",
         "3657",
         "0.21438337435056057"
        ],
        [
         "494",
         "4956828990005111019",
         "morning",
         "558",
         "3657",
         "0.15258408531583265"
        ],
        [
         "495",
         "4956828990005111019",
         "night",
         "1038",
         "3657",
         "0.2838392124692371"
        ]
       ],
       "shape": {
        "columns": 5,
        "rows": 10
       }
      },
      "text/html": [
       "<div>\n",
       "<style scoped>\n",
       "    .dataframe tbody tr th:only-of-type {\n",
       "        vertical-align: middle;\n",
       "    }\n",
       "\n",
       "    .dataframe tbody tr th {\n",
       "        vertical-align: top;\n",
       "    }\n",
       "\n",
       "    .dataframe thead th {\n",
       "        text-align: right;\n",
       "    }\n",
       "</style>\n",
       "<table border=\"1\" class=\"dataframe\">\n",
       "  <thead>\n",
       "    <tr style=\"text-align: right;\">\n",
       "      <th></th>\n",
       "      <th>cc_num</th>\n",
       "      <th>hour_cat</th>\n",
       "      <th>hour_cnt</th>\n",
       "      <th>total_cnt</th>\n",
       "      <th>hour_perc</th>\n",
       "    </tr>\n",
       "  </thead>\n",
       "  <tbody>\n",
       "    <tr>\n",
       "      <th>486</th>\n",
       "      <td>4861310130652566408</td>\n",
       "      <td>morning</td>\n",
       "      <td>529</td>\n",
       "      <td>3643</td>\n",
       "      <td>0.145210</td>\n",
       "    </tr>\n",
       "    <tr>\n",
       "      <th>487</th>\n",
       "      <td>4861310130652566408</td>\n",
       "      <td>night</td>\n",
       "      <td>1033</td>\n",
       "      <td>3643</td>\n",
       "      <td>0.283558</td>\n",
       "    </tr>\n",
       "    <tr>\n",
       "      <th>488</th>\n",
       "      <td>4906628655840914250</td>\n",
       "      <td>afternoon</td>\n",
       "      <td>1282</td>\n",
       "      <td>3655</td>\n",
       "      <td>0.350752</td>\n",
       "    </tr>\n",
       "    <tr>\n",
       "      <th>489</th>\n",
       "      <td>4906628655840914250</td>\n",
       "      <td>evening</td>\n",
       "      <td>800</td>\n",
       "      <td>3655</td>\n",
       "      <td>0.218878</td>\n",
       "    </tr>\n",
       "    <tr>\n",
       "      <th>490</th>\n",
       "      <td>4906628655840914250</td>\n",
       "      <td>morning</td>\n",
       "      <td>500</td>\n",
       "      <td>3655</td>\n",
       "      <td>0.136799</td>\n",
       "    </tr>\n",
       "    <tr>\n",
       "      <th>491</th>\n",
       "      <td>4906628655840914250</td>\n",
       "      <td>night</td>\n",
       "      <td>1073</td>\n",
       "      <td>3655</td>\n",
       "      <td>0.293570</td>\n",
       "    </tr>\n",
       "    <tr>\n",
       "      <th>492</th>\n",
       "      <td>4956828990005111019</td>\n",
       "      <td>afternoon</td>\n",
       "      <td>1277</td>\n",
       "      <td>3657</td>\n",
       "      <td>0.349193</td>\n",
       "    </tr>\n",
       "    <tr>\n",
       "      <th>493</th>\n",
       "      <td>4956828990005111019</td>\n",
       "      <td>evening</td>\n",
       "      <td>784</td>\n",
       "      <td>3657</td>\n",
       "      <td>0.214383</td>\n",
       "    </tr>\n",
       "    <tr>\n",
       "      <th>494</th>\n",
       "      <td>4956828990005111019</td>\n",
       "      <td>morning</td>\n",
       "      <td>558</td>\n",
       "      <td>3657</td>\n",
       "      <td>0.152584</td>\n",
       "    </tr>\n",
       "    <tr>\n",
       "      <th>495</th>\n",
       "      <td>4956828990005111019</td>\n",
       "      <td>night</td>\n",
       "      <td>1038</td>\n",
       "      <td>3657</td>\n",
       "      <td>0.283839</td>\n",
       "    </tr>\n",
       "  </tbody>\n",
       "</table>\n",
       "</div>"
      ],
      "text/plain": [
       "                  cc_num   hour_cat  hour_cnt  total_cnt  hour_perc\n",
       "486  4861310130652566408    morning       529       3643   0.145210\n",
       "487  4861310130652566408      night      1033       3643   0.283558\n",
       "488  4906628655840914250  afternoon      1282       3655   0.350752\n",
       "489  4906628655840914250    evening       800       3655   0.218878\n",
       "490  4906628655840914250    morning       500       3655   0.136799\n",
       "491  4906628655840914250      night      1073       3655   0.293570\n",
       "492  4956828990005111019  afternoon      1277       3657   0.349193\n",
       "493  4956828990005111019    evening       784       3657   0.214383\n",
       "494  4956828990005111019    morning       558       3657   0.152584\n",
       "495  4956828990005111019      night      1038       3657   0.283839"
      ]
     },
     "execution_count": 46,
     "metadata": {},
     "output_type": "execute_result"
    }
   ],
   "source": [
    "hour_cnt.tail(10)"
   ]
  },
  {
   "cell_type": "code",
   "execution_count": 47,
   "id": "3bb34fc8",
   "metadata": {},
   "outputs": [],
   "source": [
    "hour_cnt.to_pickle('./hour_cnt.pkl')"
   ]
  },
  {
   "cell_type": "code",
   "execution_count": 48,
   "id": "be68b129",
   "metadata": {},
   "outputs": [],
   "source": [
    "hour_cnt = hour_cnt[['cc_num','hour_cat','hour_perc']]"
   ]
  },
  {
   "cell_type": "code",
   "execution_count": 49,
   "id": "ad3b8e03",
   "metadata": {},
   "outputs": [],
   "source": [
    "hour_cnt.to_pickle('./hour_cnt.pkl')"
   ]
  },
  {
   "cell_type": "code",
   "execution_count": 50,
   "id": "c74b446d",
   "metadata": {},
   "outputs": [],
   "source": [
    "# Q. cc_num, hour_cat 컬럼을 기준으로 cc_df와 hour_cnt 데이터를 합칩니다.\n",
    "# (cc_df에서 left merge를 수행합니다.)\n",
    "\n",
    "cc_df = pd.merge(cc_df, hour_cnt, how= 'left', on=['cc_num', 'hour_cat'])"
   ]
  },
  {
   "cell_type": "code",
   "execution_count": 51,
   "id": "c57b1a92",
   "metadata": {},
   "outputs": [
    {
     "data": {
      "application/vnd.microsoft.datawrangler.viewer.v0+json": {
       "columns": [
        {
         "name": "index",
         "rawType": "int64",
         "type": "integer"
        },
        {
         "name": "trans_date_trans_time",
         "rawType": "datetime64[ns]",
         "type": "datetime"
        },
        {
         "name": "cc_num",
         "rawType": "int64",
         "type": "integer"
        },
        {
         "name": "category",
         "rawType": "object",
         "type": "string"
        },
        {
         "name": "amt",
         "rawType": "float64",
         "type": "float"
        },
        {
         "name": "gender",
         "rawType": "object",
         "type": "string"
        },
        {
         "name": "lat",
         "rawType": "float64",
         "type": "float"
        },
        {
         "name": "long",
         "rawType": "float64",
         "type": "float"
        },
        {
         "name": "city_pop",
         "rawType": "int64",
         "type": "integer"
        },
        {
         "name": "dob",
         "rawType": "object",
         "type": "string"
        },
        {
         "name": "merch_lat",
         "rawType": "float64",
         "type": "float"
        },
        {
         "name": "merch_long",
         "rawType": "float64",
         "type": "float"
        },
        {
         "name": "is_fraud",
         "rawType": "int64",
         "type": "integer"
        },
        {
         "name": "amt_z",
         "rawType": "float64",
         "type": "float"
        },
        {
         "name": "cat_amt_z",
         "rawType": "float64",
         "type": "float"
        },
        {
         "name": "hour",
         "rawType": "int32",
         "type": "integer"
        },
        {
         "name": "hour_cat",
         "rawType": "object",
         "type": "string"
        },
        {
         "name": "hour_perc",
         "rawType": "float64",
         "type": "float"
        }
       ],
       "ref": "394c4de8-d665-44fd-93a1-fa9e62b46555",
       "rows": [
        [
         "0",
         "2019-01-01 00:00:44",
         "630423337322",
         "grocery_pos",
         "107.23",
         "F",
         "48.8878",
         "-118.2105",
         "149",
         "1978-06-21",
         "49.159047",
         "-118.186462",
         "0",
         "0.32130208360076357",
         "0.31763059303472113",
         "0",
         "evening",
         "0.1964695093993581"
        ],
        [
         "1",
         "2019-01-01 00:12:34",
         "4956828990005111019",
         "grocery_pos",
         "44.71",
         "M",
         "40.6747",
         "-74.2239",
         "124967",
         "1980-12-21",
         "40.079588",
         "-74.84808699999999",
         "0",
         "-0.11463747444553714",
         "-0.6520596303596424",
         "0",
         "evening",
         "0.21438337435056057"
        ],
        [
         "2",
         "2019-01-01 00:17:16",
         "180048185037117",
         "grocery_net",
         "46.28",
         "F",
         "40.6152",
         "-74.415",
         "71485",
         "1974-07-19",
         "40.021888",
         "-74.228188",
         "0",
         "-0.3618022871198555",
         "-0.7233282304862105",
         "0",
         "evening",
         "0.21725239616613418"
        ],
        [
         "3",
         "2019-01-01 00:20:15",
         "374930071163758",
         "grocery_pos",
         "64.09",
         "M",
         "42.2203",
         "-83.3583",
         "31515",
         "1971-11-05",
         "42.360426",
         "-83.552316",
         "0",
         "-0.001303883305192317",
         "0.21178029279882582",
         "0",
         "evening",
         "0.21360021935837675"
        ],
        [
         "4",
         "2019-01-01 00:23:41",
         "2712209726293386",
         "misc_pos",
         "25.58",
         "F",
         "30.4066",
         "-91.1468",
         "378909",
         "1977-02-22",
         "29.737426",
         "-90.853194",
         "0",
         "-0.39382834015056295",
         "-0.5756975327728285",
         "0",
         "evening",
         "0.20288197621225984"
        ]
       ],
       "shape": {
        "columns": 17,
        "rows": 5
       }
      },
      "text/html": [
       "<div>\n",
       "<style scoped>\n",
       "    .dataframe tbody tr th:only-of-type {\n",
       "        vertical-align: middle;\n",
       "    }\n",
       "\n",
       "    .dataframe tbody tr th {\n",
       "        vertical-align: top;\n",
       "    }\n",
       "\n",
       "    .dataframe thead th {\n",
       "        text-align: right;\n",
       "    }\n",
       "</style>\n",
       "<table border=\"1\" class=\"dataframe\">\n",
       "  <thead>\n",
       "    <tr style=\"text-align: right;\">\n",
       "      <th></th>\n",
       "      <th>trans_date_trans_time</th>\n",
       "      <th>cc_num</th>\n",
       "      <th>category</th>\n",
       "      <th>amt</th>\n",
       "      <th>gender</th>\n",
       "      <th>lat</th>\n",
       "      <th>long</th>\n",
       "      <th>city_pop</th>\n",
       "      <th>dob</th>\n",
       "      <th>merch_lat</th>\n",
       "      <th>merch_long</th>\n",
       "      <th>is_fraud</th>\n",
       "      <th>amt_z</th>\n",
       "      <th>cat_amt_z</th>\n",
       "      <th>hour</th>\n",
       "      <th>hour_cat</th>\n",
       "      <th>hour_perc</th>\n",
       "    </tr>\n",
       "  </thead>\n",
       "  <tbody>\n",
       "    <tr>\n",
       "      <th>0</th>\n",
       "      <td>2019-01-01 00:00:44</td>\n",
       "      <td>630423337322</td>\n",
       "      <td>grocery_pos</td>\n",
       "      <td>107.23</td>\n",
       "      <td>F</td>\n",
       "      <td>48.8878</td>\n",
       "      <td>-118.2105</td>\n",
       "      <td>149</td>\n",
       "      <td>1978-06-21</td>\n",
       "      <td>49.159047</td>\n",
       "      <td>-118.186462</td>\n",
       "      <td>0</td>\n",
       "      <td>0.321302</td>\n",
       "      <td>0.317631</td>\n",
       "      <td>0</td>\n",
       "      <td>evening</td>\n",
       "      <td>0.196470</td>\n",
       "    </tr>\n",
       "    <tr>\n",
       "      <th>1</th>\n",
       "      <td>2019-01-01 00:12:34</td>\n",
       "      <td>4956828990005111019</td>\n",
       "      <td>grocery_pos</td>\n",
       "      <td>44.71</td>\n",
       "      <td>M</td>\n",
       "      <td>40.6747</td>\n",
       "      <td>-74.2239</td>\n",
       "      <td>124967</td>\n",
       "      <td>1980-12-21</td>\n",
       "      <td>40.079588</td>\n",
       "      <td>-74.848087</td>\n",
       "      <td>0</td>\n",
       "      <td>-0.114637</td>\n",
       "      <td>-0.652060</td>\n",
       "      <td>0</td>\n",
       "      <td>evening</td>\n",
       "      <td>0.214383</td>\n",
       "    </tr>\n",
       "    <tr>\n",
       "      <th>2</th>\n",
       "      <td>2019-01-01 00:17:16</td>\n",
       "      <td>180048185037117</td>\n",
       "      <td>grocery_net</td>\n",
       "      <td>46.28</td>\n",
       "      <td>F</td>\n",
       "      <td>40.6152</td>\n",
       "      <td>-74.4150</td>\n",
       "      <td>71485</td>\n",
       "      <td>1974-07-19</td>\n",
       "      <td>40.021888</td>\n",
       "      <td>-74.228188</td>\n",
       "      <td>0</td>\n",
       "      <td>-0.361802</td>\n",
       "      <td>-0.723328</td>\n",
       "      <td>0</td>\n",
       "      <td>evening</td>\n",
       "      <td>0.217252</td>\n",
       "    </tr>\n",
       "    <tr>\n",
       "      <th>3</th>\n",
       "      <td>2019-01-01 00:20:15</td>\n",
       "      <td>374930071163758</td>\n",
       "      <td>grocery_pos</td>\n",
       "      <td>64.09</td>\n",
       "      <td>M</td>\n",
       "      <td>42.2203</td>\n",
       "      <td>-83.3583</td>\n",
       "      <td>31515</td>\n",
       "      <td>1971-11-05</td>\n",
       "      <td>42.360426</td>\n",
       "      <td>-83.552316</td>\n",
       "      <td>0</td>\n",
       "      <td>-0.001304</td>\n",
       "      <td>0.211780</td>\n",
       "      <td>0</td>\n",
       "      <td>evening</td>\n",
       "      <td>0.213600</td>\n",
       "    </tr>\n",
       "    <tr>\n",
       "      <th>4</th>\n",
       "      <td>2019-01-01 00:23:41</td>\n",
       "      <td>2712209726293386</td>\n",
       "      <td>misc_pos</td>\n",
       "      <td>25.58</td>\n",
       "      <td>F</td>\n",
       "      <td>30.4066</td>\n",
       "      <td>-91.1468</td>\n",
       "      <td>378909</td>\n",
       "      <td>1977-02-22</td>\n",
       "      <td>29.737426</td>\n",
       "      <td>-90.853194</td>\n",
       "      <td>0</td>\n",
       "      <td>-0.393828</td>\n",
       "      <td>-0.575698</td>\n",
       "      <td>0</td>\n",
       "      <td>evening</td>\n",
       "      <td>0.202882</td>\n",
       "    </tr>\n",
       "  </tbody>\n",
       "</table>\n",
       "</div>"
      ],
      "text/plain": [
       "  trans_date_trans_time               cc_num     category     amt gender  \\\n",
       "0   2019-01-01 00:00:44         630423337322  grocery_pos  107.23      F   \n",
       "1   2019-01-01 00:12:34  4956828990005111019  grocery_pos   44.71      M   \n",
       "2   2019-01-01 00:17:16      180048185037117  grocery_net   46.28      F   \n",
       "3   2019-01-01 00:20:15      374930071163758  grocery_pos   64.09      M   \n",
       "4   2019-01-01 00:23:41     2712209726293386     misc_pos   25.58      F   \n",
       "\n",
       "       lat      long  city_pop         dob  merch_lat  merch_long  is_fraud  \\\n",
       "0  48.8878 -118.2105       149  1978-06-21  49.159047 -118.186462         0   \n",
       "1  40.6747  -74.2239    124967  1980-12-21  40.079588  -74.848087         0   \n",
       "2  40.6152  -74.4150     71485  1974-07-19  40.021888  -74.228188         0   \n",
       "3  42.2203  -83.3583     31515  1971-11-05  42.360426  -83.552316         0   \n",
       "4  30.4066  -91.1468    378909  1977-02-22  29.737426  -90.853194         0   \n",
       "\n",
       "      amt_z  cat_amt_z  hour hour_cat  hour_perc  \n",
       "0  0.321302   0.317631     0  evening   0.196470  \n",
       "1 -0.114637  -0.652060     0  evening   0.214383  \n",
       "2 -0.361802  -0.723328     0  evening   0.217252  \n",
       "3 -0.001304   0.211780     0  evening   0.213600  \n",
       "4 -0.393828  -0.575698     0  evening   0.202882  "
      ]
     },
     "execution_count": 51,
     "metadata": {},
     "output_type": "execute_result"
    }
   ],
   "source": [
    "cc_df.head()"
   ]
  },
  {
   "cell_type": "code",
   "execution_count": 52,
   "id": "b5ca9bdb",
   "metadata": {},
   "outputs": [],
   "source": [
    "# 시간 관련 feature 분석이 완료되었으므로 불필요해진 컬럼들을 제거합니다.\n",
    "\n",
    "cc_df.drop(['trans_date_trans_time', 'hour', 'hour_cat'], axis =1 , inplace = True)"
   ]
  },
  {
   "cell_type": "markdown",
   "id": "90f11e25",
   "metadata": {},
   "source": [
    "거리 관련 feature 분석\n",
    "\n"
   ]
  },
  {
   "cell_type": "code",
   "execution_count": 53,
   "id": "79628213",
   "metadata": {},
   "outputs": [
    {
     "name": "stdout",
     "output_type": "stream",
     "text": [
      "Requirement already satisfied: geopy in c:\\users\\j\\anaconda3\\lib\\site-packages (2.4.1)\n",
      "Requirement already satisfied: geographiclib<3,>=1.52 in c:\\users\\j\\anaconda3\\lib\\site-packages (from geopy) (2.0)\n"
     ]
    }
   ],
   "source": [
    "# 거리 계산에 필요한 geopy 라이브러리를 설치합니다.\n",
    "\n",
    "!pip install geopy"
   ]
  },
  {
   "cell_type": "code",
   "execution_count": 54,
   "id": "8cf0821d",
   "metadata": {},
   "outputs": [],
   "source": [
    "from geopy.distance import distance"
   ]
  },
  {
   "cell_type": "code",
   "execution_count": 55,
   "id": "f6978ba8",
   "metadata": {},
   "outputs": [
    {
     "data": {
      "text/plain": [
       "30.216618410409005"
      ]
     },
     "execution_count": 55,
     "metadata": {},
     "output_type": "execute_result"
    }
   ],
   "source": [
    "# 이렇게 위도와 경도 값으로 두 지점 사이의 거리를 구할 수 있습니다.\n",
    "\n",
    "distance((48.8878, -118.2105), (49.159047, -118.186462)).km"
   ]
  },
  {
   "cell_type": "code",
   "execution_count": 56,
   "id": "fe643a02",
   "metadata": {},
   "outputs": [],
   "source": [
    "# 고객의 위치와 상점의 위치 사이의 거리를 계산하여 distance 컬럼에 저장합니다.\n",
    "# (모든 데이터가 계산되므로 실행 시간이 오래 걸릴 수 있습니다.)\n",
    "\n",
    "cc_df['distance'] = cc_df.apply(lambda x: distance((x['lat'], x['long']), (x['merch_lat'], x['merch_long'])).km, axis = 1)"
   ]
  },
  {
   "cell_type": "code",
   "execution_count": 57,
   "id": "276e026a",
   "metadata": {},
   "outputs": [],
   "source": [
    "from datetime import datetime"
   ]
  },
  {
   "cell_type": "code",
   "execution_count": 58,
   "id": "89fa5cc3",
   "metadata": {},
   "outputs": [
    {
     "data": {
      "text/plain": [
       "datetime.timedelta(seconds=1, microseconds=249382)"
      ]
     },
     "execution_count": 58,
     "metadata": {},
     "output_type": "execute_result"
    }
   ],
   "source": [
    "# 데이터 10000개만 계산해도 시간이 이렇게 걸립니다.\n",
    "\n",
    "start_time =  datetime.now()\n",
    "cc_df.head(10000).apply(lambda x: distance((x['lat'], x['long']), (x['merch_lat'], x['merch_long'])).km, axis = 1)\n",
    "datetime.now() - start_time"
   ]
  },
  {
   "cell_type": "code",
   "execution_count": 59,
   "id": "bb2df3eb",
   "metadata": {},
   "outputs": [
    {
     "data": {
      "application/vnd.microsoft.datawrangler.viewer.v0+json": {
       "columns": [
        {
         "name": "index",
         "rawType": "int64",
         "type": "integer"
        },
        {
         "name": "cc_num",
         "rawType": "int64",
         "type": "integer"
        },
        {
         "name": "category",
         "rawType": "object",
         "type": "string"
        },
        {
         "name": "amt",
         "rawType": "float64",
         "type": "float"
        },
        {
         "name": "gender",
         "rawType": "object",
         "type": "string"
        },
        {
         "name": "lat",
         "rawType": "float64",
         "type": "float"
        },
        {
         "name": "long",
         "rawType": "float64",
         "type": "float"
        },
        {
         "name": "city_pop",
         "rawType": "int64",
         "type": "integer"
        },
        {
         "name": "dob",
         "rawType": "object",
         "type": "string"
        },
        {
         "name": "merch_lat",
         "rawType": "float64",
         "type": "float"
        },
        {
         "name": "merch_long",
         "rawType": "float64",
         "type": "float"
        },
        {
         "name": "is_fraud",
         "rawType": "int64",
         "type": "integer"
        },
        {
         "name": "amt_z",
         "rawType": "float64",
         "type": "float"
        },
        {
         "name": "cat_amt_z",
         "rawType": "float64",
         "type": "float"
        },
        {
         "name": "hour_perc",
         "rawType": "float64",
         "type": "float"
        },
        {
         "name": "distance",
         "rawType": "float64",
         "type": "float"
        }
       ],
       "ref": "5ad08daf-96fe-4688-8cba-72a3519dc6dc",
       "rows": [
        [
         "0",
         "630423337322",
         "grocery_pos",
         "107.23",
         "F",
         "48.8878",
         "-118.2105",
         "149",
         "1978-06-21",
         "49.159047",
         "-118.186462",
         "0",
         "0.32130208360076357",
         "0.31763059303472113",
         "0.1964695093993581",
         "30.216618410409005"
        ],
        [
         "1",
         "4956828990005111019",
         "grocery_pos",
         "44.71",
         "M",
         "40.6747",
         "-74.2239",
         "124967",
         "1980-12-21",
         "40.079588",
         "-74.84808699999999",
         "0",
         "-0.11463747444553714",
         "-0.6520596303596424",
         "0.21438337435056057",
         "84.71460545737266"
        ],
        [
         "2",
         "180048185037117",
         "grocery_net",
         "46.28",
         "F",
         "40.6152",
         "-74.415",
         "71485",
         "1974-07-19",
         "40.021888",
         "-74.228188",
         "0",
         "-0.3618022871198555",
         "-0.7233282304862105",
         "0.21725239616613418",
         "67.76816723276248"
        ],
        [
         "3",
         "374930071163758",
         "grocery_pos",
         "64.09",
         "M",
         "42.2203",
         "-83.3583",
         "31515",
         "1971-11-05",
         "42.360426",
         "-83.552316",
         "0",
         "-0.001303883305192317",
         "0.21178029279882582",
         "0.21360021935837675",
         "22.322745354978704"
        ],
        [
         "4",
         "2712209726293386",
         "misc_pos",
         "25.58",
         "F",
         "30.4066",
         "-91.1468",
         "378909",
         "1977-02-22",
         "29.737426",
         "-90.853194",
         "0",
         "-0.39382834015056295",
         "-0.5756975327728285",
         "0.20288197621225984",
         "79.39824434881983"
        ]
       ],
       "shape": {
        "columns": 15,
        "rows": 5
       }
      },
      "text/html": [
       "<div>\n",
       "<style scoped>\n",
       "    .dataframe tbody tr th:only-of-type {\n",
       "        vertical-align: middle;\n",
       "    }\n",
       "\n",
       "    .dataframe tbody tr th {\n",
       "        vertical-align: top;\n",
       "    }\n",
       "\n",
       "    .dataframe thead th {\n",
       "        text-align: right;\n",
       "    }\n",
       "</style>\n",
       "<table border=\"1\" class=\"dataframe\">\n",
       "  <thead>\n",
       "    <tr style=\"text-align: right;\">\n",
       "      <th></th>\n",
       "      <th>cc_num</th>\n",
       "      <th>category</th>\n",
       "      <th>amt</th>\n",
       "      <th>gender</th>\n",
       "      <th>lat</th>\n",
       "      <th>long</th>\n",
       "      <th>city_pop</th>\n",
       "      <th>dob</th>\n",
       "      <th>merch_lat</th>\n",
       "      <th>merch_long</th>\n",
       "      <th>is_fraud</th>\n",
       "      <th>amt_z</th>\n",
       "      <th>cat_amt_z</th>\n",
       "      <th>hour_perc</th>\n",
       "      <th>distance</th>\n",
       "    </tr>\n",
       "  </thead>\n",
       "  <tbody>\n",
       "    <tr>\n",
       "      <th>0</th>\n",
       "      <td>630423337322</td>\n",
       "      <td>grocery_pos</td>\n",
       "      <td>107.23</td>\n",
       "      <td>F</td>\n",
       "      <td>48.8878</td>\n",
       "      <td>-118.2105</td>\n",
       "      <td>149</td>\n",
       "      <td>1978-06-21</td>\n",
       "      <td>49.159047</td>\n",
       "      <td>-118.186462</td>\n",
       "      <td>0</td>\n",
       "      <td>0.321302</td>\n",
       "      <td>0.317631</td>\n",
       "      <td>0.196470</td>\n",
       "      <td>30.216618</td>\n",
       "    </tr>\n",
       "    <tr>\n",
       "      <th>1</th>\n",
       "      <td>4956828990005111019</td>\n",
       "      <td>grocery_pos</td>\n",
       "      <td>44.71</td>\n",
       "      <td>M</td>\n",
       "      <td>40.6747</td>\n",
       "      <td>-74.2239</td>\n",
       "      <td>124967</td>\n",
       "      <td>1980-12-21</td>\n",
       "      <td>40.079588</td>\n",
       "      <td>-74.848087</td>\n",
       "      <td>0</td>\n",
       "      <td>-0.114637</td>\n",
       "      <td>-0.652060</td>\n",
       "      <td>0.214383</td>\n",
       "      <td>84.714605</td>\n",
       "    </tr>\n",
       "    <tr>\n",
       "      <th>2</th>\n",
       "      <td>180048185037117</td>\n",
       "      <td>grocery_net</td>\n",
       "      <td>46.28</td>\n",
       "      <td>F</td>\n",
       "      <td>40.6152</td>\n",
       "      <td>-74.4150</td>\n",
       "      <td>71485</td>\n",
       "      <td>1974-07-19</td>\n",
       "      <td>40.021888</td>\n",
       "      <td>-74.228188</td>\n",
       "      <td>0</td>\n",
       "      <td>-0.361802</td>\n",
       "      <td>-0.723328</td>\n",
       "      <td>0.217252</td>\n",
       "      <td>67.768167</td>\n",
       "    </tr>\n",
       "    <tr>\n",
       "      <th>3</th>\n",
       "      <td>374930071163758</td>\n",
       "      <td>grocery_pos</td>\n",
       "      <td>64.09</td>\n",
       "      <td>M</td>\n",
       "      <td>42.2203</td>\n",
       "      <td>-83.3583</td>\n",
       "      <td>31515</td>\n",
       "      <td>1971-11-05</td>\n",
       "      <td>42.360426</td>\n",
       "      <td>-83.552316</td>\n",
       "      <td>0</td>\n",
       "      <td>-0.001304</td>\n",
       "      <td>0.211780</td>\n",
       "      <td>0.213600</td>\n",
       "      <td>22.322745</td>\n",
       "    </tr>\n",
       "    <tr>\n",
       "      <th>4</th>\n",
       "      <td>2712209726293386</td>\n",
       "      <td>misc_pos</td>\n",
       "      <td>25.58</td>\n",
       "      <td>F</td>\n",
       "      <td>30.4066</td>\n",
       "      <td>-91.1468</td>\n",
       "      <td>378909</td>\n",
       "      <td>1977-02-22</td>\n",
       "      <td>29.737426</td>\n",
       "      <td>-90.853194</td>\n",
       "      <td>0</td>\n",
       "      <td>-0.393828</td>\n",
       "      <td>-0.575698</td>\n",
       "      <td>0.202882</td>\n",
       "      <td>79.398244</td>\n",
       "    </tr>\n",
       "  </tbody>\n",
       "</table>\n",
       "</div>"
      ],
      "text/plain": [
       "                cc_num     category     amt gender      lat      long  \\\n",
       "0         630423337322  grocery_pos  107.23      F  48.8878 -118.2105   \n",
       "1  4956828990005111019  grocery_pos   44.71      M  40.6747  -74.2239   \n",
       "2      180048185037117  grocery_net   46.28      F  40.6152  -74.4150   \n",
       "3      374930071163758  grocery_pos   64.09      M  42.2203  -83.3583   \n",
       "4     2712209726293386     misc_pos   25.58      F  30.4066  -91.1468   \n",
       "\n",
       "   city_pop         dob  merch_lat  merch_long  is_fraud     amt_z  cat_amt_z  \\\n",
       "0       149  1978-06-21  49.159047 -118.186462         0  0.321302   0.317631   \n",
       "1    124967  1980-12-21  40.079588  -74.848087         0 -0.114637  -0.652060   \n",
       "2     71485  1974-07-19  40.021888  -74.228188         0 -0.361802  -0.723328   \n",
       "3     31515  1971-11-05  42.360426  -83.552316         0 -0.001304   0.211780   \n",
       "4    378909  1977-02-22  29.737426  -90.853194         0 -0.393828  -0.575698   \n",
       "\n",
       "   hour_perc   distance  \n",
       "0   0.196470  30.216618  \n",
       "1   0.214383  84.714605  \n",
       "2   0.217252  67.768167  \n",
       "3   0.213600  22.322745  \n",
       "4   0.202882  79.398244  "
      ]
     },
     "execution_count": 59,
     "metadata": {},
     "output_type": "execute_result"
    }
   ],
   "source": [
    "cc_df.head()"
   ]
  },
  {
   "cell_type": "code",
   "execution_count": 60,
   "id": "3a9b80f3",
   "metadata": {},
   "outputs": [],
   "source": [
    "# Q. cc_num 컬럼의 값마다 distance의 평균, 표준편차를 계산하여 dist_info 변수에 저장합니다.\n",
    "\n",
    "dist_info = cc_df.groupby('cc_num')['distance'].agg(['mean', 'std']).reset_index()\n"
   ]
  },
  {
   "cell_type": "code",
   "execution_count": 61,
   "id": "926aebf8",
   "metadata": {},
   "outputs": [],
   "source": [
    "dist_info.to_pickle('./dist_info.pkl')"
   ]
  },
  {
   "cell_type": "code",
   "execution_count": 62,
   "id": "a7ce3954",
   "metadata": {},
   "outputs": [],
   "source": [
    "# Q. cc_num 컬럼을 기준으로 cc_df와 dist_info 데이터를 합칩니다.\n",
    "# (cc_df에서 left merge를 수행합니다.)\n",
    "\n",
    "#주의사항 : 결과값에 대해서 shape문을 출력했을때 row가 200만개 이상으로 잡힌다면 잘못 merge되었습니다! 이 경우 LMS 초기화를 진행하고 코드를 수정하고 첫 코드블럭부터 실행해주세요!\n",
    "\n",
    "cc_df = pd.merge(cc_df,dist_info, how='left', on='cc_num')"
   ]
  },
  {
   "cell_type": "code",
   "execution_count": 63,
   "id": "3fbb5654",
   "metadata": {},
   "outputs": [
    {
     "data": {
      "text/plain": [
       "(491134, 17)"
      ]
     },
     "execution_count": 63,
     "metadata": {},
     "output_type": "execute_result"
    }
   ],
   "source": [
    "cc_df.shape"
   ]
  },
  {
   "cell_type": "code",
   "execution_count": 64,
   "id": "1d6c7997",
   "metadata": {},
   "outputs": [],
   "source": [
    "# Q. distance 값의 z-score를 계산하여 dist_z 컬럼에 저장합니다.\n",
    "cc_df['dist_z'] = (cc_df['distance']-cc_df['mean'])/cc_df['std']"
   ]
  },
  {
   "cell_type": "code",
   "execution_count": 65,
   "id": "614b9656",
   "metadata": {},
   "outputs": [
    {
     "data": {
      "application/vnd.microsoft.datawrangler.viewer.v0+json": {
       "columns": [
        {
         "name": "index",
         "rawType": "int64",
         "type": "integer"
        },
        {
         "name": "cc_num",
         "rawType": "int64",
         "type": "integer"
        },
        {
         "name": "category",
         "rawType": "object",
         "type": "string"
        },
        {
         "name": "amt",
         "rawType": "float64",
         "type": "float"
        },
        {
         "name": "gender",
         "rawType": "object",
         "type": "string"
        },
        {
         "name": "lat",
         "rawType": "float64",
         "type": "float"
        },
        {
         "name": "long",
         "rawType": "float64",
         "type": "float"
        },
        {
         "name": "city_pop",
         "rawType": "int64",
         "type": "integer"
        },
        {
         "name": "dob",
         "rawType": "object",
         "type": "string"
        },
        {
         "name": "merch_lat",
         "rawType": "float64",
         "type": "float"
        },
        {
         "name": "merch_long",
         "rawType": "float64",
         "type": "float"
        },
        {
         "name": "is_fraud",
         "rawType": "int64",
         "type": "integer"
        },
        {
         "name": "amt_z",
         "rawType": "float64",
         "type": "float"
        },
        {
         "name": "cat_amt_z",
         "rawType": "float64",
         "type": "float"
        },
        {
         "name": "hour_perc",
         "rawType": "float64",
         "type": "float"
        },
        {
         "name": "distance",
         "rawType": "float64",
         "type": "float"
        },
        {
         "name": "mean",
         "rawType": "float64",
         "type": "float"
        },
        {
         "name": "std",
         "rawType": "float64",
         "type": "float"
        },
        {
         "name": "dist_z",
         "rawType": "float64",
         "type": "float"
        }
       ],
       "ref": "b91a3c02-5a41-4706-a76f-e9394d556de4",
       "rows": [
        [
         "0",
         "630423337322",
         "grocery_pos",
         "107.23",
         "F",
         "48.8878",
         "-118.2105",
         "149",
         "1978-06-21",
         "49.159047",
         "-118.186462",
         "0",
         "0.32130208360076357",
         "0.31763059303472113",
         "0.1964695093993581",
         "30.216618410409005",
         "71.65662143333876",
         "28.09064632803617",
         "-1.4752242628739416"
        ],
        [
         "1",
         "4956828990005111019",
         "grocery_pos",
         "44.71",
         "M",
         "40.6747",
         "-74.2239",
         "124967",
         "1980-12-21",
         "40.079588",
         "-74.84808699999999",
         "0",
         "-0.11463747444553714",
         "-0.6520596303596424",
         "0.21438337435056057",
         "84.71460545737266",
         "74.81112314766703",
         "28.675031485577215",
         "0.3453695356772952"
        ],
        [
         "2",
         "180048185037117",
         "grocery_net",
         "46.28",
         "F",
         "40.6152",
         "-74.415",
         "71485",
         "1974-07-19",
         "40.021888",
         "-74.228188",
         "0",
         "-0.3618022871198555",
         "-0.7233282304862105",
         "0.21725239616613418",
         "67.76816723276248",
         "75.61753113994811",
         "28.78460556466772",
         "-0.2726931202705276"
        ],
        [
         "3",
         "374930071163758",
         "grocery_pos",
         "64.09",
         "M",
         "42.2203",
         "-83.3583",
         "31515",
         "1971-11-05",
         "42.360426",
         "-83.552316",
         "0",
         "-0.001303883305192317",
         "0.21178029279882582",
         "0.21360021935837675",
         "22.322745354978704",
         "74.7064606604148",
         "28.71149343649274",
         "-1.8244859126295259"
        ],
        [
         "4",
         "2712209726293386",
         "misc_pos",
         "25.58",
         "F",
         "30.4066",
         "-91.1468",
         "378909",
         "1977-02-22",
         "29.737426",
         "-90.853194",
         "0",
         "-0.39382834015056295",
         "-0.5756975327728285",
         "0.20288197621225984",
         "79.39824434881983",
         "79.33492408064436",
         "29.62011676537786",
         "0.002137745393680797"
        ]
       ],
       "shape": {
        "columns": 18,
        "rows": 5
       }
      },
      "text/html": [
       "<div>\n",
       "<style scoped>\n",
       "    .dataframe tbody tr th:only-of-type {\n",
       "        vertical-align: middle;\n",
       "    }\n",
       "\n",
       "    .dataframe tbody tr th {\n",
       "        vertical-align: top;\n",
       "    }\n",
       "\n",
       "    .dataframe thead th {\n",
       "        text-align: right;\n",
       "    }\n",
       "</style>\n",
       "<table border=\"1\" class=\"dataframe\">\n",
       "  <thead>\n",
       "    <tr style=\"text-align: right;\">\n",
       "      <th></th>\n",
       "      <th>cc_num</th>\n",
       "      <th>category</th>\n",
       "      <th>amt</th>\n",
       "      <th>gender</th>\n",
       "      <th>lat</th>\n",
       "      <th>long</th>\n",
       "      <th>city_pop</th>\n",
       "      <th>dob</th>\n",
       "      <th>merch_lat</th>\n",
       "      <th>merch_long</th>\n",
       "      <th>is_fraud</th>\n",
       "      <th>amt_z</th>\n",
       "      <th>cat_amt_z</th>\n",
       "      <th>hour_perc</th>\n",
       "      <th>distance</th>\n",
       "      <th>mean</th>\n",
       "      <th>std</th>\n",
       "      <th>dist_z</th>\n",
       "    </tr>\n",
       "  </thead>\n",
       "  <tbody>\n",
       "    <tr>\n",
       "      <th>0</th>\n",
       "      <td>630423337322</td>\n",
       "      <td>grocery_pos</td>\n",
       "      <td>107.23</td>\n",
       "      <td>F</td>\n",
       "      <td>48.8878</td>\n",
       "      <td>-118.2105</td>\n",
       "      <td>149</td>\n",
       "      <td>1978-06-21</td>\n",
       "      <td>49.159047</td>\n",
       "      <td>-118.186462</td>\n",
       "      <td>0</td>\n",
       "      <td>0.321302</td>\n",
       "      <td>0.317631</td>\n",
       "      <td>0.196470</td>\n",
       "      <td>30.216618</td>\n",
       "      <td>71.656621</td>\n",
       "      <td>28.090646</td>\n",
       "      <td>-1.475224</td>\n",
       "    </tr>\n",
       "    <tr>\n",
       "      <th>1</th>\n",
       "      <td>4956828990005111019</td>\n",
       "      <td>grocery_pos</td>\n",
       "      <td>44.71</td>\n",
       "      <td>M</td>\n",
       "      <td>40.6747</td>\n",
       "      <td>-74.2239</td>\n",
       "      <td>124967</td>\n",
       "      <td>1980-12-21</td>\n",
       "      <td>40.079588</td>\n",
       "      <td>-74.848087</td>\n",
       "      <td>0</td>\n",
       "      <td>-0.114637</td>\n",
       "      <td>-0.652060</td>\n",
       "      <td>0.214383</td>\n",
       "      <td>84.714605</td>\n",
       "      <td>74.811123</td>\n",
       "      <td>28.675031</td>\n",
       "      <td>0.345370</td>\n",
       "    </tr>\n",
       "    <tr>\n",
       "      <th>2</th>\n",
       "      <td>180048185037117</td>\n",
       "      <td>grocery_net</td>\n",
       "      <td>46.28</td>\n",
       "      <td>F</td>\n",
       "      <td>40.6152</td>\n",
       "      <td>-74.4150</td>\n",
       "      <td>71485</td>\n",
       "      <td>1974-07-19</td>\n",
       "      <td>40.021888</td>\n",
       "      <td>-74.228188</td>\n",
       "      <td>0</td>\n",
       "      <td>-0.361802</td>\n",
       "      <td>-0.723328</td>\n",
       "      <td>0.217252</td>\n",
       "      <td>67.768167</td>\n",
       "      <td>75.617531</td>\n",
       "      <td>28.784606</td>\n",
       "      <td>-0.272693</td>\n",
       "    </tr>\n",
       "    <tr>\n",
       "      <th>3</th>\n",
       "      <td>374930071163758</td>\n",
       "      <td>grocery_pos</td>\n",
       "      <td>64.09</td>\n",
       "      <td>M</td>\n",
       "      <td>42.2203</td>\n",
       "      <td>-83.3583</td>\n",
       "      <td>31515</td>\n",
       "      <td>1971-11-05</td>\n",
       "      <td>42.360426</td>\n",
       "      <td>-83.552316</td>\n",
       "      <td>0</td>\n",
       "      <td>-0.001304</td>\n",
       "      <td>0.211780</td>\n",
       "      <td>0.213600</td>\n",
       "      <td>22.322745</td>\n",
       "      <td>74.706461</td>\n",
       "      <td>28.711493</td>\n",
       "      <td>-1.824486</td>\n",
       "    </tr>\n",
       "    <tr>\n",
       "      <th>4</th>\n",
       "      <td>2712209726293386</td>\n",
       "      <td>misc_pos</td>\n",
       "      <td>25.58</td>\n",
       "      <td>F</td>\n",
       "      <td>30.4066</td>\n",
       "      <td>-91.1468</td>\n",
       "      <td>378909</td>\n",
       "      <td>1977-02-22</td>\n",
       "      <td>29.737426</td>\n",
       "      <td>-90.853194</td>\n",
       "      <td>0</td>\n",
       "      <td>-0.393828</td>\n",
       "      <td>-0.575698</td>\n",
       "      <td>0.202882</td>\n",
       "      <td>79.398244</td>\n",
       "      <td>79.334924</td>\n",
       "      <td>29.620117</td>\n",
       "      <td>0.002138</td>\n",
       "    </tr>\n",
       "  </tbody>\n",
       "</table>\n",
       "</div>"
      ],
      "text/plain": [
       "                cc_num     category     amt gender      lat      long  \\\n",
       "0         630423337322  grocery_pos  107.23      F  48.8878 -118.2105   \n",
       "1  4956828990005111019  grocery_pos   44.71      M  40.6747  -74.2239   \n",
       "2      180048185037117  grocery_net   46.28      F  40.6152  -74.4150   \n",
       "3      374930071163758  grocery_pos   64.09      M  42.2203  -83.3583   \n",
       "4     2712209726293386     misc_pos   25.58      F  30.4066  -91.1468   \n",
       "\n",
       "   city_pop         dob  merch_lat  merch_long  is_fraud     amt_z  cat_amt_z  \\\n",
       "0       149  1978-06-21  49.159047 -118.186462         0  0.321302   0.317631   \n",
       "1    124967  1980-12-21  40.079588  -74.848087         0 -0.114637  -0.652060   \n",
       "2     71485  1974-07-19  40.021888  -74.228188         0 -0.361802  -0.723328   \n",
       "3     31515  1971-11-05  42.360426  -83.552316         0 -0.001304   0.211780   \n",
       "4    378909  1977-02-22  29.737426  -90.853194         0 -0.393828  -0.575698   \n",
       "\n",
       "   hour_perc   distance       mean        std    dist_z  \n",
       "0   0.196470  30.216618  71.656621  28.090646 -1.475224  \n",
       "1   0.214383  84.714605  74.811123  28.675031  0.345370  \n",
       "2   0.217252  67.768167  75.617531  28.784606 -0.272693  \n",
       "3   0.213600  22.322745  74.706461  28.711493 -1.824486  \n",
       "4   0.202882  79.398244  79.334924  29.620117  0.002138  "
      ]
     },
     "execution_count": 65,
     "metadata": {},
     "output_type": "execute_result"
    }
   ],
   "source": [
    "cc_df.head()"
   ]
  },
  {
   "cell_type": "code",
   "execution_count": 66,
   "id": "332f60a0",
   "metadata": {},
   "outputs": [],
   "source": [
    "# 불필요해진 컬럼들을 제거합니다.\n",
    "\n",
    "cc_df.drop(['lat','long','merch_lat','merch_long','mean','std'], axis = 1, inplace = True)"
   ]
  },
  {
   "cell_type": "code",
   "execution_count": 67,
   "id": "bff3546a",
   "metadata": {},
   "outputs": [],
   "source": [
    "# Q. dob 컬럼에서 연도 값만 추출하여 dob 컬럼에 저장합니다.\n",
    "\n",
    "cc_df['dob'] = pd.to_datetime(cc_df['dob'])\n",
    "cc_df['dob'] = cc_df['dob'].dt.year\n"
   ]
  },
  {
   "cell_type": "code",
   "execution_count": 68,
   "id": "42fcce9f",
   "metadata": {},
   "outputs": [
    {
     "data": {
      "application/vnd.microsoft.datawrangler.viewer.v0+json": {
       "columns": [
        {
         "name": "index",
         "rawType": "int64",
         "type": "integer"
        },
        {
         "name": "dob",
         "rawType": "int32",
         "type": "integer"
        }
       ],
       "ref": "ac4fdc69-9e5e-42b2-91fe-a5ddfe021420",
       "rows": [
        [
         "0",
         "1978"
        ],
        [
         "1",
         "1980"
        ],
        [
         "2",
         "1974"
        ],
        [
         "3",
         "1971"
        ],
        [
         "4",
         "1977"
        ],
        [
         "5",
         "1970"
        ],
        [
         "6",
         "1984"
        ],
        [
         "7",
         "1987"
        ],
        [
         "8",
         "1987"
        ],
        [
         "9",
         "1984"
        ],
        [
         "10",
         "1987"
        ],
        [
         "11",
         "1997"
        ],
        [
         "12",
         "1972"
        ],
        [
         "13",
         "1983"
        ],
        [
         "14",
         "2000"
        ],
        [
         "15",
         "1975"
        ],
        [
         "16",
         "1998"
        ],
        [
         "17",
         "1995"
        ],
        [
         "18",
         "1984"
        ],
        [
         "19",
         "1976"
        ],
        [
         "20",
         "1974"
        ],
        [
         "21",
         "1970"
        ],
        [
         "22",
         "1972"
        ],
        [
         "23",
         "1985"
        ],
        [
         "24",
         "1971"
        ],
        [
         "25",
         "1973"
        ],
        [
         "26",
         "1988"
        ],
        [
         "27",
         "1999"
        ],
        [
         "28",
         "1985"
        ],
        [
         "29",
         "2003"
        ],
        [
         "30",
         "1990"
        ],
        [
         "31",
         "1989"
        ],
        [
         "32",
         "1995"
        ],
        [
         "33",
         "1997"
        ],
        [
         "34",
         "1997"
        ],
        [
         "35",
         "1998"
        ],
        [
         "36",
         "1981"
        ],
        [
         "37",
         "1971"
        ],
        [
         "38",
         "1995"
        ],
        [
         "39",
         "1974"
        ],
        [
         "40",
         "1978"
        ],
        [
         "41",
         "1980"
        ],
        [
         "42",
         "1970"
        ],
        [
         "43",
         "1973"
        ],
        [
         "44",
         "2004"
        ],
        [
         "45",
         "2004"
        ],
        [
         "46",
         "1988"
        ],
        [
         "47",
         "1985"
        ],
        [
         "48",
         "1975"
        ],
        [
         "49",
         "1978"
        ]
       ],
       "shape": {
        "columns": 1,
        "rows": 491134
       }
      },
      "text/plain": [
       "0         1978\n",
       "1         1980\n",
       "2         1974\n",
       "3         1971\n",
       "4         1977\n",
       "          ... \n",
       "491129    1983\n",
       "491130    1984\n",
       "491131    1999\n",
       "491132    1981\n",
       "491133    1993\n",
       "Name: dob, Length: 491134, dtype: int32"
      ]
     },
     "execution_count": 68,
     "metadata": {},
     "output_type": "execute_result"
    }
   ],
   "source": [
    "cc_df['dob']"
   ]
  },
  {
   "cell_type": "code",
   "execution_count": 69,
   "id": "1b132caf",
   "metadata": {},
   "outputs": [
    {
     "data": {
      "text/plain": [
       "14"
      ]
     },
     "execution_count": 69,
     "metadata": {},
     "output_type": "execute_result"
    }
   ],
   "source": [
    "# 범주형 컬럼 'category'에 몇 종류의 값이 있는지 확인해봅시다.\n",
    "\n",
    "cc_df['category'].nunique()"
   ]
  },
  {
   "cell_type": "code",
   "execution_count": 70,
   "id": "bb87cb6d",
   "metadata": {},
   "outputs": [],
   "source": [
    "# Q. cc_df의 범주형 데이터에 원-핫 인코딩을 적용합니다.\n",
    "# (drop_first 옵션은 True로 설정합니다.)\n",
    "\n",
    "cc_df = pd.get_dummies(cc_df, drop_first=True)\n"
   ]
  },
  {
   "cell_type": "code",
   "execution_count": 71,
   "id": "197231aa",
   "metadata": {},
   "outputs": [
    {
     "name": "stdout",
     "output_type": "stream",
     "text": [
      "<class 'pandas.core.frame.DataFrame'>\n",
      "RangeIndex: 491134 entries, 0 to 491133\n",
      "Data columns (total 24 columns):\n",
      " #   Column                   Non-Null Count   Dtype  \n",
      "---  ------                   --------------   -----  \n",
      " 0   cc_num                   491134 non-null  int64  \n",
      " 1   amt                      491134 non-null  float64\n",
      " 2   city_pop                 491134 non-null  int64  \n",
      " 3   dob                      491134 non-null  int32  \n",
      " 4   is_fraud                 491134 non-null  int64  \n",
      " 5   amt_z                    491134 non-null  float64\n",
      " 6   cat_amt_z                491134 non-null  float64\n",
      " 7   hour_perc                491134 non-null  float64\n",
      " 8   distance                 491134 non-null  float64\n",
      " 9   dist_z                   491134 non-null  float64\n",
      " 10  category_food_dining     491134 non-null  bool   \n",
      " 11  category_gas_transport   491134 non-null  bool   \n",
      " 12  category_grocery_net     491134 non-null  bool   \n",
      " 13  category_grocery_pos     491134 non-null  bool   \n",
      " 14  category_health_fitness  491134 non-null  bool   \n",
      " 15  category_home            491134 non-null  bool   \n",
      " 16  category_kids_pets       491134 non-null  bool   \n",
      " 17  category_misc_net        491134 non-null  bool   \n",
      " 18  category_misc_pos        491134 non-null  bool   \n",
      " 19  category_personal_care   491134 non-null  bool   \n",
      " 20  category_shopping_net    491134 non-null  bool   \n",
      " 21  category_shopping_pos    491134 non-null  bool   \n",
      " 22  category_travel          491134 non-null  bool   \n",
      " 23  gender_M                 491134 non-null  bool   \n",
      "dtypes: bool(14), float64(6), int32(1), int64(3)\n",
      "memory usage: 42.2 MB\n"
     ]
    }
   ],
   "source": [
    "cc_df.info()"
   ]
  },
  {
   "cell_type": "code",
   "execution_count": 72,
   "id": "96a7a008",
   "metadata": {},
   "outputs": [
    {
     "data": {
      "application/vnd.microsoft.datawrangler.viewer.v0+json": {
       "columns": [
        {
         "name": "index",
         "rawType": "int64",
         "type": "integer"
        },
        {
         "name": "cc_num",
         "rawType": "int64",
         "type": "integer"
        },
        {
         "name": "amt",
         "rawType": "float64",
         "type": "float"
        },
        {
         "name": "city_pop",
         "rawType": "int64",
         "type": "integer"
        },
        {
         "name": "dob",
         "rawType": "int32",
         "type": "integer"
        },
        {
         "name": "is_fraud",
         "rawType": "int64",
         "type": "integer"
        },
        {
         "name": "amt_z",
         "rawType": "float64",
         "type": "float"
        },
        {
         "name": "cat_amt_z",
         "rawType": "float64",
         "type": "float"
        },
        {
         "name": "hour_perc",
         "rawType": "float64",
         "type": "float"
        },
        {
         "name": "distance",
         "rawType": "float64",
         "type": "float"
        },
        {
         "name": "dist_z",
         "rawType": "float64",
         "type": "float"
        },
        {
         "name": "category_food_dining",
         "rawType": "bool",
         "type": "boolean"
        },
        {
         "name": "category_gas_transport",
         "rawType": "bool",
         "type": "boolean"
        },
        {
         "name": "category_grocery_net",
         "rawType": "bool",
         "type": "boolean"
        },
        {
         "name": "category_grocery_pos",
         "rawType": "bool",
         "type": "boolean"
        },
        {
         "name": "category_health_fitness",
         "rawType": "bool",
         "type": "boolean"
        },
        {
         "name": "category_home",
         "rawType": "bool",
         "type": "boolean"
        },
        {
         "name": "category_kids_pets",
         "rawType": "bool",
         "type": "boolean"
        },
        {
         "name": "category_misc_net",
         "rawType": "bool",
         "type": "boolean"
        },
        {
         "name": "category_misc_pos",
         "rawType": "bool",
         "type": "boolean"
        },
        {
         "name": "category_personal_care",
         "rawType": "bool",
         "type": "boolean"
        },
        {
         "name": "category_shopping_net",
         "rawType": "bool",
         "type": "boolean"
        },
        {
         "name": "category_shopping_pos",
         "rawType": "bool",
         "type": "boolean"
        },
        {
         "name": "category_travel",
         "rawType": "bool",
         "type": "boolean"
        },
        {
         "name": "gender_M",
         "rawType": "bool",
         "type": "boolean"
        }
       ],
       "ref": "2390b330-7312-441e-89b3-21ddc4dae818",
       "rows": [
        [
         "0",
         "630423337322",
         "107.23",
         "149",
         "1978",
         "0",
         "0.32130208360076357",
         "0.31763059303472113",
         "0.1964695093993581",
         "30.216618410409005",
         "-1.4752242628739416",
         "False",
         "False",
         "False",
         "True",
         "False",
         "False",
         "False",
         "False",
         "False",
         "False",
         "False",
         "False",
         "False",
         "False"
        ],
        [
         "1",
         "4956828990005111019",
         "44.71",
         "124967",
         "1980",
         "0",
         "-0.11463747444553714",
         "-0.6520596303596424",
         "0.21438337435056057",
         "84.71460545737266",
         "0.3453695356772952",
         "False",
         "False",
         "False",
         "True",
         "False",
         "False",
         "False",
         "False",
         "False",
         "False",
         "False",
         "False",
         "False",
         "True"
        ],
        [
         "2",
         "180048185037117",
         "46.28",
         "71485",
         "1974",
         "0",
         "-0.3618022871198555",
         "-0.7233282304862105",
         "0.21725239616613418",
         "67.76816723276248",
         "-0.2726931202705276",
         "False",
         "False",
         "True",
         "False",
         "False",
         "False",
         "False",
         "False",
         "False",
         "False",
         "False",
         "False",
         "False",
         "False"
        ],
        [
         "3",
         "374930071163758",
         "64.09",
         "31515",
         "1971",
         "0",
         "-0.001303883305192317",
         "0.21178029279882582",
         "0.21360021935837675",
         "22.322745354978704",
         "-1.8244859126295259",
         "False",
         "False",
         "False",
         "True",
         "False",
         "False",
         "False",
         "False",
         "False",
         "False",
         "False",
         "False",
         "False",
         "True"
        ],
        [
         "4",
         "2712209726293386",
         "25.58",
         "378909",
         "1977",
         "0",
         "-0.39382834015056295",
         "-0.5756975327728285",
         "0.20288197621225984",
         "79.39824434881983",
         "0.002137745393680797",
         "False",
         "False",
         "False",
         "False",
         "False",
         "False",
         "False",
         "False",
         "True",
         "False",
         "False",
         "False",
         "False",
         "False"
        ]
       ],
       "shape": {
        "columns": 24,
        "rows": 5
       }
      },
      "text/html": [
       "<div>\n",
       "<style scoped>\n",
       "    .dataframe tbody tr th:only-of-type {\n",
       "        vertical-align: middle;\n",
       "    }\n",
       "\n",
       "    .dataframe tbody tr th {\n",
       "        vertical-align: top;\n",
       "    }\n",
       "\n",
       "    .dataframe thead th {\n",
       "        text-align: right;\n",
       "    }\n",
       "</style>\n",
       "<table border=\"1\" class=\"dataframe\">\n",
       "  <thead>\n",
       "    <tr style=\"text-align: right;\">\n",
       "      <th></th>\n",
       "      <th>cc_num</th>\n",
       "      <th>amt</th>\n",
       "      <th>city_pop</th>\n",
       "      <th>dob</th>\n",
       "      <th>is_fraud</th>\n",
       "      <th>amt_z</th>\n",
       "      <th>cat_amt_z</th>\n",
       "      <th>hour_perc</th>\n",
       "      <th>distance</th>\n",
       "      <th>dist_z</th>\n",
       "      <th>category_food_dining</th>\n",
       "      <th>category_gas_transport</th>\n",
       "      <th>category_grocery_net</th>\n",
       "      <th>category_grocery_pos</th>\n",
       "      <th>category_health_fitness</th>\n",
       "      <th>category_home</th>\n",
       "      <th>category_kids_pets</th>\n",
       "      <th>category_misc_net</th>\n",
       "      <th>category_misc_pos</th>\n",
       "      <th>category_personal_care</th>\n",
       "      <th>category_shopping_net</th>\n",
       "      <th>category_shopping_pos</th>\n",
       "      <th>category_travel</th>\n",
       "      <th>gender_M</th>\n",
       "    </tr>\n",
       "  </thead>\n",
       "  <tbody>\n",
       "    <tr>\n",
       "      <th>0</th>\n",
       "      <td>630423337322</td>\n",
       "      <td>107.23</td>\n",
       "      <td>149</td>\n",
       "      <td>1978</td>\n",
       "      <td>0</td>\n",
       "      <td>0.321302</td>\n",
       "      <td>0.317631</td>\n",
       "      <td>0.196470</td>\n",
       "      <td>30.216618</td>\n",
       "      <td>-1.475224</td>\n",
       "      <td>False</td>\n",
       "      <td>False</td>\n",
       "      <td>False</td>\n",
       "      <td>True</td>\n",
       "      <td>False</td>\n",
       "      <td>False</td>\n",
       "      <td>False</td>\n",
       "      <td>False</td>\n",
       "      <td>False</td>\n",
       "      <td>False</td>\n",
       "      <td>False</td>\n",
       "      <td>False</td>\n",
       "      <td>False</td>\n",
       "      <td>False</td>\n",
       "    </tr>\n",
       "    <tr>\n",
       "      <th>1</th>\n",
       "      <td>4956828990005111019</td>\n",
       "      <td>44.71</td>\n",
       "      <td>124967</td>\n",
       "      <td>1980</td>\n",
       "      <td>0</td>\n",
       "      <td>-0.114637</td>\n",
       "      <td>-0.652060</td>\n",
       "      <td>0.214383</td>\n",
       "      <td>84.714605</td>\n",
       "      <td>0.345370</td>\n",
       "      <td>False</td>\n",
       "      <td>False</td>\n",
       "      <td>False</td>\n",
       "      <td>True</td>\n",
       "      <td>False</td>\n",
       "      <td>False</td>\n",
       "      <td>False</td>\n",
       "      <td>False</td>\n",
       "      <td>False</td>\n",
       "      <td>False</td>\n",
       "      <td>False</td>\n",
       "      <td>False</td>\n",
       "      <td>False</td>\n",
       "      <td>True</td>\n",
       "    </tr>\n",
       "    <tr>\n",
       "      <th>2</th>\n",
       "      <td>180048185037117</td>\n",
       "      <td>46.28</td>\n",
       "      <td>71485</td>\n",
       "      <td>1974</td>\n",
       "      <td>0</td>\n",
       "      <td>-0.361802</td>\n",
       "      <td>-0.723328</td>\n",
       "      <td>0.217252</td>\n",
       "      <td>67.768167</td>\n",
       "      <td>-0.272693</td>\n",
       "      <td>False</td>\n",
       "      <td>False</td>\n",
       "      <td>True</td>\n",
       "      <td>False</td>\n",
       "      <td>False</td>\n",
       "      <td>False</td>\n",
       "      <td>False</td>\n",
       "      <td>False</td>\n",
       "      <td>False</td>\n",
       "      <td>False</td>\n",
       "      <td>False</td>\n",
       "      <td>False</td>\n",
       "      <td>False</td>\n",
       "      <td>False</td>\n",
       "    </tr>\n",
       "    <tr>\n",
       "      <th>3</th>\n",
       "      <td>374930071163758</td>\n",
       "      <td>64.09</td>\n",
       "      <td>31515</td>\n",
       "      <td>1971</td>\n",
       "      <td>0</td>\n",
       "      <td>-0.001304</td>\n",
       "      <td>0.211780</td>\n",
       "      <td>0.213600</td>\n",
       "      <td>22.322745</td>\n",
       "      <td>-1.824486</td>\n",
       "      <td>False</td>\n",
       "      <td>False</td>\n",
       "      <td>False</td>\n",
       "      <td>True</td>\n",
       "      <td>False</td>\n",
       "      <td>False</td>\n",
       "      <td>False</td>\n",
       "      <td>False</td>\n",
       "      <td>False</td>\n",
       "      <td>False</td>\n",
       "      <td>False</td>\n",
       "      <td>False</td>\n",
       "      <td>False</td>\n",
       "      <td>True</td>\n",
       "    </tr>\n",
       "    <tr>\n",
       "      <th>4</th>\n",
       "      <td>2712209726293386</td>\n",
       "      <td>25.58</td>\n",
       "      <td>378909</td>\n",
       "      <td>1977</td>\n",
       "      <td>0</td>\n",
       "      <td>-0.393828</td>\n",
       "      <td>-0.575698</td>\n",
       "      <td>0.202882</td>\n",
       "      <td>79.398244</td>\n",
       "      <td>0.002138</td>\n",
       "      <td>False</td>\n",
       "      <td>False</td>\n",
       "      <td>False</td>\n",
       "      <td>False</td>\n",
       "      <td>False</td>\n",
       "      <td>False</td>\n",
       "      <td>False</td>\n",
       "      <td>False</td>\n",
       "      <td>True</td>\n",
       "      <td>False</td>\n",
       "      <td>False</td>\n",
       "      <td>False</td>\n",
       "      <td>False</td>\n",
       "      <td>False</td>\n",
       "    </tr>\n",
       "  </tbody>\n",
       "</table>\n",
       "</div>"
      ],
      "text/plain": [
       "                cc_num     amt  city_pop   dob  is_fraud     amt_z  cat_amt_z  \\\n",
       "0         630423337322  107.23       149  1978         0  0.321302   0.317631   \n",
       "1  4956828990005111019   44.71    124967  1980         0 -0.114637  -0.652060   \n",
       "2      180048185037117   46.28     71485  1974         0 -0.361802  -0.723328   \n",
       "3      374930071163758   64.09     31515  1971         0 -0.001304   0.211780   \n",
       "4     2712209726293386   25.58    378909  1977         0 -0.393828  -0.575698   \n",
       "\n",
       "   hour_perc   distance    dist_z  category_food_dining  \\\n",
       "0   0.196470  30.216618 -1.475224                 False   \n",
       "1   0.214383  84.714605  0.345370                 False   \n",
       "2   0.217252  67.768167 -0.272693                 False   \n",
       "3   0.213600  22.322745 -1.824486                 False   \n",
       "4   0.202882  79.398244  0.002138                 False   \n",
       "\n",
       "   category_gas_transport  category_grocery_net  category_grocery_pos  \\\n",
       "0                   False                 False                  True   \n",
       "1                   False                 False                  True   \n",
       "2                   False                  True                 False   \n",
       "3                   False                 False                  True   \n",
       "4                   False                 False                 False   \n",
       "\n",
       "   category_health_fitness  category_home  category_kids_pets  \\\n",
       "0                    False          False               False   \n",
       "1                    False          False               False   \n",
       "2                    False          False               False   \n",
       "3                    False          False               False   \n",
       "4                    False          False               False   \n",
       "\n",
       "   category_misc_net  category_misc_pos  category_personal_care  \\\n",
       "0              False              False                   False   \n",
       "1              False              False                   False   \n",
       "2              False              False                   False   \n",
       "3              False              False                   False   \n",
       "4              False               True                   False   \n",
       "\n",
       "   category_shopping_net  category_shopping_pos  category_travel  gender_M  \n",
       "0                  False                  False            False     False  \n",
       "1                  False                  False            False      True  \n",
       "2                  False                  False            False     False  \n",
       "3                  False                  False            False      True  \n",
       "4                  False                  False            False     False  "
      ]
     },
     "execution_count": 72,
     "metadata": {},
     "output_type": "execute_result"
    }
   ],
   "source": [
    "cc_df.head()"
   ]
  },
  {
   "cell_type": "markdown",
   "id": "f4556628",
   "metadata": {},
   "source": [
    "📚 왜 제거하나?\n",
    "\n",
    "1️⃣ 원-핫 인코딩 후: 이미 cc_num 기준으로 파생 feature (ex: 거리 평균/표준편차 등) 만들었음\n",
    "→ cc_num 자체는 더 이상 쓸 의미 없음\n",
    "\n",
    "2️⃣ 식별자 변수는 모델이 학습하면 overfitting 가능성\n",
    "→ \"카드번호만 외워서\" 결과 예측하게 됨 → 일반화 성능 나빠짐\n",
    "\n",
    "3️⃣ 데이터 보호/보안 이유\n",
    "→ 카드번호는 개인정보라 → 학습할 때는 빼는 게 좋음"
   ]
  },
  {
   "cell_type": "code",
   "execution_count": 73,
   "id": "0c43d0c8",
   "metadata": {},
   "outputs": [],
   "source": [
    "# 이제 불필요해진 cc_num 컬럼을 제거합니다.\n",
    "\n",
    "cc_df.drop('cc_num', axis = 1, inplace = True)"
   ]
  },
  {
   "cell_type": "markdown",
   "id": "557b2859",
   "metadata": {},
   "source": [
    "사기 탐지 성능 향상 지표"
   ]
  },
  {
   "cell_type": "code",
   "execution_count": 74,
   "id": "9b2db2f1",
   "metadata": {},
   "outputs": [
    {
     "name": "stdout",
     "output_type": "stream",
     "text": [
      "상위 10개 중요 Feature:\n",
      "                 feature  importance\n",
      "4              cat_amt_z    0.236683\n",
      "0                    amt    0.191920\n",
      "3                  amt_z    0.128437\n",
      "5              hour_perc    0.114574\n",
      "7                 dist_z    0.067923\n",
      "6               distance    0.067036\n",
      "1               city_pop    0.047082\n",
      "2                    dob    0.046442\n",
      "11  category_grocery_pos    0.038716\n",
      "21              gender_M    0.011401\n"
     ]
    }
   ],
   "source": [
    "# Feature 중요도 분석 (Random Forest 기준)\n",
    "from sklearn.ensemble import RandomForestClassifier\n",
    "\n",
    "X = cc_df.drop('is_fraud', axis=1)\n",
    "y = cc_df['is_fraud']\n",
    "\n",
    "rf = RandomForestClassifier(n_estimators=100, random_state=42)\n",
    "rf.fit(X, y)\n",
    "\n",
    "# Feature 중요도 출력\n",
    "feature_importance = pd.DataFrame({\n",
    "    'feature': X.columns,\n",
    "    'importance': rf.feature_importances_\n",
    "}).sort_values('importance', ascending=False)\n",
    "\n",
    "print(\"상위 10개 중요 Feature:\")\n",
    "print(feature_importance.head(10))\n"
   ]
  },
  {
   "cell_type": "markdown",
   "id": "dc66dc6b",
   "metadata": {},
   "source": [
    "실무용 통합 함수"
   ]
  },
  {
   "cell_type": "code",
   "execution_count": 77,
   "id": "d43791ef",
   "metadata": {},
   "outputs": [
    {
     "name": "stdout",
     "output_type": "stream",
     "text": [
      "최종 데이터 shape: (491134, 23)\n",
      "최종 컬럼들: ['amt', 'lat', 'long', 'city_pop', 'merch_lat', 'merch_long', 'is_fraud', 'amt_z', 'age', 'category_food_dining', 'category_gas_transport', 'category_grocery_net', 'category_grocery_pos', 'category_health_fitness', 'category_home', 'category_kids_pets', 'category_misc_net', 'category_misc_pos', 'category_personal_care', 'category_shopping_net', 'category_shopping_pos', 'category_travel', 'gender_M']\n"
     ]
    }
   ],
   "source": [
    "def fraud_feature_engineering(df):\n",
    "    \"\"\"\n",
    "    신용거래 이상탐지를 위한 통합 Feature Engineering 함수\n",
    "    \"\"\"\n",
    "    # 1. 불필요한 컬럼 제거\n",
    "    drop_cols = ['merchant', 'first', 'last', 'street', 'city', 'state',\n",
    "                 'zip', 'job', 'trans_num', 'unix_time']\n",
    "    df = df.drop(drop_cols, axis=1)\n",
    "\n",
    "    # 2. 구매금액 Z-Score\n",
    "    amt_stats = df.groupby('cc_num')['amt'].agg(['mean', 'std']).reset_index()\n",
    "    df = df.merge(amt_stats, on='cc_num', how='left')\n",
    "    df['amt_z'] = (df['amt'] - df['mean']) / df['std']\n",
    "    df = df.drop(['mean', 'std'], axis=1)\n",
    "\n",
    "    # 3. 시간 Feature\n",
    "    df['trans_date_trans_time'] = pd.to_datetime(df['trans_date_trans_time'])\n",
    "    df['hour'] = df['trans_date_trans_time'].dt.hour\n",
    "    df['hour_cat'] = df['hour'].apply(categorize_hour)\n",
    "\n",
    "    # 4. 나이 계산\n",
    "    df['dob'] = pd.to_datetime(df['dob'])\n",
    "    df['age'] = 2020 - df['dob'].dt.year\n",
    "\n",
    "    # 5. One-Hot Encoding\n",
    "    df = pd.get_dummies(df, columns=['category', 'gender'], drop_first=True)\n",
    "\n",
    "    # 6. 최종 정리\n",
    "    df = df.drop(['cc_num', 'trans_date_trans_time', 'hour', 'hour_cat', 'dob'], axis=1)\n",
    "\n",
    "    return df\n",
    "\n",
    "def categorize_hour(hour):\n",
    "    \"\"\"시간대 분류 함수\"\"\"\n",
    "    if 6 <= hour < 12:\n",
    "        return 'morning'\n",
    "    elif 12 <= hour < 18:\n",
    "        return 'afternoon'\n",
    "    elif 18 <= hour < 23:\n",
    "        return 'night'\n",
    "    else:\n",
    "        return 'evening'\n",
    "\n",
    "# 사용 예시\n",
    "df = pd.read_csv('./data/fraud.csv')\n",
    "processed_df = fraud_feature_engineering(df.copy())\n",
    "print(f\"최종 데이터 shape: {processed_df.shape}\")\n",
    "print(f\"최종 컬럼들: {processed_df.columns.tolist()}\")\n"
   ]
  },
  {
   "cell_type": "code",
   "execution_count": null,
   "id": "2f042187",
   "metadata": {},
   "outputs": [],
   "source": []
  }
 ],
 "metadata": {
  "colab": {
   "provenance": [
    {
     "file_id": "17_zQEL30rhrWbx0PlZytNLXa0iAOIA0J",
     "timestamp": 1702373701001
    }
   ]
  },
  "kernelspec": {
   "display_name": "base",
   "language": "python",
   "name": "python3"
  },
  "language_info": {
   "codemirror_mode": {
    "name": "ipython",
    "version": 3
   },
   "file_extension": ".py",
   "mimetype": "text/x-python",
   "name": "python",
   "nbconvert_exporter": "python",
   "pygments_lexer": "ipython3",
   "version": "3.11.7"
  }
 },
 "nbformat": 4,
 "nbformat_minor": 5
}
